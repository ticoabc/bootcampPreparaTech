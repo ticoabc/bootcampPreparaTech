{
  "nbformat": 4,
  "nbformat_minor": 0,
  "metadata": {
    "colab": {
      "provenance": [],
      "collapsed_sections": [
        "G8yJ97hupkPz",
        "CC2hPLUY5lCa",
        "SVezKMQ08brL",
        "NWLcgNtyprDC"
      ],
      "include_colab_link": true
    },
    "kernelspec": {
      "name": "python3",
      "display_name": "Python 3"
    },
    "language_info": {
      "name": "python"
    }
  },
  "cells": [
    {
      "cell_type": "markdown",
      "metadata": {
        "id": "view-in-github",
        "colab_type": "text"
      },
      "source": [
        "<a href=\"https://colab.research.google.com/github/ticoabc/bootcampPreparaTech/blob/main/AtividadeGrupo3.ipynb\" target=\"_parent\"><img src=\"https://colab.research.google.com/assets/colab-badge.svg\" alt=\"Open In Colab\"/></a>"
      ]
    },
    {
      "cell_type": "markdown",
      "source": [
        "##Create"
      ],
      "metadata": {
        "id": "G8yJ97hupkPz"
      }
    },
    {
      "cell_type": "code",
      "execution_count": null,
      "metadata": {
        "id": "fJwGIz1DlsKT"
      },
      "outputs": [],
      "source": [
        "funcionarios = {\n",
        "    '123456': {'nome': 'João Silva', 'cpf': '123.456.789-00', 'idade': 30, 'escolaridade': 'Ensino Superior', 'cidade': 'São Paulo', 'estado': 'SP', 'cargo': 'Analista', 'salario': 5000.00},\n",
        "    '234567': {'nome': 'Maria Oliveira', 'cpf': '234.567.890-11', 'idade': 28, 'escolaridade': 'Ensino Médio', 'cidade': 'Rio de Janeiro', 'estado': 'RJ', 'cargo': 'Assistente', 'salario': 3500.00},\n",
        "    '345678': {'nome': 'Carlos Santos', 'cpf': '345.678.901-22', 'idade': 35, 'escolaridade': 'Ensino Superior', 'cidade': 'Belo Horizonte', 'estado': 'MG', 'cargo': 'Gerente', 'salario': 8000.00},\n",
        "    '456789': {'nome': 'Ana Pereira', 'cpf': '456.789.012-33', 'idade': 32, 'escolaridade': 'Ensino Médio', 'cidade': 'Porto Alegre', 'estado': 'RS', 'cargo': 'Analista', 'salario': 5200.00},\n",
        "    '567890': {'nome': 'Ricardo Lima', 'cpf': '567.890.123-44', 'idade': 28, 'escolaridade': 'Ensino Superior', 'cidade': 'Salvador', 'estado': 'BA', 'cargo': 'Desenvolvedor', 'salario': 6000.00},\n",
        "    '678901': {'nome': 'Fernanda Almeida', 'cpf': '678.901.234-55', 'idade': 31, 'escolaridade': 'Ensino Médio', 'cidade': 'Curitiba', 'estado': 'PR', 'cargo': 'Assistente', 'salario': 3800.00},\n",
        "    '789012': {'nome': 'Roberto Costa', 'cpf': '789.012.345-66', 'idade': 40, 'escolaridade': 'Ensino Superior', 'cidade': 'Recife', 'estado': 'PE', 'cargo': 'Gerente', 'salario': 8500.00},\n",
        "    '890123': {'nome': 'Isabel Martins', 'cpf': '890.123.456-77', 'idade': 29, 'escolaridade': 'Ensino Médio', 'cidade': 'Fortaleza', 'estado': 'CE', 'cargo': 'Analista', 'salario': 5300.00},\n",
        "    '901234': {'nome': 'Lucas Oliveira', 'cpf': '901.234.567-88', 'idade': 33, 'escolaridade': 'Ensino Superior', 'cidade': 'Manaus', 'estado': 'AM', 'cargo': 'Desenvolvedor', 'salario': 6200.00},\n",
        "    '012345': {'nome': 'Cristina Lima', 'cpf': '012.345.678-99', 'idade': 27, 'escolaridade': 'Ensino Médio', 'cidade': 'Brasília', 'estado': 'DF', 'cargo': 'Assistente', 'salario': 3600.00}\n",
        "}\n",
        "\n",
        "def cadastra_usuario(funcionarios):\n",
        "    funcionario = {}\n",
        "    funcionario['nome'] = input(\"Digite o nome do funcionário: \")\n",
        "    funcionario['cpf'] = input(\"Digite o CPF: \")\n",
        "    funcionario['idade'] = int(input(\"Digite a idade: \"))\n",
        "    funcionario['escolaridade'] = input(\"Digite a escolaridade: \")\n",
        "    funcionario['cidade'] = input(\"Digite a cidade: \")\n",
        "    funcionario['estado'] = input(\"Digite o estado: \")\n",
        "    funcionario['cargo'] = input(\"Digite o cargo: \")\n",
        "    funcionario['salario'] = float(input(\"Digite o salário: \"))\n",
        "\n",
        "    matricula = funcionario['cpf'][:6]\n",
        "    funcionarios[matricula] = funcionario\n",
        "    print(f'O funcionário {funcionario[\"nome\"]} foi cadastrado com a matrícula {matricula}.')"
      ]
    },
    {
      "cell_type": "code",
      "source": [
        "#cadastra_usuario(funcionarios) #Usuários gerados anteriormente"
      ],
      "metadata": {
        "id": "8vfyoM3MmGWr"
      },
      "execution_count": null,
      "outputs": []
    },
    {
      "cell_type": "markdown",
      "source": [
        "##Read"
      ],
      "metadata": {
        "id": "CC2hPLUY5lCa"
      }
    },
    {
      "cell_type": "code",
      "source": [
        "def busca_funcionario(funcionarios):\n",
        "    matricula = input('Digite a matrícula do funcionário para pesquisar: ')\n",
        "    if matricula in funcionarios:\n",
        "        print(f'Funcionário {matricula}')\n",
        "        print(f\"Nome: {funcionarios[matricula]['nome']}\")\n",
        "        print(f\"CPF: {funcionarios[matricula]['cpf']}\")\n",
        "        print(f\"Idade: {funcionarios[matricula]['idade']}\")\n",
        "        print(f\"Endereço: {funcionarios[matricula]['cidade']} - {funcionarios[matricula]['estado']}\")\n",
        "        print(f\"Cargo: {funcionarios[matricula]['cargo']}\")\n",
        "        print(f\"Salário: R$ {funcionarios[matricula]['salario']:.2f}\")\n",
        "    else:\n",
        "      print(f'O funcionário com matricula {matricula} não encontrado!.')"
      ],
      "metadata": {
        "id": "CIyp61AV5o_B"
      },
      "execution_count": null,
      "outputs": []
    },
    {
      "cell_type": "code",
      "source": [
        "busca_funcionario(funcionarios)"
      ],
      "metadata": {
        "id": "ebmrC8oo5tnI"
      },
      "execution_count": null,
      "outputs": []
    },
    {
      "cell_type": "markdown",
      "source": [
        "##Update"
      ],
      "metadata": {
        "id": "SVezKMQ08brL"
      }
    },
    {
      "cell_type": "code",
      "source": [
        "def atualizar_funcionario(funcionarios):\n",
        "  matricula = (input(\"Digite a matrícula do funcionário que deseja atualizar: \"))\n",
        "  if matricula in funcionarios:\n",
        "    print(f'Escolha o campo a ser atualizado para o funcionário {funcionarios[matricula][\"nome\"]}:')\n",
        "    print(\"1.Nome\")\n",
        "    print(\"2.Idade\")\n",
        "    print(\"3.Escolaridade\")\n",
        "    print(\"4.Cidade\")\n",
        "    print(\"5.Estado\")\n",
        "    print(\"6.Cargo\")\n",
        "    print(\"7.Salário\")\n",
        "\n",
        "    op = int(input(\"Digite o que deseja atualizar: \"))\n",
        "\n",
        "    if op == 1:\n",
        "      funcionarios[matricula]['nome'] = input(\"Digite o nome do funcionário: \")\n",
        "    elif op == 2:\n",
        "      funcionarios[matricula]['idade'] = int(input(\"Digite a idade: \"))\n",
        "    elif op == 3:\n",
        "      funcionarios[matricula]['escolaridade'] = input(\"Digite a escolaridade: \")\n",
        "    elif op == 4:\n",
        "      funcionarios[matricula]['cidade'] = input(\"Digite a cidade: \")\n",
        "    elif op == 5:\n",
        "      funcionarios[matricula]['estado'] = input(\"Digite o estado: \")\n",
        "    elif op == 6:\n",
        "      funcionarios[matricula]['cargo'] = input(\"Digite o cargo: \")\n",
        "    elif op == 7:\n",
        "      funcionarios[matricula]['salario'] = float(input(\"Digite o salário: \"))\n",
        "    else:\n",
        "      print(\"Opção inválida. Nenhum campo foi atualizado.\")\n",
        "    print(f'O funcionário foi atualizado com sucesso!.')\n",
        "  else:\n",
        "      print(f'O funcionário com matricula {matricula} não encontrado!.')"
      ],
      "metadata": {
        "id": "koOmSTvxDysk"
      },
      "execution_count": null,
      "outputs": []
    },
    {
      "cell_type": "code",
      "source": [
        "atualizar_funcionario(funcionarios)"
      ],
      "metadata": {
        "colab": {
          "base_uri": "https://localhost:8080/"
        },
        "id": "SBDZgCTLCWcw",
        "outputId": "aeb0c165-498f-4bb6-ca14-1250c420568f"
      },
      "execution_count": null,
      "outputs": [
        {
          "output_type": "stream",
          "name": "stdout",
          "text": [
            "Digite a matrícula do funcionário que deseja atualizar: 234567\n",
            "Escolha o campo a ser atualizado para o funcionário Maria Oliveira:\n",
            "1.Nome\n",
            "2.Idade\n",
            "3.Escolaridade\n",
            "4.Cidade\n",
            "5.Estado\n",
            "6.Cargo\n",
            "7.Salário\n",
            "Digite o que deseja atualizar: 7\n",
            "Digite o salário: 3500\n",
            "O funcionário foi atualizado com sucesso!.\n"
          ]
        }
      ]
    },
    {
      "cell_type": "markdown",
      "source": [
        "##delete"
      ],
      "metadata": {
        "id": "NWLcgNtyprDC"
      }
    },
    {
      "cell_type": "code",
      "source": [
        "#Cria função de exclusão de funcionário\n",
        "def excluir(funcionarios):\n",
        "    matricula = input('Digite a matrícula do funcionário que deseja excluir: ')\n",
        "    if matricula in funcionarios:\n",
        "        print(f'Você excluiu o funcionário de nome {funcionarios[matricula][\"nome\"]}.')\n",
        "        del funcionarios[matricula]\n",
        "    else:\n",
        "        print(f\"Nenhum funcionário encontrado com a matrícula nº {matricula}.\")"
      ],
      "metadata": {
        "id": "_kU77KOGXfeE"
      },
      "execution_count": null,
      "outputs": []
    },
    {
      "cell_type": "code",
      "source": [
        "excluir(funcionarios)"
      ],
      "metadata": {
        "id": "5JWG2vF9XyXj"
      },
      "execution_count": null,
      "outputs": []
    }
  ]
}