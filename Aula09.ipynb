{
  "nbformat": 4,
  "nbformat_minor": 0,
  "metadata": {
    "colab": {
      "provenance": [],
      "authorship_tag": "ABX9TyNvqs6TM5o4iRwACNdASMx4",
      "include_colab_link": true
    },
    "kernelspec": {
      "name": "python3",
      "display_name": "Python 3"
    },
    "language_info": {
      "name": "python"
    }
  },
  "cells": [
    {
      "cell_type": "markdown",
      "metadata": {
        "id": "view-in-github",
        "colab_type": "text"
      },
      "source": [
        "<a href=\"https://colab.research.google.com/github/ticoabc/bootcampPreparaTech/blob/main/Aula09.ipynb\" target=\"_parent\"><img src=\"https://colab.research.google.com/assets/colab-badge.svg\" alt=\"Open In Colab\"/></a>"
      ]
    },
    {
      "cell_type": "markdown",
      "source": [
        "#**Aula 09 - Douglas Ribeiro**"
      ],
      "metadata": {
        "id": "anA2hbucjtsq"
      }
    },
    {
      "cell_type": "markdown",
      "source": [
        "## *Módulos*"
      ],
      "metadata": {
        "id": "kqZh4B6bkBfF"
      }
    },
    {
      "cell_type": "markdown",
      "source": [
        "*Exemplo1. Módulo criado para teste*"
      ],
      "metadata": {
        "id": "5jFPTbk4fU96"
      }
    },
    {
      "cell_type": "code",
      "execution_count": null,
      "metadata": {
        "id": "_eJ9ReVpjGgm"
      },
      "outputs": [],
      "source": [
        "# 1º Exemplo\n",
        "# Módulo criado para teste\n",
        "import teste as sd\n",
        "import teste2 as t2"
      ]
    },
    {
      "cell_type": "markdown",
      "source": [
        "*Exemplo2. Crie um módulo com 6 funções diferentes, e salve como arquivo .py e após isso abra um novo colab e teste as seis funções definidas pelo usuário*"
      ],
      "metadata": {
        "id": "hiU1LH-arYMF"
      }
    },
    {
      "cell_type": "code",
      "source": [
        "import exemplo1 as bsk"
      ],
      "metadata": {
        "id": "dIaNLcfmukw4"
      },
      "execution_count": null,
      "outputs": []
    },
    {
      "cell_type": "markdown",
      "source": [
        "*Exercício3. Crie um módulo com 6 funções diferentes, e salve como arquivo .py e após isso abra um novo colab e teste as seis funções definidas pelo usuário*"
      ],
      "metadata": {
        "id": "ce5s0EkHAZBV"
      }
    },
    {
      "cell_type": "code",
      "source": [
        "import exercicio2 as e2"
      ],
      "metadata": {
        "id": "VZoN6sWOBTkB"
      },
      "execution_count": null,
      "outputs": []
    },
    {
      "cell_type": "markdown",
      "source": [
        "## *Módulo Numpy*"
      ],
      "metadata": {
        "id": "C5eHw6cDwtzL"
      }
    },
    {
      "cell_type": "code",
      "source": [
        "import numpy as np"
      ],
      "metadata": {
        "id": "ih9OE8pWwxr8"
      },
      "execution_count": null,
      "outputs": []
    },
    {
      "cell_type": "code",
      "source": [
        "#Exemplo 1\n",
        "notas = [5,6,7,8,9]\n",
        "media = np.mean(notas)\n",
        "#print(media)\n",
        "print(f'A média das notas é {media:.1f}.')\n",
        "desvio = np.std(notas)#Desvio da população\n",
        "desvio2 = np.std(notas,ddof=1)#Desvio da amostra\n",
        "#print(desvio)#Desvio da população\n",
        "#print(desvio2)#Desvio da amostra\n",
        "print(f'O desvio padrão da população é: {desvio:.3f}')\n",
        "print(f'O desvio padrão da amostra é: {desvio2:.3f}')"
      ],
      "metadata": {
        "id": "MlU-14na3WVI",
        "colab": {
          "base_uri": "https://localhost:8080/"
        },
        "outputId": "e8be4699-9010-4983-a0dd-ae67f2b9e87d"
      },
      "execution_count": 22,
      "outputs": [
        {
          "output_type": "stream",
          "name": "stdout",
          "text": [
            "A média das notas é 7.0.\n",
            "O desvio padrão da população é: 1.414\n",
            "O desvio padrão da amostra é: 1.581\n"
          ]
        }
      ]
    },
    {
      "cell_type": "markdown",
      "source": [
        "*Exercício1. Elabore um programa que receba do usuário uma string com n notas\n",
        "e a transforme em uma lista com as notas separadas e tipadas como float, e\n",
        "após isso calcule a média e o desvio padrão, usando a biblioteca numpy, e no\n",
        "final apresente os valores de média e desvio padrão.*"
      ],
      "metadata": {
        "id": "Yf_7xQlv6VEt"
      }
    },
    {
      "cell_type": "code",
      "source": [
        "dados = input('Informe a notas de 0 a 10 separadas por espaços: ')\n",
        "notas = dados.split()\n",
        "for i in range(len(notas)):\n",
        "  notas[i] = float(notas[i])\n",
        "media = np.mean(notas)\n",
        "print(f'A média das notas é {media:.2f}')\n",
        "desvio = np.std(notas)#Desvio da população\n",
        "desvio2 = np.std(notas,ddof=1)#Desvio da amostra\n",
        "print(f'O desvio padrão da população é: {desvio:.3f}')\n",
        "print(f'O desvio padrão da amostra é: {desvio2:.3f}')"
      ],
      "metadata": {
        "colab": {
          "base_uri": "https://localhost:8080/"
        },
        "id": "jiQ_dnaf6uGF",
        "outputId": "a81ddb46-1e50-4c44-94b7-acbbc4101764"
      },
      "execution_count": 23,
      "outputs": [
        {
          "output_type": "stream",
          "name": "stdout",
          "text": [
            "Informe a notas de 0 a 10 separadas por espaços: 5 6 7 8 9\n",
            "A média das notas é 7.00\n",
            "O desvio padrão da população é: 1.414\n",
            "O desvio padrão da amostra é: 1.581\n"
          ]
        }
      ]
    }
  ]
}