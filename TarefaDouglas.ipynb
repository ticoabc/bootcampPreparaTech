{
  "nbformat": 4,
  "nbformat_minor": 0,
  "metadata": {
    "colab": {
      "provenance": [],
      "authorship_tag": "ABX9TyN14+R2NQwsd1kwXc8DwtU6",
      "include_colab_link": true
    },
    "kernelspec": {
      "name": "python3",
      "display_name": "Python 3"
    },
    "language_info": {
      "name": "python"
    }
  },
  "cells": [
    {
      "cell_type": "markdown",
      "metadata": {
        "id": "view-in-github",
        "colab_type": "text"
      },
      "source": [
        "<a href=\"https://colab.research.google.com/github/ticoabc/bootcampPreparaTech/blob/main/TarefaDouglas.ipynb\" target=\"_parent\"><img src=\"https://colab.research.google.com/assets/colab-badge.svg\" alt=\"Open In Colab\"/></a>"
      ]
    },
    {
      "cell_type": "markdown",
      "source": [
        "Crie um sistema que receba do usuário o nome de um aluno e armazene em uma variável chamada **nome**, e em outro input receba também uma sequência de notas separadas por espaços e armazene em uma variável chamada **dados**. Utilizando os métodos de strings aprendidos em sala de aula transforme a variável dados em uma **lista chamada notas** que contenha as notas informadas pelo usuário. Após isso, **converta cada nota da lista em tipo float.** Crie uma variável chamada **media** que receba o cálculo da média das notas informadas pelo usuário. Use uma estrutura condicional para realizar o print da seguinte forma: **Se a média for maior ou igual a 7**, imprima o nome do aluno, sua nota média e o texto **aprovado**. Caso contrário imprima o nome do aluno, sua respectiva nota média e o texto **reprovado**."
      ],
      "metadata": {
        "id": "aHHxWLXJEqk6"
      }
    },
    {
      "cell_type": "code",
      "execution_count": null,
      "metadata": {
        "colab": {
          "base_uri": "https://localhost:8080/"
        },
        "id": "m2gFvD2FEgRU",
        "outputId": "06ac21ff-c963-4455-c494-c9222f2f78e2"
      },
      "outputs": [
        {
          "output_type": "stream",
          "name": "stdout",
          "text": [
            "Informe o seu nome:  Python\n",
            "Informe suas notas com espaços: 7 8 9 0\n",
            "O aluno:  Python obteve a média: 6.0 e está REPROVADO(a)!!\n"
          ]
        }
      ],
      "source": [
        "nome = input('Informe o seu nome: ')\n",
        "dados = input('Informe suas notas com espaços: ')\n",
        "lista_notas = dados.split()\n",
        "\n",
        "# Convertendo cada nota da lista (string) em um tipo float\n",
        "notas = [float(x) for x in lista_notas]\n",
        "# Contando as notas convertidas\n",
        "contagem_notas = len(notas)\n",
        "# Somando as notas convertidas\n",
        "soma_notas = sum(notas)\n",
        "# Calculando a média\n",
        "media = soma_notas / contagem_notas\n",
        "if media >= 7:\n",
        "  print(f\"O aluno: {nome} obteve a média: {media} e está APROVADO(a)!!\")\n",
        "else:\n",
        "  print(f\"O aluno: {nome} obteve a média: {media} e está REPROVADO(a)!!\")"
      ]
    }
  ]
}