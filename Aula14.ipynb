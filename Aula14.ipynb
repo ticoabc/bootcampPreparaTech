{
  "nbformat": 4,
  "nbformat_minor": 0,
  "metadata": {
    "colab": {
      "provenance": [],
      "include_colab_link": true
    },
    "kernelspec": {
      "name": "python3",
      "display_name": "Python 3"
    },
    "language_info": {
      "name": "python"
    }
  },
  "cells": [
    {
      "cell_type": "markdown",
      "metadata": {
        "id": "view-in-github",
        "colab_type": "text"
      },
      "source": [
        "<a href=\"https://colab.research.google.com/github/ticoabc/bootcampPreparaTech/blob/main/Aula14.ipynb\" target=\"_parent\"><img src=\"https://colab.research.google.com/assets/colab-badge.svg\" alt=\"Open In Colab\"/></a>"
      ]
    },
    {
      "cell_type": "markdown",
      "source": [
        "## **Aula 14 - Douglas Ribeiro**\n",
        "*douglas.ribeiro@soulcode.com*"
      ],
      "metadata": {
        "id": "iLwdB0Nkq8sB"
      }
    },
    {
      "cell_type": "markdown",
      "source": [
        "#1.Instalação do pacote mysql-connector-python usando o gerenciador de pacotes pip#"
      ],
      "metadata": {
        "id": "E15donP5rWYm"
      }
    },
    {
      "cell_type": "code",
      "execution_count": null,
      "metadata": {
        "id": "6LlxImcIqR3t"
      },
      "outputs": [],
      "source": [
        "!pip install mysql-connector-python"
      ]
    },
    {
      "cell_type": "markdown",
      "source": [
        "#2.Importação das bibliotecas necessárias#\n",
        "\n",
        "\n",
        "1.   import mysql.connector # necessária para se conectar com o banco de dados MySQL\n",
        "2.   import pandas as pd # Será usada para visualização das tabelas extraídas do My SQL\n",
        "\n"
      ],
      "metadata": {
        "id": "e8ZtUjHWsT0I"
      }
    },
    {
      "cell_type": "code",
      "source": [
        "import mysql.connector # necessária para se conectar com o banco de dados MySQL\n",
        "import pandas as pd # Será usada para visualização das tabelas extraídas do My SQL"
      ],
      "metadata": {
        "id": "EwUyJocLsBvQ"
      },
      "execution_count": null,
      "outputs": []
    },
    {
      "cell_type": "markdown",
      "source": [
        "#3.Definição das informações de conexão ao banco de dados#\n",
        "\n",
        "\n",
        ">1.   Local\n",
        "2.   Usuário\n",
        "3.   Senha\n",
        "4.   Banco de Dados\n",
        "\n"
      ],
      "metadata": {
        "id": "sKzEHGwkuDwi"
      }
    },
    {
      "cell_type": "code",
      "source": [
        "host = 'gcp.connect.psdb.cloud'#Endereço\n",
        "user = '6uv2uczi3f9vc7fltgo7'#user\n",
        "password = 'pscale_pw_xI3UINJGd5X5Db5jkRa83wOs1vWuCx7xd8GXfctvBMC'#senha\n",
        "database = 'loja'#banco de dados"
      ],
      "metadata": {
        "id": "Rzg7buZHtKsF"
      },
      "execution_count": null,
      "outputs": []
    },
    {
      "cell_type": "markdown",
      "source": [
        "#4.Estabelecimento da conexão com o banco de dados usando as informações fornecidas#"
      ],
      "metadata": {
        "id": "j4IcqScPud1U"
      }
    },
    {
      "cell_type": "code",
      "source": [
        "# Estabelecimento da conexão com o banco de dados usando as informações fornecidas\n",
        "connection = mysql.connector.connect(\n",
        "    host=host,\n",
        "    user=user,\n",
        "    password=password,\n",
        "    database=database,\n",
        ")"
      ],
      "metadata": {
        "id": "KvU-3BVYubPh"
      },
      "execution_count": null,
      "outputs": []
    },
    {
      "cell_type": "markdown",
      "source": [
        "#5.Objetivo: Fazer uma consulta que retorne as tabelas do banco de dados loja#\n",
        "> Resumo do comando: exibe todas as tabelas do banco de dados loja\n",
        "\n"
      ],
      "metadata": {
        "id": "DOYQZy19xFi0"
      }
    },
    {
      "cell_type": "code",
      "source": [
        "cursor = connection.cursor() # Criação de um cursor para executar consultas SQL no banco de dados\n",
        "query = 'SHOW TABLES;' # Definição da consulta SQL a ser executada\n",
        "cursor.execute(query) # Execução da consulta no banco de dados\n",
        "result = cursor.fetchall() # Recuperação de todos os resultados da consulta\n",
        "tables = pd.DataFrame(result, columns=cursor.column_names) # Criação de um DataFrame Pandas usando os resultados da consulta e os nomes das colunas do cursor\n",
        "display(tables) # Exibição do DataFrame Pandas contendo os resultados da consulta\n",
        "cursor.close() # Fechamento do cursor após a conclusão da consulta\n",
        "connection.close() # Fechamento da conexão após a consulta"
      ],
      "metadata": {
        "id": "vtUskaIaxDiB"
      },
      "execution_count": null,
      "outputs": []
    },
    {
      "cell_type": "markdown",
      "source": [
        "#6.Objetivo: Fazer uma consulta que retorne todos os campos e todos os registros da tabela Cliente#\n",
        ">Resumo do comando: Seleciona todas as colunas da tabela: Cliente e armazena os resultados da consulta em um dataframe Pandas chamado clientes"
      ],
      "metadata": {
        "id": "DVncb69C33Tu"
      }
    },
    {
      "cell_type": "code",
      "source": [
        "# Estabelecimento da conexão com o banco de dados usando as informações fornecidas\n",
        "connection = mysql.connector.connect(\n",
        "    host=host,\n",
        "    user=user,\n",
        "    password=password,\n",
        "    database=database,\n",
        ")\n",
        "cursor = connection.cursor() # Criação de um cursor para executar consultas SQL no banco de dados\n",
        "query = 'SELECT * FROM Cliente' # Definição da consulta SQL a ser executada\n",
        "cursor.execute(query) # Execução da consulta no banco de dados\n",
        "result = cursor.fetchall() # Recuperação de todos os resultados da consulta\n",
        "clientes = pd.DataFrame(result, columns=cursor.column_names) # Criação de um DataFrame Pandas usando os resultados da consulta e os nomes das colunas do cursor\n",
        "display(clientes) # Exibição do DataFrame Pandas contendo os resultados da consulta\n",
        "cursor.close() # Fechamento do cursor após a conclusão da consulta\n",
        "connection.close() # Fechamento da conexão após a consulta"
      ],
      "metadata": {
        "id": "KzuY0XRf38sh"
      },
      "execution_count": null,
      "outputs": []
    },
    {
      "cell_type": "markdown",
      "source": [
        "#7.Objetivo: Fazer uma consulta que retorne todos os campos e todos os registros da tabela Pedido#\n",
        ">Resumo do comando: Seleciona todas as colunas da tabela: Pedido e armazena\n",
        "os resultados da consulta em um dataframe Pandas chamado pedidos"
      ],
      "metadata": {
        "id": "6XnwUn1O7g4t"
      }
    },
    {
      "cell_type": "code",
      "source": [
        "# Abertura da conexão para uma nova consulta\n",
        "connection = mysql.connector.connect(\n",
        "    host=host,\n",
        "    user=user,\n",
        "    password=password,\n",
        "    database=database,\n",
        ")\n",
        "cursor = connection.cursor() # Criação de um cursor para executar consultas SQL no banco de dados\n",
        "query = 'SELECT * FROM Pedido;' # Definição da consulta SQL a ser executada\n",
        "cursor.execute(query) # Execução da consulta no banco de dados\n",
        "result = cursor.fetchall() # Recuperação de todos os resultados da consulta\n",
        "pedidos = pd.DataFrame(result, columns=cursor.column_names) # Criação de um DataFrame Pandas usando os resultados da consulta e os nomes das colunas do cursor\n",
        "display(pedidos) # Exibição do DataFrame Pandas contendo os resultados da consulta\n",
        "cursor.close() # Fechamento do cursor após a conclusão da consulta\n",
        "connection.close() # Fechamento da conexão após a consulta"
      ],
      "metadata": {
        "id": "OoezHdnZ4NPy"
      },
      "execution_count": null,
      "outputs": []
    },
    {
      "cell_type": "markdown",
      "source": [
        "#8.Objetivo: Fazer uma consulta que retorne todos os campos e todos os registros da tabela Produto#\n",
        ">Resumo do comando: Seleciona todas as colunas da tabela: Produto e armazena os resultados da consulta em um dataframe Pandas chamado produtos"
      ],
      "metadata": {
        "id": "8SET3ACY754k"
      }
    },
    {
      "cell_type": "code",
      "source": [
        "# Abertura da conexão para uma nova consulta\n",
        "connection = mysql.connector.connect(\n",
        "    host=host,\n",
        "    user=user,\n",
        "    password=password,\n",
        "    database=database,\n",
        ")\n",
        "cursor = connection.cursor() # Criação de um cursor para executar consultas SQL no banco de dados\n",
        "query = 'SELECT * FROM Produto;' # Definição da consulta SQL a ser executada\n",
        "cursor.execute(query) # Execução da consulta no banco de dados\n",
        "result = cursor.fetchall() # Recuperação de todos os resultados da consulta\n",
        "produtos = pd.DataFrame(result, columns=cursor.column_names) # Criação de um DataFrame Pandas usando os resultados da consulta e os nomes das colunas do cursor\n",
        "display(produtos) # Exibição do DataFrame Pandas contendo os resultados da consulta\n",
        "cursor.close() # Fechamento do cursor após a conclusão da consulta\n",
        "connection.close() # Fechamento da conexão após a consulta"
      ],
      "metadata": {
        "id": "OU3dQ7LA7x4K"
      },
      "execution_count": null,
      "outputs": []
    },
    {
      "cell_type": "markdown",
      "source": [
        "#9.Objetivo: Fazer uma consulta que retorne todos os campos e todos os registros da tabela ItemPedido#\n",
        ">Resumo do comando: Seleciona todas as colunas da tabela: ItemPedido e armazena os resultados da consulta em um dataframe Pandas chamado itempedido"
      ],
      "metadata": {
        "id": "b5ftwpGZ8S_h"
      }
    },
    {
      "cell_type": "code",
      "source": [
        "# Abertura da conexão para uma nova consulta\n",
        "connection = mysql.connector.connect(\n",
        "    host=host,\n",
        "    user=user,\n",
        "    password=password,\n",
        "    database=database,\n",
        ")\n",
        "cursor = connection.cursor() # Criação de um cursor para executar consultas SQL no banco de dados\n",
        "query = 'SELECT * FROM ItemPedido;' # Definição da consulta SQL a ser executada\n",
        "cursor.execute(query) # Execução da consulta no banco de dados\n",
        "result = cursor.fetchall() # Recuperação de todos os resultados da consulta\n",
        "itempedido = pd.DataFrame(result, columns=cursor.column_names) # Criação de um DataFrame Pandas usando os resultados da consulta e os nomes das colunas do cursor\n",
        "display(itempedido) # Exibição do DataFrame Pandas contendo os resultados da consulta\n",
        "cursor.close() # Fechamento do cursor após a conclusão da consulta\n",
        "connection.close() # Fechamento da conexão após a consulta"
      ],
      "metadata": {
        "id": "4K-w5b1e8Jkj"
      },
      "execution_count": null,
      "outputs": []
    },
    {
      "cell_type": "markdown",
      "source": [
        "#10.Objetivo: Fazer uma consulta que retorne todos os campos e todos os registros da tabela Categoria#\n",
        ">Resumo do comando: Seleciona todas as colunas da tabela: Categoria e armazena os resultados da consulta em um dataframe Pandas chamado categoria"
      ],
      "metadata": {
        "id": "q5q05Ory8vpL"
      }
    },
    {
      "cell_type": "code",
      "source": [
        "# Abertura da conexão para uma nova consulta\n",
        "connection = mysql.connector.connect(\n",
        "    host=host,\n",
        "    user=user,\n",
        "    password=password,\n",
        "    database=database,\n",
        ")\n",
        "cursor = connection.cursor() # Criação de um cursor para executar consultas SQL no banco de dados\n",
        "query = 'SELECT * FROM Categoria;' # Definição da consulta SQL a ser executada\n",
        "cursor.execute(query) # Execução da consulta no banco de dados\n",
        "result = cursor.fetchall() # Recuperação de todos os resultados da consulta\n",
        "categoria = pd.DataFrame(result, columns=cursor.column_names) # Criação de um DataFrame Pandas usando os resultados da consulta e os nomes das colunas do cursor\n",
        "display(categoria) # Exibição do DataFrame Pandas contendo os resultados da consulta\n",
        "cursor.close() # Fechamento do cursor após a conclusão da consulta\n",
        "connection.close() # Fechamento da conexão após a consulta"
      ],
      "metadata": {
        "id": "uHlNl4A28rMa"
      },
      "execution_count": null,
      "outputs": []
    },
    {
      "cell_type": "markdown",
      "source": [
        "#11.Objetivo: Fazer uma consulta que retorne todos os campos e todos os registros da tabela ProdutoCategoria#\n",
        ">Resumo do comando: Seleciona todas as colunas da tabela: ProdutoCategoria e armazena os resultados da consulta em um dataframe Pandas chamado produtocategoria"
      ],
      "metadata": {
        "id": "0FbjN-CZ9El6"
      }
    },
    {
      "cell_type": "code",
      "source": [
        "# Abertura da conexão para uma nova consulta\n",
        "connection = mysql.connector.connect(\n",
        "    host=host,\n",
        "    user=user,\n",
        "    password=password,\n",
        "    database=database,\n",
        ")\n",
        "cursor = connection.cursor()# Criação de um cursor para executar consultas SQL no banco de dados\n",
        "query = 'SELECT * FROM ProdutoCategoria;' # Definição da consulta SQL a ser executada\n",
        "cursor.execute(query) # Execução da consulta no banco de dados\n",
        "result = cursor.fetchall() # Recuperação de todos os resultados da consulta\n",
        "produtocategoria = pd.DataFrame(result, columns=cursor.column_names) # Criação de um DataFrame Pandas usando os resultados da consulta e os nomes das colunas do cursor\n",
        "display(produtocategoria) # Exibição do DataFrame Pandas contendo os resultados da consulta\n",
        "cursor.close() # Fechamento do cursor após a conclusão da consulta\n",
        "connection.close() # Fechamento da conexão após a consulta"
      ],
      "metadata": {
        "id": "m696KhQr8_6h"
      },
      "execution_count": null,
      "outputs": []
    },
    {
      "cell_type": "markdown",
      "source": [
        "#12.Objetivo: Fazer uma consulta que retorne todos os campos e todos os registros da tabela ItemPedido.#\n",
        ">Resumo do comando: Seleciona as colunas: id_produto e quantidade da tabela:\n",
        "ItemPedido, quando a quantidade for maior ou igual a 40 e armazena\n",
        "os resultados da consulta em um dataframe Pandas chamado where1"
      ],
      "metadata": {
        "id": "6vXAeTEACI3Y"
      }
    },
    {
      "cell_type": "code",
      "source": [
        "# Abertura da conexão para uma nova consulta\n",
        "connection = mysql.connector.connect(\n",
        "    host=host,\n",
        "    user=user,\n",
        "    password=password,\n",
        "    database=database,\n",
        ")\n",
        "cursor = connection.cursor() # Criação de um cursor para executar consultas SQL no banco de dados\n",
        "# Definição da consulta SQL a ser executada\n",
        "query = '''\n",
        "SELECT id_produto, quantidade FROM ItemPedido\n",
        "WHERE quantidade >= 40;\n",
        "'''\n",
        "cursor.execute(query) # Execução da consulta no banco de dados\n",
        "result = cursor.fetchall() # Recuperação de todos os resultados da consulta\n",
        "where1 = pd.DataFrame(result, columns=cursor.column_names) # Criação de um DataFrame Pandas usando os resultados da consulta e os nomes das colunas do cursor\n",
        "display(where1) # Exibição do DataFrame Pandas contendo os resultados da consulta\n",
        "cursor.close() # Fechamento do cursor após a conclusão da consulta\n",
        "connection.close() # Fechamento da conexão após a consulta"
      ],
      "metadata": {
        "id": "KipXONU29Yqa"
      },
      "execution_count": null,
      "outputs": []
    },
    {
      "cell_type": "markdown",
      "source": [
        "#13.Objetivo: Fazer uma consulta que retorne todos os campos e todos os registros da tabela Cliente#\n",
        ">Resumo do comando: Seleciona todas as colunas da tabela cliente,\n",
        "quando o endereço for igual a SP e armazena os resultados da consulta em um\n",
        "dataframe Pandas chamado where2"
      ],
      "metadata": {
        "id": "nTAAJD3xDIyl"
      }
    },
    {
      "cell_type": "code",
      "source": [
        "# Abertura da conexão para uma nova consulta\n",
        "connection = mysql.connector.connect(\n",
        "    host=host,\n",
        "    user=user,\n",
        "    password=password,\n",
        "    database=database,\n",
        ")\n",
        "cursor = connection.cursor() # Criação de um cursor para executar consultas SQL no banco de dados\n",
        "# Definição da consulta SQL a ser executada\n",
        "query = '''SELECT * FROM Cliente\n",
        "WHERE endereco = \"SP\";''' #campo de texto precisa estar em aspas na consulta\n",
        "cursor.execute(query) # Execução da consulta no banco de dados\n",
        "result = cursor.fetchall() # Recuperação de todos os resultados da consulta\n",
        "where2 = pd.DataFrame(result, columns=cursor.column_names) # Criação de um DataFrame Pandas usando os resultados da consulta e os nomes das colunas do cursor\n",
        "display(where2) # Exibição do DataFrame Pandas contendo os resultados da consulta\n",
        "cursor.close() # Fechamento do cursor após a conclusão da consulta\n",
        "connection.close() # Fechamento da conexão após a consulta"
      ],
      "metadata": {
        "id": "bgFTs5YeDSdp"
      },
      "execution_count": null,
      "outputs": []
    },
    {
      "cell_type": "markdown",
      "source": [
        "#14.Consultando valores distintos - DISTINCT#\n",
        ">Resumo do comando: Seleciona distintamente as colunas: id_produto e quantidade\n",
        "da tabela: ItemPedido, quando o quando a quantidade for igual a 10.\n",
        "e armazena os resultados da consulta em um dataframe Pandas chamado distinct"
      ],
      "metadata": {
        "id": "vFE1z8BED1rb"
      }
    },
    {
      "cell_type": "code",
      "source": [
        "# Abertura da conexão para uma nova consulta\n",
        "connection = mysql.connector.connect(\n",
        "    host=host,\n",
        "    user=user,\n",
        "    password=password,\n",
        "    database=database,\n",
        ")\n",
        "cursor = connection.cursor()  # Criação de um cursor para executar consultas SQL no banco de dados\n",
        "# Definição da consulta SQL a ser executada\n",
        "query = '''\n",
        "SELECT DISTINCT id_produto, quantidade FROM ItemPedido\n",
        "WHERE quantidade = 10;\n",
        "'''\n",
        "cursor.execute(query) # Execução da consulta no banco de dados\n",
        "result = cursor.fetchall() # Recuperação de todos os resultados da consulta\n",
        "distinct = pd.DataFrame(result, columns=cursor.column_names) # Criação de um DataFrame Pandas usando os resultados da consulta e os nomes das colunas do cursor\n",
        "display(distinct) # Exibição do DataFrame Pandas contendo os resultados da consulta\n",
        "cursor.close() # Fechamento do cursor após a conclusão da consulta\n",
        "connection.close() # Fechamento da conexão após a consulta"
      ],
      "metadata": {
        "id": "dVeQAQbEH7Ko"
      },
      "execution_count": null,
      "outputs": []
    },
    {
      "cell_type": "markdown",
      "source": [
        "#15.Consultando registros limitados - LIMIT#\n",
        ">Resumo do comando: Lendo o comando: Seleciona todos os atributos da tabela\n",
        "Cliente e mostra apenas os cinco primeiros registros, e armazena os resultados\n",
        "da consulta em um dataframe Pandas chamado limit"
      ],
      "metadata": {
        "id": "KbzAq6bwIH57"
      }
    },
    {
      "cell_type": "code",
      "source": [
        "# Abertura da conexão para uma nova consulta\n",
        "connection = mysql.connector.connect(\n",
        "    host=host,\n",
        "    user=user,\n",
        "    password=password,\n",
        "    database=database,\n",
        ")\n",
        "cursor = connection.cursor()  # Criação de um cursor para executar consultas SQL no banco de dados\n",
        "# Definição da consulta SQL a ser executada\n",
        "query = '''\n",
        "SELECT * FROM Cliente\n",
        "LIMIT 5;\n",
        "'''\n",
        "cursor.execute(query) # Execução da consulta no banco de dados\n",
        "result = cursor.fetchall() # Recuperação de todos os resultados da consulta\n",
        "limit = pd.DataFrame(result, columns=cursor.column_names) # Criação de um DataFrame Pandas usando os resultados da consulta e os nomes das colunas do cursor\n",
        "display(limit) # Exibição do DataFrame Pandas contendo os resultados da consulta\n",
        "cursor.close() # Fechamento do cursor após a conclusão da consulta\n",
        "connection.close() # Fechamento da conexão após a consulta"
      ],
      "metadata": {
        "id": "ntx5CW5MIDtq"
      },
      "execution_count": null,
      "outputs": []
    },
    {
      "cell_type": "markdown",
      "source": [
        "#16.Usando BOOLEANOS (AND|OR|NOT)#\n",
        ">Resumo do comando: Seleciona as colunas: nome e endereco da tabela: Clientes,\n",
        "apenas os registros com endereco igual a 'BA' e id_cliente igual a 19, e\n",
        "armazena os resultados da consulta em um dataframe Pandas chamado e"
      ],
      "metadata": {
        "id": "M6yWfiPlIcoK"
      }
    },
    {
      "cell_type": "code",
      "source": [
        "# Abertura da conexão para uma nova consulta\n",
        "connection = mysql.connector.connect(\n",
        "    host=host,\n",
        "    user=user,\n",
        "    password=password,\n",
        "    database=database,\n",
        ")\n",
        "cursor = connection.cursor()  # Criação de um cursor para executar consultas SQL no banco de dados\n",
        "# Definição da consulta SQL a ser executada\n",
        "query = '''\n",
        "SELECT nome, endereco\n",
        "FROM Cliente\n",
        "WHERE endereco = 'BA'\n",
        "AND id_cliente = 19;\n",
        "'''\n",
        "cursor.execute(query) # Execução da consulta no banco de dados\n",
        "result = cursor.fetchall() # Recuperação de todos os resultados da consulta\n",
        "e = pd.DataFrame(result, columns=cursor.column_names) # Criação de um DataFrame Pandas usando os resultados da consulta e os nomes das colunas do cursor\n",
        "display(e) # Exibição do DataFrame Pandas contendo os resultados da consulta\n",
        "cursor.close() # Fechamento do cursor após a conclusão da consulta\n",
        "connection.close() # Fechamento da conexão após a consulta"
      ],
      "metadata": {
        "colab": {
          "base_uri": "https://localhost:8080/",
          "height": 89
        },
        "id": "eq_vQHeGIf7f",
        "outputId": "38b0effb-2d2d-4161-d73f-3b3e00368d28"
      },
      "execution_count": null,
      "outputs": [
        {
          "output_type": "display_data",
          "data": {
            "text/plain": [
              "          nome endereco\n",
              "0  Prof Raquel       BA"
            ],
            "text/html": [
              "\n",
              "  <div id=\"df-99732990-2ca9-46ff-bcb9-c32eeaa783e7\" class=\"colab-df-container\">\n",
              "    <div>\n",
              "<style scoped>\n",
              "    .dataframe tbody tr th:only-of-type {\n",
              "        vertical-align: middle;\n",
              "    }\n",
              "\n",
              "    .dataframe tbody tr th {\n",
              "        vertical-align: top;\n",
              "    }\n",
              "\n",
              "    .dataframe thead th {\n",
              "        text-align: right;\n",
              "    }\n",
              "</style>\n",
              "<table border=\"1\" class=\"dataframe\">\n",
              "  <thead>\n",
              "    <tr style=\"text-align: right;\">\n",
              "      <th></th>\n",
              "      <th>nome</th>\n",
              "      <th>endereco</th>\n",
              "    </tr>\n",
              "  </thead>\n",
              "  <tbody>\n",
              "    <tr>\n",
              "      <th>0</th>\n",
              "      <td>Prof Raquel</td>\n",
              "      <td>BA</td>\n",
              "    </tr>\n",
              "  </tbody>\n",
              "</table>\n",
              "</div>\n",
              "    <div class=\"colab-df-buttons\">\n",
              "\n",
              "  <div class=\"colab-df-container\">\n",
              "    <button class=\"colab-df-convert\" onclick=\"convertToInteractive('df-99732990-2ca9-46ff-bcb9-c32eeaa783e7')\"\n",
              "            title=\"Convert this dataframe to an interactive table.\"\n",
              "            style=\"display:none;\">\n",
              "\n",
              "  <svg xmlns=\"http://www.w3.org/2000/svg\" height=\"24px\" viewBox=\"0 -960 960 960\">\n",
              "    <path d=\"M120-120v-720h720v720H120Zm60-500h600v-160H180v160Zm220 220h160v-160H400v160Zm0 220h160v-160H400v160ZM180-400h160v-160H180v160Zm440 0h160v-160H620v160ZM180-180h160v-160H180v160Zm440 0h160v-160H620v160Z\"/>\n",
              "  </svg>\n",
              "    </button>\n",
              "\n",
              "  <style>\n",
              "    .colab-df-container {\n",
              "      display:flex;\n",
              "      gap: 12px;\n",
              "    }\n",
              "\n",
              "    .colab-df-convert {\n",
              "      background-color: #E8F0FE;\n",
              "      border: none;\n",
              "      border-radius: 50%;\n",
              "      cursor: pointer;\n",
              "      display: none;\n",
              "      fill: #1967D2;\n",
              "      height: 32px;\n",
              "      padding: 0 0 0 0;\n",
              "      width: 32px;\n",
              "    }\n",
              "\n",
              "    .colab-df-convert:hover {\n",
              "      background-color: #E2EBFA;\n",
              "      box-shadow: 0px 1px 2px rgba(60, 64, 67, 0.3), 0px 1px 3px 1px rgba(60, 64, 67, 0.15);\n",
              "      fill: #174EA6;\n",
              "    }\n",
              "\n",
              "    .colab-df-buttons div {\n",
              "      margin-bottom: 4px;\n",
              "    }\n",
              "\n",
              "    [theme=dark] .colab-df-convert {\n",
              "      background-color: #3B4455;\n",
              "      fill: #D2E3FC;\n",
              "    }\n",
              "\n",
              "    [theme=dark] .colab-df-convert:hover {\n",
              "      background-color: #434B5C;\n",
              "      box-shadow: 0px 1px 3px 1px rgba(0, 0, 0, 0.15);\n",
              "      filter: drop-shadow(0px 1px 2px rgba(0, 0, 0, 0.3));\n",
              "      fill: #FFFFFF;\n",
              "    }\n",
              "  </style>\n",
              "\n",
              "    <script>\n",
              "      const buttonEl =\n",
              "        document.querySelector('#df-99732990-2ca9-46ff-bcb9-c32eeaa783e7 button.colab-df-convert');\n",
              "      buttonEl.style.display =\n",
              "        google.colab.kernel.accessAllowed ? 'block' : 'none';\n",
              "\n",
              "      async function convertToInteractive(key) {\n",
              "        const element = document.querySelector('#df-99732990-2ca9-46ff-bcb9-c32eeaa783e7');\n",
              "        const dataTable =\n",
              "          await google.colab.kernel.invokeFunction('convertToInteractive',\n",
              "                                                    [key], {});\n",
              "        if (!dataTable) return;\n",
              "\n",
              "        const docLinkHtml = 'Like what you see? Visit the ' +\n",
              "          '<a target=\"_blank\" href=https://colab.research.google.com/notebooks/data_table.ipynb>data table notebook</a>'\n",
              "          + ' to learn more about interactive tables.';\n",
              "        element.innerHTML = '';\n",
              "        dataTable['output_type'] = 'display_data';\n",
              "        await google.colab.output.renderOutput(dataTable, element);\n",
              "        const docLink = document.createElement('div');\n",
              "        docLink.innerHTML = docLinkHtml;\n",
              "        element.appendChild(docLink);\n",
              "      }\n",
              "    </script>\n",
              "  </div>\n",
              "\n",
              "\n",
              "  <div id=\"id_71c9c5d8-1564-4114-844b-7d871e8df152\">\n",
              "    <style>\n",
              "      .colab-df-generate {\n",
              "        background-color: #E8F0FE;\n",
              "        border: none;\n",
              "        border-radius: 50%;\n",
              "        cursor: pointer;\n",
              "        display: none;\n",
              "        fill: #1967D2;\n",
              "        height: 32px;\n",
              "        padding: 0 0 0 0;\n",
              "        width: 32px;\n",
              "      }\n",
              "\n",
              "      .colab-df-generate:hover {\n",
              "        background-color: #E2EBFA;\n",
              "        box-shadow: 0px 1px 2px rgba(60, 64, 67, 0.3), 0px 1px 3px 1px rgba(60, 64, 67, 0.15);\n",
              "        fill: #174EA6;\n",
              "      }\n",
              "\n",
              "      [theme=dark] .colab-df-generate {\n",
              "        background-color: #3B4455;\n",
              "        fill: #D2E3FC;\n",
              "      }\n",
              "\n",
              "      [theme=dark] .colab-df-generate:hover {\n",
              "        background-color: #434B5C;\n",
              "        box-shadow: 0px 1px 3px 1px rgba(0, 0, 0, 0.15);\n",
              "        filter: drop-shadow(0px 1px 2px rgba(0, 0, 0, 0.3));\n",
              "        fill: #FFFFFF;\n",
              "      }\n",
              "    </style>\n",
              "    <button class=\"colab-df-generate\" onclick=\"generateWithVariable('e')\"\n",
              "            title=\"Generate code using this dataframe.\"\n",
              "            style=\"display:none;\">\n",
              "\n",
              "  <svg xmlns=\"http://www.w3.org/2000/svg\" height=\"24px\"viewBox=\"0 0 24 24\"\n",
              "       width=\"24px\">\n",
              "    <path d=\"M7,19H8.4L18.45,9,17,7.55,7,17.6ZM5,21V16.75L18.45,3.32a2,2,0,0,1,2.83,0l1.4,1.43a1.91,1.91,0,0,1,.58,1.4,1.91,1.91,0,0,1-.58,1.4L9.25,21ZM18.45,9,17,7.55Zm-12,3A5.31,5.31,0,0,0,4.9,8.1,5.31,5.31,0,0,0,1,6.5,5.31,5.31,0,0,0,4.9,4.9,5.31,5.31,0,0,0,6.5,1,5.31,5.31,0,0,0,8.1,4.9,5.31,5.31,0,0,0,12,6.5,5.46,5.46,0,0,0,6.5,12Z\"/>\n",
              "  </svg>\n",
              "    </button>\n",
              "    <script>\n",
              "      (() => {\n",
              "      const buttonEl =\n",
              "        document.querySelector('#id_71c9c5d8-1564-4114-844b-7d871e8df152 button.colab-df-generate');\n",
              "      buttonEl.style.display =\n",
              "        google.colab.kernel.accessAllowed ? 'block' : 'none';\n",
              "\n",
              "      buttonEl.onclick = () => {\n",
              "        google.colab.notebook.generateWithVariable('e');\n",
              "      }\n",
              "      })();\n",
              "    </script>\n",
              "  </div>\n",
              "\n",
              "    </div>\n",
              "  </div>\n"
            ]
          },
          "metadata": {}
        }
      ]
    },
    {
      "cell_type": "markdown",
      "source": [
        "#SQL para análise de dados#"
      ],
      "metadata": {
        "id": "9f3Gn1BmgGbP"
      }
    },
    {
      "cell_type": "markdown",
      "source": [
        "###GROUP BY"
      ],
      "metadata": {
        "id": "LdrQv4iBjM1J"
      }
    },
    {
      "cell_type": "markdown",
      "source": [
        ">Resumo do comando: Comando que seleciona o atributo endereço, cria e seleciona a coluna count renomeada com freq da tabela Cliente e agrupa por endereco, e armazena os resultados da consulta em um dataframe Pandas chamado grupo"
      ],
      "metadata": {
        "id": "8aLcqHxMjU2g"
      }
    },
    {
      "cell_type": "code",
      "source": [
        "# Abertura da conexão para uma nova consulta\n",
        "connection = mysql.connector.connect(\n",
        "    host=host,\n",
        "    user=user,\n",
        "    password=password,\n",
        "    database=database,\n",
        ")\n",
        "cursor = connection.cursor()  # Criação de um cursor para executar consultas SQL no banco de dados\n",
        "# Definição da consulta SQL a ser executada\n",
        "query = '''\n",
        "SELECT endereco\n",
        "     , count(*) as freq\n",
        "  FROM Cliente\n",
        " GROUP BY endereco;\n",
        "'''\n",
        "cursor.execute(query) # Execução da consulta no banco de dados\n",
        "result = cursor.fetchall() # Recuperação de todos os resultados da consulta\n",
        "grupo = pd.DataFrame(result, columns=cursor.column_names) # Criação de um DataFrame Pandas usando os resultados da consulta e os nomes das colunas do cursor\n",
        "display(grupo) # Exibição do DataFrame Pandas contendo os resultados da consulta\n",
        "cursor.close() # Fechamento do cursor após a conclusão da consulta\n",
        "connection.close() # Fechamento da conexão após a consulta"
      ],
      "metadata": {
        "id": "SwO49LH5gdhC"
      },
      "execution_count": null,
      "outputs": []
    },
    {
      "cell_type": "markdown",
      "source": [
        "###Agrupamento Condicional - HAVING#\n",
        ">Resumo do comando: Consulta que seleciona endereco e contangem de endereco da\n",
        "tabela Cliente, Agrupado por endereço tendo apenas (HAVING) os edereços que se\n",
        "repetem pelo menos duas vezes. e armazena os resultados da consulta\n",
        "em um dataframe Pandas chamado tendo"
      ],
      "metadata": {
        "id": "xw3b9sfQmQhy"
      }
    },
    {
      "cell_type": "code",
      "source": [
        "# Abertura da conexão para uma nova consulta\n",
        "connection = mysql.connector.connect(\n",
        "    host=host,\n",
        "    user=user,\n",
        "    password=password,\n",
        "    database=database,\n",
        ")\n",
        "cursor = connection.cursor()  # Criação de um cursor para executar consultas SQL no banco de dados\n",
        "# Definição da consulta SQL a ser executada\n",
        "query = '''\n",
        "SELECT endereco\n",
        "     , count(*)\n",
        "  FROM Cliente\n",
        " GROUP BY endereco\n",
        " HAVING count(*) > 1;\n",
        "'''\n",
        "cursor.execute(query) # Execução da consulta no banco de dados\n",
        "result = cursor.fetchall() # Recuperação de todos os resultados da consulta\n",
        "tendo = pd.DataFrame(result, columns=cursor.column_names) # Criação de um DataFrame Pandas usando os resultados da consulta e os nomes das colunas do cursor\n",
        "display(tendo) # Exibição do DataFrame Pandas contendo os resultados da consulta\n",
        "cursor.close() # Fechamento do cursor após a conclusão da consulta\n",
        "connection.close() # Fechamento da conexão após a consulta"
      ],
      "metadata": {
        "id": "FNq7GKnljeIk"
      },
      "execution_count": null,
      "outputs": []
    },
    {
      "cell_type": "markdown",
      "source": [
        "###Combinando os resultados de duas consultas - UNION###\n",
        ">Resumo do comando: Unindo duas consultas, sendo a primeira como a seleção de\n",
        "id_pedido e id_produto da tabela ItemPedido onde o id_produto é 1, e a segunda\n",
        "como a seleção de id_pedido e id_produto da tabela ItemPedido onde o\n",
        "id_produto é 4 e armazena os resultados da consulta\n",
        "em um dataframe Pandas chamado uniao"
      ],
      "metadata": {
        "id": "iTPjWGdYneJC"
      }
    },
    {
      "cell_type": "code",
      "source": [
        "# Abertura da conexão para uma nova consulta\n",
        "connection = mysql.connector.connect(\n",
        "    host=host,\n",
        "    user=user,\n",
        "    password=password,\n",
        "    database=database,\n",
        ")\n",
        "cursor = connection.cursor()  # Criação de um cursor para executar consultas SQL no banco de dados\n",
        "# Definição da consulta SQL a ser executada\n",
        "query = '''\n",
        "SELECT id_pedido, id_produto\n",
        "  FROM ItemPedido\n",
        " WHERE id_produto = 2\n",
        "UNION\n",
        "SELECT id_pedido, id_produto\n",
        "  FROM ItemPedido\n",
        " WHERE id_produto = 3;\n",
        "'''\n",
        "cursor.execute(query) # Execução da consulta no banco de dados\n",
        "result = cursor.fetchall() # Recuperação de todos os resultados da consulta\n",
        "uniao = pd.DataFrame(result, columns=cursor.column_names) # Criação de um DataFrame Pandas usando os resultados da consulta e os nomes das colunas do cursor\n",
        "display(uniao) # Exibição do DataFrame Pandas contendo os resultados da consulta\n",
        "cursor.close() # Fechamento do cursor após a conclusão da consulta\n",
        "connection.close() # Fechamento da conexão após a consulta"
      ],
      "metadata": {
        "id": "h8uScKnMmqUc"
      },
      "execution_count": null,
      "outputs": []
    },
    {
      "cell_type": "markdown",
      "source": [
        "###IN e BEETWEEN###"
      ],
      "metadata": {
        "id": "cQX2deyPpHxe"
      }
    },
    {
      "cell_type": "code",
      "source": [
        "# Abertura da conexão para uma nova consulta\n",
        "connection = mysql.connector.connect(\n",
        "    host=host,\n",
        "    user=user,\n",
        "    password=password,\n",
        "    database=database,\n",
        ")\n",
        "cursor = connection.cursor()  # Criação de um cursor para executar consultas SQL no banco de dados\n",
        "# Definição da consulta SQL a ser executada\n",
        "query = '''\n",
        "SELECT\n",
        "    id_pedido,\n",
        "    id_produto\n",
        "  FROM ItemPedido\n",
        " WHERE id_produto IN (1, 2)\n",
        "   AND id_pedido BETWEEN 1 AND 9;\n",
        "'''\n",
        "cursor.execute(query) # Execução da consulta no banco de dados\n",
        "result = cursor.fetchall() # Recuperação de todos os resultados da consulta\n",
        "distinct = pd.DataFrame(result, columns=cursor.column_names) # Criação de um DataFrame Pandas usando os resultados da consulta e os nomes das colunas do cursor\n",
        "display(distinct) # Exibição do DataFrame Pandas contendo os resultados da consulta\n",
        "cursor.close() # Fechamento do cursor após a conclusão da consulta\n",
        "connection.close() # Fechamento da conexão após a consulta"
      ],
      "metadata": {
        "id": "s45NqhVbnqHM"
      },
      "execution_count": null,
      "outputs": []
    },
    {
      "cell_type": "markdown",
      "source": [
        "###LIKE 1###\n",
        ">Agora vamos para a tabela Produto e no atributo nome vamos realizar uma consulta que nos retorne todos os produtos que terminem com a letra o e os seus\n",
        "respectivos ids"
      ],
      "metadata": {
        "id": "D8GJCFAOpVy7"
      }
    },
    {
      "cell_type": "code",
      "source": [
        "# Abertura da conexão para uma nova consulta\n",
        "connection = mysql.connector.connect(\n",
        "    host=host,\n",
        "    user=user,\n",
        "    password=password,\n",
        "    database=database,\n",
        ")\n",
        "cursor = connection.cursor()  # Criação de um cursor para executar consultas SQL no banco de dados\n",
        "# Definição da consulta SQL a ser executada\n",
        "query = '''\n",
        "SELECT\n",
        "  id_produto,\n",
        "  nome\n",
        "  FROM Produto\n",
        "  WHERE nome LIKE '%O';\n",
        "'''\n",
        "cursor.execute(query) # Execução da consulta no banco de dados\n",
        "result = cursor.fetchall() # Recuperação de todos os resultados da consulta\n",
        "distinct = pd.DataFrame(result, columns=cursor.column_names) # Criação de um DataFrame Pandas usando os resultados da consulta e os nomes das colunas do cursor\n",
        "display(distinct) # Exibição do DataFrame Pandas contendo os resultados da consulta\n",
        "cursor.close() # Fechamento do cursor após a conclusão da consulta\n",
        "connection.close() # Fechamento da conexão após a consulta"
      ],
      "metadata": {
        "colab": {
          "base_uri": "https://localhost:8080/",
          "height": 125
        },
        "id": "Y8k2Fd_WpRrg",
        "outputId": "6158e1a4-d8ad-4c03-9523-54092f396389"
      },
      "execution_count": null,
      "outputs": [
        {
          "output_type": "display_data",
          "data": {
            "text/plain": [
              "   id_produto   nome\n",
              "0           2  Garfo\n",
              "1           5   Copo"
            ],
            "text/html": [
              "\n",
              "  <div id=\"df-e455b8e8-d042-4800-84c2-df522f8daf89\" class=\"colab-df-container\">\n",
              "    <div>\n",
              "<style scoped>\n",
              "    .dataframe tbody tr th:only-of-type {\n",
              "        vertical-align: middle;\n",
              "    }\n",
              "\n",
              "    .dataframe tbody tr th {\n",
              "        vertical-align: top;\n",
              "    }\n",
              "\n",
              "    .dataframe thead th {\n",
              "        text-align: right;\n",
              "    }\n",
              "</style>\n",
              "<table border=\"1\" class=\"dataframe\">\n",
              "  <thead>\n",
              "    <tr style=\"text-align: right;\">\n",
              "      <th></th>\n",
              "      <th>id_produto</th>\n",
              "      <th>nome</th>\n",
              "    </tr>\n",
              "  </thead>\n",
              "  <tbody>\n",
              "    <tr>\n",
              "      <th>0</th>\n",
              "      <td>2</td>\n",
              "      <td>Garfo</td>\n",
              "    </tr>\n",
              "    <tr>\n",
              "      <th>1</th>\n",
              "      <td>5</td>\n",
              "      <td>Copo</td>\n",
              "    </tr>\n",
              "  </tbody>\n",
              "</table>\n",
              "</div>\n",
              "    <div class=\"colab-df-buttons\">\n",
              "\n",
              "  <div class=\"colab-df-container\">\n",
              "    <button class=\"colab-df-convert\" onclick=\"convertToInteractive('df-e455b8e8-d042-4800-84c2-df522f8daf89')\"\n",
              "            title=\"Convert this dataframe to an interactive table.\"\n",
              "            style=\"display:none;\">\n",
              "\n",
              "  <svg xmlns=\"http://www.w3.org/2000/svg\" height=\"24px\" viewBox=\"0 -960 960 960\">\n",
              "    <path d=\"M120-120v-720h720v720H120Zm60-500h600v-160H180v160Zm220 220h160v-160H400v160Zm0 220h160v-160H400v160ZM180-400h160v-160H180v160Zm440 0h160v-160H620v160ZM180-180h160v-160H180v160Zm440 0h160v-160H620v160Z\"/>\n",
              "  </svg>\n",
              "    </button>\n",
              "\n",
              "  <style>\n",
              "    .colab-df-container {\n",
              "      display:flex;\n",
              "      gap: 12px;\n",
              "    }\n",
              "\n",
              "    .colab-df-convert {\n",
              "      background-color: #E8F0FE;\n",
              "      border: none;\n",
              "      border-radius: 50%;\n",
              "      cursor: pointer;\n",
              "      display: none;\n",
              "      fill: #1967D2;\n",
              "      height: 32px;\n",
              "      padding: 0 0 0 0;\n",
              "      width: 32px;\n",
              "    }\n",
              "\n",
              "    .colab-df-convert:hover {\n",
              "      background-color: #E2EBFA;\n",
              "      box-shadow: 0px 1px 2px rgba(60, 64, 67, 0.3), 0px 1px 3px 1px rgba(60, 64, 67, 0.15);\n",
              "      fill: #174EA6;\n",
              "    }\n",
              "\n",
              "    .colab-df-buttons div {\n",
              "      margin-bottom: 4px;\n",
              "    }\n",
              "\n",
              "    [theme=dark] .colab-df-convert {\n",
              "      background-color: #3B4455;\n",
              "      fill: #D2E3FC;\n",
              "    }\n",
              "\n",
              "    [theme=dark] .colab-df-convert:hover {\n",
              "      background-color: #434B5C;\n",
              "      box-shadow: 0px 1px 3px 1px rgba(0, 0, 0, 0.15);\n",
              "      filter: drop-shadow(0px 1px 2px rgba(0, 0, 0, 0.3));\n",
              "      fill: #FFFFFF;\n",
              "    }\n",
              "  </style>\n",
              "\n",
              "    <script>\n",
              "      const buttonEl =\n",
              "        document.querySelector('#df-e455b8e8-d042-4800-84c2-df522f8daf89 button.colab-df-convert');\n",
              "      buttonEl.style.display =\n",
              "        google.colab.kernel.accessAllowed ? 'block' : 'none';\n",
              "\n",
              "      async function convertToInteractive(key) {\n",
              "        const element = document.querySelector('#df-e455b8e8-d042-4800-84c2-df522f8daf89');\n",
              "        const dataTable =\n",
              "          await google.colab.kernel.invokeFunction('convertToInteractive',\n",
              "                                                    [key], {});\n",
              "        if (!dataTable) return;\n",
              "\n",
              "        const docLinkHtml = 'Like what you see? Visit the ' +\n",
              "          '<a target=\"_blank\" href=https://colab.research.google.com/notebooks/data_table.ipynb>data table notebook</a>'\n",
              "          + ' to learn more about interactive tables.';\n",
              "        element.innerHTML = '';\n",
              "        dataTable['output_type'] = 'display_data';\n",
              "        await google.colab.output.renderOutput(dataTable, element);\n",
              "        const docLink = document.createElement('div');\n",
              "        docLink.innerHTML = docLinkHtml;\n",
              "        element.appendChild(docLink);\n",
              "      }\n",
              "    </script>\n",
              "  </div>\n",
              "\n",
              "\n",
              "<div id=\"df-5dd7a1b4-0f77-4320-88bd-2a31a087e4f7\">\n",
              "  <button class=\"colab-df-quickchart\" onclick=\"quickchart('df-5dd7a1b4-0f77-4320-88bd-2a31a087e4f7')\"\n",
              "            title=\"Suggest charts\"\n",
              "            style=\"display:none;\">\n",
              "\n",
              "<svg xmlns=\"http://www.w3.org/2000/svg\" height=\"24px\"viewBox=\"0 0 24 24\"\n",
              "     width=\"24px\">\n",
              "    <g>\n",
              "        <path d=\"M19 3H5c-1.1 0-2 .9-2 2v14c0 1.1.9 2 2 2h14c1.1 0 2-.9 2-2V5c0-1.1-.9-2-2-2zM9 17H7v-7h2v7zm4 0h-2V7h2v10zm4 0h-2v-4h2v4z\"/>\n",
              "    </g>\n",
              "</svg>\n",
              "  </button>\n",
              "\n",
              "<style>\n",
              "  .colab-df-quickchart {\n",
              "      --bg-color: #E8F0FE;\n",
              "      --fill-color: #1967D2;\n",
              "      --hover-bg-color: #E2EBFA;\n",
              "      --hover-fill-color: #174EA6;\n",
              "      --disabled-fill-color: #AAA;\n",
              "      --disabled-bg-color: #DDD;\n",
              "  }\n",
              "\n",
              "  [theme=dark] .colab-df-quickchart {\n",
              "      --bg-color: #3B4455;\n",
              "      --fill-color: #D2E3FC;\n",
              "      --hover-bg-color: #434B5C;\n",
              "      --hover-fill-color: #FFFFFF;\n",
              "      --disabled-bg-color: #3B4455;\n",
              "      --disabled-fill-color: #666;\n",
              "  }\n",
              "\n",
              "  .colab-df-quickchart {\n",
              "    background-color: var(--bg-color);\n",
              "    border: none;\n",
              "    border-radius: 50%;\n",
              "    cursor: pointer;\n",
              "    display: none;\n",
              "    fill: var(--fill-color);\n",
              "    height: 32px;\n",
              "    padding: 0;\n",
              "    width: 32px;\n",
              "  }\n",
              "\n",
              "  .colab-df-quickchart:hover {\n",
              "    background-color: var(--hover-bg-color);\n",
              "    box-shadow: 0 1px 2px rgba(60, 64, 67, 0.3), 0 1px 3px 1px rgba(60, 64, 67, 0.15);\n",
              "    fill: var(--button-hover-fill-color);\n",
              "  }\n",
              "\n",
              "  .colab-df-quickchart-complete:disabled,\n",
              "  .colab-df-quickchart-complete:disabled:hover {\n",
              "    background-color: var(--disabled-bg-color);\n",
              "    fill: var(--disabled-fill-color);\n",
              "    box-shadow: none;\n",
              "  }\n",
              "\n",
              "  .colab-df-spinner {\n",
              "    border: 2px solid var(--fill-color);\n",
              "    border-color: transparent;\n",
              "    border-bottom-color: var(--fill-color);\n",
              "    animation:\n",
              "      spin 1s steps(1) infinite;\n",
              "  }\n",
              "\n",
              "  @keyframes spin {\n",
              "    0% {\n",
              "      border-color: transparent;\n",
              "      border-bottom-color: var(--fill-color);\n",
              "      border-left-color: var(--fill-color);\n",
              "    }\n",
              "    20% {\n",
              "      border-color: transparent;\n",
              "      border-left-color: var(--fill-color);\n",
              "      border-top-color: var(--fill-color);\n",
              "    }\n",
              "    30% {\n",
              "      border-color: transparent;\n",
              "      border-left-color: var(--fill-color);\n",
              "      border-top-color: var(--fill-color);\n",
              "      border-right-color: var(--fill-color);\n",
              "    }\n",
              "    40% {\n",
              "      border-color: transparent;\n",
              "      border-right-color: var(--fill-color);\n",
              "      border-top-color: var(--fill-color);\n",
              "    }\n",
              "    60% {\n",
              "      border-color: transparent;\n",
              "      border-right-color: var(--fill-color);\n",
              "    }\n",
              "    80% {\n",
              "      border-color: transparent;\n",
              "      border-right-color: var(--fill-color);\n",
              "      border-bottom-color: var(--fill-color);\n",
              "    }\n",
              "    90% {\n",
              "      border-color: transparent;\n",
              "      border-bottom-color: var(--fill-color);\n",
              "    }\n",
              "  }\n",
              "</style>\n",
              "\n",
              "  <script>\n",
              "    async function quickchart(key) {\n",
              "      const quickchartButtonEl =\n",
              "        document.querySelector('#' + key + ' button');\n",
              "      quickchartButtonEl.disabled = true;  // To prevent multiple clicks.\n",
              "      quickchartButtonEl.classList.add('colab-df-spinner');\n",
              "      try {\n",
              "        const charts = await google.colab.kernel.invokeFunction(\n",
              "            'suggestCharts', [key], {});\n",
              "      } catch (error) {\n",
              "        console.error('Error during call to suggestCharts:', error);\n",
              "      }\n",
              "      quickchartButtonEl.classList.remove('colab-df-spinner');\n",
              "      quickchartButtonEl.classList.add('colab-df-quickchart-complete');\n",
              "    }\n",
              "    (() => {\n",
              "      let quickchartButtonEl =\n",
              "        document.querySelector('#df-5dd7a1b4-0f77-4320-88bd-2a31a087e4f7 button');\n",
              "      quickchartButtonEl.style.display =\n",
              "        google.colab.kernel.accessAllowed ? 'block' : 'none';\n",
              "    })();\n",
              "  </script>\n",
              "</div>\n",
              "\n",
              "  <div id=\"id_054338a7-b2ca-4dac-8c03-f83575adbfbe\">\n",
              "    <style>\n",
              "      .colab-df-generate {\n",
              "        background-color: #E8F0FE;\n",
              "        border: none;\n",
              "        border-radius: 50%;\n",
              "        cursor: pointer;\n",
              "        display: none;\n",
              "        fill: #1967D2;\n",
              "        height: 32px;\n",
              "        padding: 0 0 0 0;\n",
              "        width: 32px;\n",
              "      }\n",
              "\n",
              "      .colab-df-generate:hover {\n",
              "        background-color: #E2EBFA;\n",
              "        box-shadow: 0px 1px 2px rgba(60, 64, 67, 0.3), 0px 1px 3px 1px rgba(60, 64, 67, 0.15);\n",
              "        fill: #174EA6;\n",
              "      }\n",
              "\n",
              "      [theme=dark] .colab-df-generate {\n",
              "        background-color: #3B4455;\n",
              "        fill: #D2E3FC;\n",
              "      }\n",
              "\n",
              "      [theme=dark] .colab-df-generate:hover {\n",
              "        background-color: #434B5C;\n",
              "        box-shadow: 0px 1px 3px 1px rgba(0, 0, 0, 0.15);\n",
              "        filter: drop-shadow(0px 1px 2px rgba(0, 0, 0, 0.3));\n",
              "        fill: #FFFFFF;\n",
              "      }\n",
              "    </style>\n",
              "    <button class=\"colab-df-generate\" onclick=\"generateWithVariable('distinct')\"\n",
              "            title=\"Generate code using this dataframe.\"\n",
              "            style=\"display:none;\">\n",
              "\n",
              "  <svg xmlns=\"http://www.w3.org/2000/svg\" height=\"24px\"viewBox=\"0 0 24 24\"\n",
              "       width=\"24px\">\n",
              "    <path d=\"M7,19H8.4L18.45,9,17,7.55,7,17.6ZM5,21V16.75L18.45,3.32a2,2,0,0,1,2.83,0l1.4,1.43a1.91,1.91,0,0,1,.58,1.4,1.91,1.91,0,0,1-.58,1.4L9.25,21ZM18.45,9,17,7.55Zm-12,3A5.31,5.31,0,0,0,4.9,8.1,5.31,5.31,0,0,0,1,6.5,5.31,5.31,0,0,0,4.9,4.9,5.31,5.31,0,0,0,6.5,1,5.31,5.31,0,0,0,8.1,4.9,5.31,5.31,0,0,0,12,6.5,5.46,5.46,0,0,0,6.5,12Z\"/>\n",
              "  </svg>\n",
              "    </button>\n",
              "    <script>\n",
              "      (() => {\n",
              "      const buttonEl =\n",
              "        document.querySelector('#id_054338a7-b2ca-4dac-8c03-f83575adbfbe button.colab-df-generate');\n",
              "      buttonEl.style.display =\n",
              "        google.colab.kernel.accessAllowed ? 'block' : 'none';\n",
              "\n",
              "      buttonEl.onclick = () => {\n",
              "        google.colab.notebook.generateWithVariable('distinct');\n",
              "      }\n",
              "      })();\n",
              "    </script>\n",
              "  </div>\n",
              "\n",
              "    </div>\n",
              "  </div>\n"
            ]
          },
          "metadata": {}
        }
      ]
    },
    {
      "cell_type": "markdown",
      "source": [
        "###LIKE 2###\n",
        ">Agora vamos para a tabela Produto e no atributo nome vamos realizar uma consulta que nos retorne todos os produtos que comecem com a letra C e os seus\n",
        "respectivos ids"
      ],
      "metadata": {
        "id": "a33RbN7Kpywc"
      }
    },
    {
      "cell_type": "code",
      "source": [
        "# Abertura da conexão para uma nova consulta\n",
        "connection = mysql.connector.connect(\n",
        "    host=host,\n",
        "    user=user,\n",
        "    password=password,\n",
        "    database=database,\n",
        ")\n",
        "cursor = connection.cursor()  # Criação de um cursor para executar consultas SQL no banco de dados\n",
        "# Definição da consulta SQL a ser executada\n",
        "query = '''\n",
        "SELECT\n",
        "  id_produto,\n",
        "  nome\n",
        "  FROM Produto\n",
        "  WHERE nome LIKE 'C%';\n",
        "'''\n",
        "cursor.execute(query) # Execução da consulta no banco de dados\n",
        "result = cursor.fetchall() # Recuperação de todos os resultados da consulta\n",
        "like = pd.DataFrame(result, columns=cursor.column_names) # Criação de um DataFrame Pandas usando os resultados da consulta e os nomes das colunas do cursor\n",
        "display(like) # Exibição do DataFrame Pandas contendo os resultados da consulta\n",
        "cursor.close() # Fechamento do cursor após a conclusão da consulta\n",
        "connection.close() # Fechamento da conexão após a consulta"
      ],
      "metadata": {
        "colab": {
          "base_uri": "https://localhost:8080/",
          "height": 144
        },
        "id": "zMsgEdA4piaA",
        "outputId": "ee5ccf65-5d49-4da0-b1fb-5243634d64cb"
      },
      "execution_count": null,
      "outputs": [
        {
          "output_type": "display_data",
          "data": {
            "text/plain": [
              "   id_produto    nome\n",
              "0           1  Caneca\n",
              "1           4  Colher\n",
              "2           5    Copo"
            ],
            "text/html": [
              "\n",
              "  <div id=\"df-adc0055a-a6b4-462f-b52c-2a8a36cfb8a6\" class=\"colab-df-container\">\n",
              "    <div>\n",
              "<style scoped>\n",
              "    .dataframe tbody tr th:only-of-type {\n",
              "        vertical-align: middle;\n",
              "    }\n",
              "\n",
              "    .dataframe tbody tr th {\n",
              "        vertical-align: top;\n",
              "    }\n",
              "\n",
              "    .dataframe thead th {\n",
              "        text-align: right;\n",
              "    }\n",
              "</style>\n",
              "<table border=\"1\" class=\"dataframe\">\n",
              "  <thead>\n",
              "    <tr style=\"text-align: right;\">\n",
              "      <th></th>\n",
              "      <th>id_produto</th>\n",
              "      <th>nome</th>\n",
              "    </tr>\n",
              "  </thead>\n",
              "  <tbody>\n",
              "    <tr>\n",
              "      <th>0</th>\n",
              "      <td>1</td>\n",
              "      <td>Caneca</td>\n",
              "    </tr>\n",
              "    <tr>\n",
              "      <th>1</th>\n",
              "      <td>4</td>\n",
              "      <td>Colher</td>\n",
              "    </tr>\n",
              "    <tr>\n",
              "      <th>2</th>\n",
              "      <td>5</td>\n",
              "      <td>Copo</td>\n",
              "    </tr>\n",
              "  </tbody>\n",
              "</table>\n",
              "</div>\n",
              "    <div class=\"colab-df-buttons\">\n",
              "\n",
              "  <div class=\"colab-df-container\">\n",
              "    <button class=\"colab-df-convert\" onclick=\"convertToInteractive('df-adc0055a-a6b4-462f-b52c-2a8a36cfb8a6')\"\n",
              "            title=\"Convert this dataframe to an interactive table.\"\n",
              "            style=\"display:none;\">\n",
              "\n",
              "  <svg xmlns=\"http://www.w3.org/2000/svg\" height=\"24px\" viewBox=\"0 -960 960 960\">\n",
              "    <path d=\"M120-120v-720h720v720H120Zm60-500h600v-160H180v160Zm220 220h160v-160H400v160Zm0 220h160v-160H400v160ZM180-400h160v-160H180v160Zm440 0h160v-160H620v160ZM180-180h160v-160H180v160Zm440 0h160v-160H620v160Z\"/>\n",
              "  </svg>\n",
              "    </button>\n",
              "\n",
              "  <style>\n",
              "    .colab-df-container {\n",
              "      display:flex;\n",
              "      gap: 12px;\n",
              "    }\n",
              "\n",
              "    .colab-df-convert {\n",
              "      background-color: #E8F0FE;\n",
              "      border: none;\n",
              "      border-radius: 50%;\n",
              "      cursor: pointer;\n",
              "      display: none;\n",
              "      fill: #1967D2;\n",
              "      height: 32px;\n",
              "      padding: 0 0 0 0;\n",
              "      width: 32px;\n",
              "    }\n",
              "\n",
              "    .colab-df-convert:hover {\n",
              "      background-color: #E2EBFA;\n",
              "      box-shadow: 0px 1px 2px rgba(60, 64, 67, 0.3), 0px 1px 3px 1px rgba(60, 64, 67, 0.15);\n",
              "      fill: #174EA6;\n",
              "    }\n",
              "\n",
              "    .colab-df-buttons div {\n",
              "      margin-bottom: 4px;\n",
              "    }\n",
              "\n",
              "    [theme=dark] .colab-df-convert {\n",
              "      background-color: #3B4455;\n",
              "      fill: #D2E3FC;\n",
              "    }\n",
              "\n",
              "    [theme=dark] .colab-df-convert:hover {\n",
              "      background-color: #434B5C;\n",
              "      box-shadow: 0px 1px 3px 1px rgba(0, 0, 0, 0.15);\n",
              "      filter: drop-shadow(0px 1px 2px rgba(0, 0, 0, 0.3));\n",
              "      fill: #FFFFFF;\n",
              "    }\n",
              "  </style>\n",
              "\n",
              "    <script>\n",
              "      const buttonEl =\n",
              "        document.querySelector('#df-adc0055a-a6b4-462f-b52c-2a8a36cfb8a6 button.colab-df-convert');\n",
              "      buttonEl.style.display =\n",
              "        google.colab.kernel.accessAllowed ? 'block' : 'none';\n",
              "\n",
              "      async function convertToInteractive(key) {\n",
              "        const element = document.querySelector('#df-adc0055a-a6b4-462f-b52c-2a8a36cfb8a6');\n",
              "        const dataTable =\n",
              "          await google.colab.kernel.invokeFunction('convertToInteractive',\n",
              "                                                    [key], {});\n",
              "        if (!dataTable) return;\n",
              "\n",
              "        const docLinkHtml = 'Like what you see? Visit the ' +\n",
              "          '<a target=\"_blank\" href=https://colab.research.google.com/notebooks/data_table.ipynb>data table notebook</a>'\n",
              "          + ' to learn more about interactive tables.';\n",
              "        element.innerHTML = '';\n",
              "        dataTable['output_type'] = 'display_data';\n",
              "        await google.colab.output.renderOutput(dataTable, element);\n",
              "        const docLink = document.createElement('div');\n",
              "        docLink.innerHTML = docLinkHtml;\n",
              "        element.appendChild(docLink);\n",
              "      }\n",
              "    </script>\n",
              "  </div>\n",
              "\n",
              "\n",
              "<div id=\"df-f427dc0a-74be-4e4a-a6ca-f85ded4cb719\">\n",
              "  <button class=\"colab-df-quickchart\" onclick=\"quickchart('df-f427dc0a-74be-4e4a-a6ca-f85ded4cb719')\"\n",
              "            title=\"Suggest charts\"\n",
              "            style=\"display:none;\">\n",
              "\n",
              "<svg xmlns=\"http://www.w3.org/2000/svg\" height=\"24px\"viewBox=\"0 0 24 24\"\n",
              "     width=\"24px\">\n",
              "    <g>\n",
              "        <path d=\"M19 3H5c-1.1 0-2 .9-2 2v14c0 1.1.9 2 2 2h14c1.1 0 2-.9 2-2V5c0-1.1-.9-2-2-2zM9 17H7v-7h2v7zm4 0h-2V7h2v10zm4 0h-2v-4h2v4z\"/>\n",
              "    </g>\n",
              "</svg>\n",
              "  </button>\n",
              "\n",
              "<style>\n",
              "  .colab-df-quickchart {\n",
              "      --bg-color: #E8F0FE;\n",
              "      --fill-color: #1967D2;\n",
              "      --hover-bg-color: #E2EBFA;\n",
              "      --hover-fill-color: #174EA6;\n",
              "      --disabled-fill-color: #AAA;\n",
              "      --disabled-bg-color: #DDD;\n",
              "  }\n",
              "\n",
              "  [theme=dark] .colab-df-quickchart {\n",
              "      --bg-color: #3B4455;\n",
              "      --fill-color: #D2E3FC;\n",
              "      --hover-bg-color: #434B5C;\n",
              "      --hover-fill-color: #FFFFFF;\n",
              "      --disabled-bg-color: #3B4455;\n",
              "      --disabled-fill-color: #666;\n",
              "  }\n",
              "\n",
              "  .colab-df-quickchart {\n",
              "    background-color: var(--bg-color);\n",
              "    border: none;\n",
              "    border-radius: 50%;\n",
              "    cursor: pointer;\n",
              "    display: none;\n",
              "    fill: var(--fill-color);\n",
              "    height: 32px;\n",
              "    padding: 0;\n",
              "    width: 32px;\n",
              "  }\n",
              "\n",
              "  .colab-df-quickchart:hover {\n",
              "    background-color: var(--hover-bg-color);\n",
              "    box-shadow: 0 1px 2px rgba(60, 64, 67, 0.3), 0 1px 3px 1px rgba(60, 64, 67, 0.15);\n",
              "    fill: var(--button-hover-fill-color);\n",
              "  }\n",
              "\n",
              "  .colab-df-quickchart-complete:disabled,\n",
              "  .colab-df-quickchart-complete:disabled:hover {\n",
              "    background-color: var(--disabled-bg-color);\n",
              "    fill: var(--disabled-fill-color);\n",
              "    box-shadow: none;\n",
              "  }\n",
              "\n",
              "  .colab-df-spinner {\n",
              "    border: 2px solid var(--fill-color);\n",
              "    border-color: transparent;\n",
              "    border-bottom-color: var(--fill-color);\n",
              "    animation:\n",
              "      spin 1s steps(1) infinite;\n",
              "  }\n",
              "\n",
              "  @keyframes spin {\n",
              "    0% {\n",
              "      border-color: transparent;\n",
              "      border-bottom-color: var(--fill-color);\n",
              "      border-left-color: var(--fill-color);\n",
              "    }\n",
              "    20% {\n",
              "      border-color: transparent;\n",
              "      border-left-color: var(--fill-color);\n",
              "      border-top-color: var(--fill-color);\n",
              "    }\n",
              "    30% {\n",
              "      border-color: transparent;\n",
              "      border-left-color: var(--fill-color);\n",
              "      border-top-color: var(--fill-color);\n",
              "      border-right-color: var(--fill-color);\n",
              "    }\n",
              "    40% {\n",
              "      border-color: transparent;\n",
              "      border-right-color: var(--fill-color);\n",
              "      border-top-color: var(--fill-color);\n",
              "    }\n",
              "    60% {\n",
              "      border-color: transparent;\n",
              "      border-right-color: var(--fill-color);\n",
              "    }\n",
              "    80% {\n",
              "      border-color: transparent;\n",
              "      border-right-color: var(--fill-color);\n",
              "      border-bottom-color: var(--fill-color);\n",
              "    }\n",
              "    90% {\n",
              "      border-color: transparent;\n",
              "      border-bottom-color: var(--fill-color);\n",
              "    }\n",
              "  }\n",
              "</style>\n",
              "\n",
              "  <script>\n",
              "    async function quickchart(key) {\n",
              "      const quickchartButtonEl =\n",
              "        document.querySelector('#' + key + ' button');\n",
              "      quickchartButtonEl.disabled = true;  // To prevent multiple clicks.\n",
              "      quickchartButtonEl.classList.add('colab-df-spinner');\n",
              "      try {\n",
              "        const charts = await google.colab.kernel.invokeFunction(\n",
              "            'suggestCharts', [key], {});\n",
              "      } catch (error) {\n",
              "        console.error('Error during call to suggestCharts:', error);\n",
              "      }\n",
              "      quickchartButtonEl.classList.remove('colab-df-spinner');\n",
              "      quickchartButtonEl.classList.add('colab-df-quickchart-complete');\n",
              "    }\n",
              "    (() => {\n",
              "      let quickchartButtonEl =\n",
              "        document.querySelector('#df-f427dc0a-74be-4e4a-a6ca-f85ded4cb719 button');\n",
              "      quickchartButtonEl.style.display =\n",
              "        google.colab.kernel.accessAllowed ? 'block' : 'none';\n",
              "    })();\n",
              "  </script>\n",
              "</div>\n",
              "\n",
              "  <div id=\"id_9bd078fd-8628-4a7f-94e3-acc0b7cf06c7\">\n",
              "    <style>\n",
              "      .colab-df-generate {\n",
              "        background-color: #E8F0FE;\n",
              "        border: none;\n",
              "        border-radius: 50%;\n",
              "        cursor: pointer;\n",
              "        display: none;\n",
              "        fill: #1967D2;\n",
              "        height: 32px;\n",
              "        padding: 0 0 0 0;\n",
              "        width: 32px;\n",
              "      }\n",
              "\n",
              "      .colab-df-generate:hover {\n",
              "        background-color: #E2EBFA;\n",
              "        box-shadow: 0px 1px 2px rgba(60, 64, 67, 0.3), 0px 1px 3px 1px rgba(60, 64, 67, 0.15);\n",
              "        fill: #174EA6;\n",
              "      }\n",
              "\n",
              "      [theme=dark] .colab-df-generate {\n",
              "        background-color: #3B4455;\n",
              "        fill: #D2E3FC;\n",
              "      }\n",
              "\n",
              "      [theme=dark] .colab-df-generate:hover {\n",
              "        background-color: #434B5C;\n",
              "        box-shadow: 0px 1px 3px 1px rgba(0, 0, 0, 0.15);\n",
              "        filter: drop-shadow(0px 1px 2px rgba(0, 0, 0, 0.3));\n",
              "        fill: #FFFFFF;\n",
              "      }\n",
              "    </style>\n",
              "    <button class=\"colab-df-generate\" onclick=\"generateWithVariable('like')\"\n",
              "            title=\"Generate code using this dataframe.\"\n",
              "            style=\"display:none;\">\n",
              "\n",
              "  <svg xmlns=\"http://www.w3.org/2000/svg\" height=\"24px\"viewBox=\"0 0 24 24\"\n",
              "       width=\"24px\">\n",
              "    <path d=\"M7,19H8.4L18.45,9,17,7.55,7,17.6ZM5,21V16.75L18.45,3.32a2,2,0,0,1,2.83,0l1.4,1.43a1.91,1.91,0,0,1,.58,1.4,1.91,1.91,0,0,1-.58,1.4L9.25,21ZM18.45,9,17,7.55Zm-12,3A5.31,5.31,0,0,0,4.9,8.1,5.31,5.31,0,0,0,1,6.5,5.31,5.31,0,0,0,4.9,4.9,5.31,5.31,0,0,0,6.5,1,5.31,5.31,0,0,0,8.1,4.9,5.31,5.31,0,0,0,12,6.5,5.46,5.46,0,0,0,6.5,12Z\"/>\n",
              "  </svg>\n",
              "    </button>\n",
              "    <script>\n",
              "      (() => {\n",
              "      const buttonEl =\n",
              "        document.querySelector('#id_9bd078fd-8628-4a7f-94e3-acc0b7cf06c7 button.colab-df-generate');\n",
              "      buttonEl.style.display =\n",
              "        google.colab.kernel.accessAllowed ? 'block' : 'none';\n",
              "\n",
              "      buttonEl.onclick = () => {\n",
              "        google.colab.notebook.generateWithVariable('like');\n",
              "      }\n",
              "      })();\n",
              "    </script>\n",
              "  </div>\n",
              "\n",
              "    </div>\n",
              "  </div>\n"
            ]
          },
          "metadata": {}
        }
      ]
    },
    {
      "cell_type": "markdown",
      "source": [
        "###LIKE 3###\n",
        ">Agora vamos para a tabela Produto e no atributo nome vamos realizar uma consulta que nos retorne todos os produtos que contenha a sequencia lh e os seus\n",
        "respectivos ids"
      ],
      "metadata": {
        "id": "duvif0K_qNfC"
      }
    },
    {
      "cell_type": "code",
      "source": [
        "# Abertura da conexão para uma nova consulta\n",
        "connection = mysql.connector.connect(\n",
        "    host=host,\n",
        "    user=user,\n",
        "    password=password,\n",
        "    database=database,\n",
        ")\n",
        "cursor = connection.cursor()  # Criação de um cursor para executar consultas SQL no banco de dados\n",
        "# Definição da consulta SQL a ser executada\n",
        "query = '''\n",
        "SELECT\n",
        "  id_produto,\n",
        "  nome\n",
        "  FROM Produto\n",
        "  WHERE nome LIKE '%lh%';\n",
        "'''\n",
        "cursor.execute(query) # Execução da consulta no banco de dados\n",
        "result = cursor.fetchall() # Recuperação de todos os resultados da consulta\n",
        "contem = pd.DataFrame(result, columns=cursor.column_names) # Criação de um DataFrame Pandas usando os resultados da consulta e os nomes das colunas do cursor\n",
        "display(contem) # Exibição do DataFrame Pandas contendo os resultados da consulta\n",
        "cursor.close() # Fechamento do cursor após a conclusão da consulta\n",
        "connection.close() # Fechamento da conexão após a consulta"
      ],
      "metadata": {
        "id": "gPczoGOqp_XY"
      },
      "execution_count": null,
      "outputs": []
    },
    {
      "cell_type": "markdown",
      "source": [
        "###NULL e NOT NULL###\n",
        ">Verficar a existência de valores nulos para o atributo nome na tabela Produto"
      ],
      "metadata": {
        "id": "-Iz8R93lqo9J"
      }
    },
    {
      "cell_type": "code",
      "source": [
        "# Abertura da conexão para uma nova consulta\n",
        "connection = mysql.connector.connect(\n",
        "    host=host,\n",
        "    user=user,\n",
        "    password=password,\n",
        "    database=database,\n",
        ")\n",
        "cursor = connection.cursor()  # Criação de um cursor para executar consultas SQL no banco de dados\n",
        "# Definição da consulta SQL a ser executada\n",
        "query = '''\n",
        "Select nome from Produto\n",
        "WHERE nome IS NULL;\n",
        "'''\n",
        "cursor.execute(query) # Execução da consulta no banco de dados\n",
        "result = cursor.fetchall() # Recuperação de todos os resultados da consulta\n",
        "distinct = pd.DataFrame(result, columns=cursor.column_names) # Criação de um DataFrame Pandas usando os resultados da consulta e os nomes das colunas do cursor\n",
        "display(distinct) # Exibição do DataFrame Pandas contendo os resultados da consulta\n",
        "cursor.close() # Fechamento do cursor após a conclusão da consulta\n",
        "connection.close() # Fechamento da conexão após a consulta"
      ],
      "metadata": {
        "id": "a1ytv2RbqrBU"
      },
      "execution_count": null,
      "outputs": []
    },
    {
      "cell_type": "markdown",
      "source": [
        ">Verficar a existência de valores não nulos para o atributo nome na tabela Produto"
      ],
      "metadata": {
        "id": "fMzRVL6Uu79A"
      }
    },
    {
      "cell_type": "code",
      "source": [
        "# Abertura da conexão para uma nova consulta\n",
        "connection = mysql.connector.connect(\n",
        "    host=host,\n",
        "    user=user,\n",
        "    password=password,\n",
        "    database=database,\n",
        ")\n",
        "cursor = connection.cursor()  # Criação de um cursor para executar consultas SQL no banco de dados\n",
        "# Definição da consulta SQL a ser executada\n",
        "query = '''\n",
        "Select nome from Produto\n",
        "WHERE nome IS NOT NULL;\n",
        "'''\n",
        "cursor.execute(query) # Execução da consulta no banco de dados\n",
        "result = cursor.fetchall() # Recuperação de todos os resultados da consulta\n",
        "distinct = pd.DataFrame(result, columns=cursor.column_names) # Criação de um DataFrame Pandas usando os resultados da consulta e os nomes das colunas do cursor\n",
        "display(distinct) # Exibição do DataFrame Pandas contendo os resultados da consulta\n",
        "cursor.close() # Fechamento do cursor após a conclusão da consulta\n",
        "connection.close() # Fechamento da conexão após a consulta"
      ],
      "metadata": {
        "id": "h2FG4DlBq0xe"
      },
      "execution_count": null,
      "outputs": []
    },
    {
      "cell_type": "markdown",
      "source": [
        "##ORDER BY##\n",
        ">Vamos selecionar todos os atributos da tabela ItemPedido, ordenando de forma\n",
        "Crescente por quantidade"
      ],
      "metadata": {
        "id": "P3UKWzqJvQLK"
      }
    },
    {
      "cell_type": "code",
      "source": [
        "# Abertura da conexão para uma nova consulta\n",
        "connection = mysql.connector.connect(\n",
        "    host=host,\n",
        "    user=user,\n",
        "    password=password,\n",
        "    database=database,\n",
        ")\n",
        "cursor = connection.cursor()  # Criação de um cursor para executar consultas SQL no banco de dados\n",
        "# Definição da consulta SQL a ser executada\n",
        "query = '''\n",
        "SELECT *\n",
        "  FROM ItemPedido\n",
        " ORDER BY quantidade ASC;\n",
        "''' # se não usarmos asc ou desc, por padrão ele usará asc\n",
        "cursor.execute(query) # Execução da consulta no banco de dados\n",
        "result = cursor.fetchall() # Recuperação de todos os resultados da consulta\n",
        "distinct = pd.DataFrame(result, columns=cursor.column_names) # Criação de um DataFrame Pandas usando os resultados da consulta e os nomes das colunas do cursor\n",
        "display(distinct) # Exibição do DataFrame Pandas contendo os resultados da consulta\n",
        "cursor.close() # Fechamento do cursor após a conclusão da consulta\n",
        "connection.close() # Fechamento da conexão após a consulta"
      ],
      "metadata": {
        "id": "GlEkUUIMvHne"
      },
      "execution_count": null,
      "outputs": []
    },
    {
      "cell_type": "markdown",
      "source": [
        ">Vamos selecionar todos os atributos da tabela ItemPedido, ordenando de forma\n",
        "decrescente por quantidade"
      ],
      "metadata": {
        "id": "n0ikJ_8WvnUt"
      }
    },
    {
      "cell_type": "code",
      "source": [
        "# Abertura da conexão para uma nova consulta\n",
        "connection = mysql.connector.connect(\n",
        "    host=host,\n",
        "    user=user,\n",
        "    password=password,\n",
        "    database=database,\n",
        ")\n",
        "cursor = connection.cursor()  # Criação de um cursor para executar consultas SQL no banco de dados\n",
        "# Definição da consulta SQL a ser executada\n",
        "query = '''\n",
        "SELECT *\n",
        "  FROM ItemPedido\n",
        " ORDER BY quantidade DESC;\n",
        "'''\n",
        "cursor.execute(query) # Execução da consulta no banco de dados\n",
        "result = cursor.fetchall() # Recuperação de todos os resultados da consulta\n",
        "distinct = pd.DataFrame(result, columns=cursor.column_names) # Criação de um DataFrame Pandas usando os resultados da consulta e os nomes das colunas do cursor\n",
        "display(distinct) # Exibição do DataFrame Pandas contendo os resultados da consulta\n",
        "cursor.close() # Fechamento do cursor após a conclusão da consulta\n",
        "connection.close() # Fechamento da conexão após a consulta"
      ],
      "metadata": {
        "id": "Vt1sQP4xvgaD"
      },
      "execution_count": null,
      "outputs": []
    },
    {
      "cell_type": "markdown",
      "source": [
        "##Tratamento de texto##\n",
        ">TRIM, REPLACE, LPAD, REPLICATE, SUBSTRING, UPPER, LOWER e LEN"
      ],
      "metadata": {
        "id": "CwK9uoVHxJKN"
      }
    },
    {
      "cell_type": "code",
      "source": [
        "# Abertura da conexão para uma nova consulta\n",
        "connection = mysql.connector.connect(\n",
        "    host=host,\n",
        "    user=user,\n",
        "    password=password,\n",
        "    database=database,\n",
        ")\n",
        "cursor = connection.cursor()  # Criação de um cursor para executar consultas SQL no banco de dados\n",
        "# Definição da consulta SQL a ser executada\n",
        "query = '''\n",
        "SELECT nome, id_produto,\n",
        "       TRIM(nome) AS trim,\n",
        "       REPLACE(nome, 'o', 'oo') AS rep,\n",
        "       LPAD(id_produto, 5, \"0\") AS lpad,\n",
        "       SUBSTRING(nome, 1, 2) AS sub,\n",
        "       UPPER(nome) AS UPPER,\n",
        "       LOWER(nome) AS LOWER,\n",
        "       LENGTH(nome) AS LENGTH\n",
        "  FROM Produto AS prod;\n",
        "'''\n",
        "cursor.execute(query) # Execução da consulta no banco de dados\n",
        "result = cursor.fetchall() # Recuperação de todos os resultados da consulta\n",
        "distinct = pd.DataFrame(result, columns=cursor.column_names) # Criação de um DataFrame Pandas usando os resultados da consulta e os nomes das colunas do cursor\n",
        "display(distinct) # Exibição do DataFrame Pandas contendo os resultados da consulta\n",
        "cursor.close() # Fechamento do cursor após a conclusão da consulta\n",
        "connection.close() # Fechamento da conexão após a consulta\n",
        "'''\n",
        "TRIM — remove espaços\n",
        "REPLACE — substitui algo por algo\n",
        "LPAD e REPLICATE — Replica valores\n",
        "SUBSTRING — pega trecho de um texto\n",
        "UPPER — deixa tudo maiúsculo\n",
        "LOWER — deixa tudo minúsculo\n",
        "LENGTH — calcula a quantidade de caracteres\n",
        "'''"
      ],
      "metadata": {
        "id": "iArChEaMxLY-"
      },
      "execution_count": null,
      "outputs": []
    },
    {
      "cell_type": "markdown",
      "source": [
        "##Conversão de tipos - CAST##\n",
        ">Nesse bloco vamos selecionar o atributo id_cliente da tabela pedido e vamos\n",
        "fazer uma consulta que retorne uma coluna nova chamada id_cliente_texto com\n",
        "a concatenação (CONCAT) do texto \"Cliente - \" com o id do cliente convertido (CAST) em texto"
      ],
      "metadata": {
        "id": "izC7Hg80xjbq"
      }
    },
    {
      "cell_type": "code",
      "source": [
        "# Abertura da conexão para uma nova consulta\n",
        "connection = mysql.connector.connect(\n",
        "    host=host,\n",
        "    user=user,\n",
        "    password=password,\n",
        "    database=database,\n",
        ")\n",
        "cursor = connection.cursor()  # Criação de um cursor para executar consultas SQL no banco de dados\n",
        "# Definição da consulta SQL a ser executada\n",
        "query = '''\n",
        "SELECT id_cliente,\n",
        "       concat('Cliente - ', CAST(id_cliente AS CHAR)) AS id_cliente_texto\n",
        "  FROM Pedido;\n",
        "'''\n",
        "cursor.execute(query) # Execução da consulta no banco de dados\n",
        "result = cursor.fetchall() # Recuperação de todos os resultados da consulta\n",
        "distinct = pd.DataFrame(result, columns=cursor.column_names) # Criação de um DataFrame Pandas usando os resultados da consulta e os nomes das colunas do cursor\n",
        "display(distinct) # Exibição do DataFrame Pandas contendo os resultados da consulta\n",
        "cursor.close() # Fechamento do cursor após a conclusão da consulta\n",
        "connection.close() # Fechamento da conexão após a consulta"
      ],
      "metadata": {
        "id": "BAsxZLWSxWIu"
      },
      "execution_count": null,
      "outputs": []
    },
    {
      "cell_type": "markdown",
      "source": [
        "##CASE WHEN - Semelhante ao IF/ELSE##"
      ],
      "metadata": {
        "id": "afgZkG3f0IYx"
      }
    },
    {
      "cell_type": "code",
      "source": [
        "# Abertura da conexão para uma nova consulta\n",
        "connection = mysql.connector.connect(\n",
        "    host=host,\n",
        "    user=user,\n",
        "    password=password,\n",
        "    database=database,\n",
        ")\n",
        "cursor = connection.cursor()  # Criação de um cursor para executar consultas SQL no banco de dados\n",
        "# Definição da consulta SQL a ser executada\n",
        "query = '''\n",
        "SELECT id_pedido,\n",
        "\tCASE WHEN quantidade > 30 THEN 'Atacado'\n",
        "    ELSE 'Varejo' END\n",
        "FROM ItemPedido;\n",
        "'''\n",
        "cursor.execute(query) # Execução da consulta no banco de dados\n",
        "result = cursor.fetchall() # Recuperação de todos os resultados da consulta\n",
        "distinct = pd.DataFrame(result, columns=cursor.column_names) # Criação de um DataFrame Pandas usando os resultados da consulta e os nomes das colunas do cursor\n",
        "display(distinct) # Exibição do DataFrame Pandas contendo os resultados da consulta\n",
        "cursor.close() # Fechamento do cursor após a conclusão da consulta"
      ],
      "metadata": {
        "id": "w2u1vBv-xyh1"
      },
      "execution_count": null,
      "outputs": []
    },
    {
      "cell_type": "markdown",
      "source": [
        "##Armazenando uma consulta - VIEW##\n",
        ">Agora vamos construir a mesma consulta executada no bloco anteior, porém, essa\n",
        "consulta será uma VIEW, isso significa que essa consulta ficará guardada no\n",
        "banco de dados original, no entanto não ocupará o espaço de uma tabela orginal"
      ],
      "metadata": {
        "id": "8IezQWJg9StO"
      }
    },
    {
      "cell_type": "code",
      "source": [
        "# Abertura da conexão para uma nova consulta\n",
        "connection = mysql.connector.connect(\n",
        "    host=host,\n",
        "    user=user,\n",
        "    password=password,\n",
        "    database=database,\n",
        ")\n",
        "cursor = connection.cursor()  # Criação de um cursor para executar consultas SQL no banco de dados\n",
        "# Definição da consulta SQL a ser executada\n",
        "query = '''\n",
        "CREATE OR REPLACE VIEW query_class as\n",
        "SELECT id_pedido,\n",
        "\tCASE WHEN quantidade > 30 THEN 'Atacado'\n",
        "    ELSE 'Varejo' END\n",
        "FROM ItemPedido;\n",
        "'''\n",
        "cursor.execute(query) # Execução da consulta no banco de dados\n",
        "result = cursor.fetchall() # Recuperação de todos os resultados da consulta\n",
        "distinct = pd.DataFrame(result, columns=cursor.column_names) # Criação de um DataFrame Pandas usando os resultados da consulta e os nomes das colunas do cursor\n",
        "display(distinct) # Exibição do DataFrame Pandas contendo os resultados da consulta\n",
        "cursor.close() # Fechamento do cursor após a conclusão da consulta\n",
        "connection.close() # Fechamento da conexão após a consulta"
      ],
      "metadata": {
        "id": "rh6CsT2k9Ugx"
      },
      "execution_count": null,
      "outputs": []
    },
    {
      "cell_type": "markdown",
      "source": [
        "##Objetivo: Fazer uma consulta que retorne as tabelas do banco de dados loja##\n",
        ">Resumo do comando: exibe todas as tabelas do banco de dados\n",
        "aqui podemos perceber que a view criada no bloco anterior está armazenada\n",
        "no banco de dados original como uma tabela chamada query_class"
      ],
      "metadata": {
        "id": "ZndvrjFz9hMd"
      }
    },
    {
      "cell_type": "code",
      "source": [
        "# Estabelecimento da conexão com o banco de dados usando as informações fornecidas\n",
        "connection = mysql.connector.connect(\n",
        "    host=host,\n",
        "    user=user,\n",
        "    password=password,\n",
        "    database=database,\n",
        ")\n",
        "cursor = connection.cursor() # Criação de um cursor para executar consultas SQL no banco de dados\n",
        "query = 'SHOW TABLES;' # Definição da consulta SQL a ser executada\n",
        "cursor.execute(query) # Execução da consulta no banco de dados\n",
        "result = cursor.fetchall() # Recuperação de todos os resultados da consulta\n",
        "tables = pd.DataFrame(result, columns=cursor.column_names) # Criação de um DataFrame Pandas usando os resultados da consulta e os nomes das colunas do cursor\n",
        "display(tables) # Exibição do DataFrame Pandas contendo os resultados da consulta\n",
        "cursor.close() # Fechamento do cursor após a conclusão da consulta\n",
        "connection.close() # Fechamento da conexão após a consulta"
      ],
      "metadata": {
        "id": "hlGBjLqF9kzz"
      },
      "execution_count": null,
      "outputs": []
    },
    {
      "cell_type": "markdown",
      "source": [
        ">Esse bloco faz a leitura da consulta que está armazenada no banco original"
      ],
      "metadata": {
        "id": "hYzO_QpN92S0"
      }
    },
    {
      "cell_type": "code",
      "source": [
        "# Leitura da VIEW\n",
        "# Abertura da conexão para uma nova consulta\n",
        "connection = mysql.connector.connect(\n",
        "    host=host,\n",
        "    user=user,\n",
        "    password=password,\n",
        "    database=database,\n",
        ")\n",
        "cursor = connection.cursor()  # Criação de um cursor para executar consultas SQL no banco de dados\n",
        "# Definição da consulta SQL a ser executada\n",
        "query = '''\n",
        "select * from query_class;\n",
        "'''\n",
        "cursor.execute(query) # Execução da consulta no banco de dados\n",
        "result = cursor.fetchall() # Recuperação de todos os resultados da consulta\n",
        "distinct = pd.DataFrame(result, columns=cursor.column_names) # Criação de um DataFrame Pandas usando os resultados da consulta e os nomes das colunas do cursor\n",
        "display(distinct) # Exibição do DataFrame Pandas contendo os resultados da consulta\n",
        "cursor.close() # Fechamento do cursor após a conclusão da consulta\n",
        "connection.close() # Fechamento da conexão após a consulta"
      ],
      "metadata": {
        "id": "4DjfxTOT9wJT"
      },
      "execution_count": null,
      "outputs": []
    },
    {
      "cell_type": "markdown",
      "source": [
        ">Nesse bloco faremos a exclusão da VIEW do banco original e o mesmo voltará a ter as 6 tabelas iniciais"
      ],
      "metadata": {
        "id": "PhSI_yZr-GLL"
      }
    },
    {
      "cell_type": "code",
      "source": [
        "connection = mysql.connector.connect(\n",
        "    host=host,\n",
        "    user=user,\n",
        "    password=password,\n",
        "    database=database,\n",
        ")\n",
        "cursor = connection.cursor() # Criação de um cursor para executar consultas SQL no banco de dados\n",
        "query = 'DROP VIEW query_class;' # Definição da consulta SQL a ser executada\n",
        "cursor.execute(query) # Execução da consulta no banco de dados\n",
        "cursor.close() # Fechamento do cursor após a conclusão da consulta\n",
        "connection.close() # Fechamento da conexão após a consulta"
      ],
      "metadata": {
        "id": "of6lGsuP98Zj"
      },
      "execution_count": null,
      "outputs": []
    },
    {
      "cell_type": "markdown",
      "source": [
        "##Objetivo: Fazer uma consulta que retorne as tabelas do banco de dados loja##\n",
        ">Resumo do comando: exibe todas as tabelas do banco de dados"
      ],
      "metadata": {
        "id": "eX-wIf1n-Ybb"
      }
    },
    {
      "cell_type": "code",
      "source": [
        "# Estabelecimento da conexão com o banco de dados usando as informações fornecidas\n",
        "connection = mysql.connector.connect(\n",
        "    host=host,\n",
        "    user=user,\n",
        "    password=password,\n",
        "    database=database,\n",
        ")\n",
        "cursor = connection.cursor() # Criação de um cursor para executar consultas SQL no banco de dados\n",
        "query = 'SHOW TABLES;' # Definição da consulta SQL a ser executada\n",
        "cursor.execute(query) # Execução da consulta no banco de dados\n",
        "result = cursor.fetchall() # Recuperação de todos os resultados da consulta\n",
        "tables = pd.DataFrame(result, columns=cursor.column_names) # Criação de um DataFrame Pandas usando os resultados da consulta e os nomes das colunas do cursor\n",
        "display(tables) # Exibição do DataFrame Pandas contendo os resultados da consulta\n",
        "cursor.close() # Fechamento do cursor após a conclusão da consulta\n",
        "connection.close() # Fechamento da conexão após a consulta"
      ],
      "metadata": {
        "id": "Cbk7VDJy-LsK"
      },
      "execution_count": null,
      "outputs": []
    },
    {
      "cell_type": "code",
      "source": [],
      "metadata": {
        "id": "4wbLMOmd-k3q"
      },
      "execution_count": null,
      "outputs": []
    },
    {
      "cell_type": "markdown",
      "source": [
        "#JOINS#\n",
        "##ESQUEMA GERAL##"
      ],
      "metadata": {
        "id": "KIWzfBkD-3Bx"
      }
    },
    {
      "cell_type": "markdown",
      "source": [
        "###LEFT JOIN###\n",
        ">O Left Join tem como resultado todos os registros que estão na tabela A (mesmo que não estejam na tabela B) e os registros da tabela B que são comuns à tabela A."
      ],
      "metadata": {
        "id": "mwH3poHz_7Sp"
      }
    },
    {
      "cell_type": "code",
      "source": [
        "# Abertura da conexão para uma nova consulta\n",
        "connection = mysql.connector.connect(\n",
        "    host=host,\n",
        "    user=user,\n",
        "    password=password,\n",
        "    database=database,\n",
        ")\n",
        "cursor = connection.cursor()  # Criação de um cursor para executar consultas SQL no banco de dados\n",
        "# Definição da consulta SQL a ser executada\n",
        "query = '''\n",
        "SELECT *\n",
        "  FROM      Cliente c\n",
        "  LEFT JOIN Pedido p ON p.id_cliente = c.id_cliente;\n",
        "'''\n",
        "cursor.execute(query) # Execução da consulta no banco de dados\n",
        "result = cursor.fetchall() # Recuperação de todos os resultados da consulta\n",
        "distinct = pd.DataFrame(result, columns=cursor.column_names) # Criação de um DataFrame Pandas usando os resultados da consulta e os nomes das colunas do cursor\n",
        "display(distinct) # Exibição do DataFrame Pandas contendo os resultados da consulta\n",
        "cursor.close() # Fechamento do cursor após a conclusão da consulta\n",
        "connection.close() # Fechamento da conexão após a consulta"
      ],
      "metadata": {
        "id": "o0bcW1S2AFU0"
      },
      "execution_count": null,
      "outputs": []
    },
    {
      "cell_type": "markdown",
      "source": [
        "##INNER JOIN##\n",
        ">O Inner Join é o método de junção mais conhecido e retorna os registros que  são comuns às duas tabelas"
      ],
      "metadata": {
        "id": "1sHLElRHF8JT"
      }
    },
    {
      "cell_type": "code",
      "source": [
        "# Abertura da conexão para uma nova consulta\n",
        "connection = mysql.connector.connect(\n",
        "    host=host,\n",
        "    user=user,\n",
        "    password=password,\n",
        "    database=database,\n",
        ")\n",
        "cursor = connection.cursor()  # Criação de um cursor para executar consultas SQL no banco de dados\n",
        "# Definição da consulta SQL a ser executada\n",
        "query = '''\n",
        "SELECT *\n",
        "  FROM  ItemPedido vendas\n",
        "  INNER JOIN ProdutoCategoria cat ON cat.id_produto = vendas.id_produto;\n",
        "'''\n",
        "cursor.execute(query) # Execução da consulta no banco de dados\n",
        "result = cursor.fetchall() # Recuperação de todos os resultados da consulta\n",
        "distinct = pd.DataFrame(result, columns=cursor.column_names) # Criação de um DataFrame Pandas usando os resultados da consulta e os nomes das colunas do cursor\n",
        "display(distinct) # Exibição do DataFrame Pandas contendo os resultados da consulta\n",
        "cursor.close() # Fechamento do cursor após a conclusão da consulta\n",
        "connection.close() # Fechamento da conexão após a consulta"
      ],
      "metadata": {
        "id": "MsGVyC0nAM7U"
      },
      "execution_count": null,
      "outputs": []
    },
    {
      "cell_type": "code",
      "source": [],
      "metadata": {
        "id": "XSTuvhKiGRyS"
      },
      "execution_count": null,
      "outputs": []
    },
    {
      "cell_type": "markdown",
      "source": [
        "##RIGHT JOIN##\n",
        ">Usando o Right Join teremos como resultado todos os registros que estão\n",
        "na tabela B (mesmo que não estejam na tabela A)  e os registros da tabela A\n",
        "que são comuns à tabela B."
      ],
      "metadata": {
        "id": "GuAQtTbAGYsa"
      }
    },
    {
      "cell_type": "code",
      "source": [
        "# Abertura da conexão para uma nova consulta\n",
        "connection = mysql.connector.connect(\n",
        "    host=host,\n",
        "    user=user,\n",
        "    password=password,\n",
        "    database=database,\n",
        ")\n",
        "cursor = connection.cursor()  # Criação de um cursor para executar consultas SQL no banco de dados\n",
        "# Definição da consulta SQL a ser executada\n",
        "query = '''\n",
        "SELECT *\n",
        "  FROM      Pedido p\n",
        "  RIGHT JOIN Cliente c ON p.id_cliente = c.id_cliente;\n",
        "'''\n",
        "cursor.execute(query) # Execução da consulta no banco de dados\n",
        "result = cursor.fetchall() # Recuperação de todos os resultados da consulta\n",
        "distinct = pd.DataFrame(result, columns=cursor.column_names) # Criação de um DataFrame Pandas usando os resultados da consulta e os nomes das colunas do cursor\n",
        "display(distinct) # Exibição do DataFrame Pandas contendo os resultados da consulta\n",
        "cursor.close() # Fechamento do cursor após a conclusão da consulta\n",
        "connection.close() # Fechamento da conexão após a consulta"
      ],
      "metadata": {
        "id": "XcTpNF-MGiUQ"
      },
      "execution_count": null,
      "outputs": []
    },
    {
      "cell_type": "markdown",
      "source": [
        "##OUTER JOIN##\n",
        ">O Outer Join (também conhecido por Full Outer Join ou Full Join) tem como\n",
        "resultado todos os registros que estão na tabela A e todos os registros da tabela B. No MySQL não tem nativamente"
      ],
      "metadata": {
        "id": "qUAIOb5KG81h"
      }
    },
    {
      "cell_type": "code",
      "source": [
        "# Abertura da conexão para uma nova consulta\n",
        "connection = mysql.connector.connect(\n",
        "    host=host,\n",
        "    user=user,\n",
        "    password=password,\n",
        "    database=database,\n",
        ")\n",
        "cursor = connection.cursor()  # Criação de um cursor para executar consultas SQL no banco de dados\n",
        "# Definição da consulta SQL a ser executada\n",
        "query = '''\n",
        "SELECT *\n",
        "  FROM      Cliente c\n",
        "  LEFT JOIN Pedido p ON p.id_cliente = c.id_cliente\n",
        "UNION\n",
        "SELECT *\n",
        "  FROM      Pedido p\n",
        "  LEFT JOIN Cliente c ON p.id_cliente = c.id_cliente;\n",
        "'''\n",
        "cursor.execute(query) # Execução da consulta no banco de dados\n",
        "result = cursor.fetchall() # Recuperação de todos os resultados da consulta\n",
        "distinct = pd.DataFrame(result, columns=cursor.column_names) # Criação de um DataFrame Pandas usando os resultados da consulta e os nomes das colunas do cursor\n",
        "display(distinct) # Exibição do DataFrame Pandas contendo os resultados da consulta\n",
        "cursor.close() # Fechamento do cursor após a conclusão da consulta\n",
        "connection.close() # Fechamento da conexão após a consulta"
      ],
      "metadata": {
        "id": "MI0kudc4G1GQ"
      },
      "execution_count": null,
      "outputs": []
    },
    {
      "cell_type": "code",
      "source": [],
      "metadata": {
        "id": "zy2nweQcHIsP"
      },
      "execution_count": null,
      "outputs": []
    }
  ]
}