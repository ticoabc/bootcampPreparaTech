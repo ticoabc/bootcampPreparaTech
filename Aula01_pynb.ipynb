{
  "nbformat": 4,
  "nbformat_minor": 0,
  "metadata": {
    "colab": {
      "provenance": [],
      "authorship_tag": "ABX9TyPNj8G8SqB8P7d4EBXTtUa+",
      "include_colab_link": true
    },
    "kernelspec": {
      "name": "python3",
      "display_name": "Python 3"
    },
    "language_info": {
      "name": "python"
    }
  },
  "cells": [
    {
      "cell_type": "markdown",
      "metadata": {
        "id": "view-in-github",
        "colab_type": "text"
      },
      "source": [
        "<a href=\"https://colab.research.google.com/github/ticoabc/bootcampPreparaTech/blob/main/Aula01_pynb.ipynb\" target=\"_parent\"><img src=\"https://colab.research.google.com/assets/colab-badge.svg\" alt=\"Open In Colab\"/></a>"
      ]
    },
    {
      "cell_type": "markdown",
      "source": [],
      "metadata": {
        "id": "DcQM8ssTe3ld"
      }
    },
    {
      "cell_type": "markdown",
      "source": [
        "# Introdução"
      ],
      "metadata": {
        "id": "nFRM_yUbfR5M"
      }
    },
    {
      "cell_type": "markdown",
      "source": [
        "'''\n",
        "Comentários longos dentro de uma célula de código, enquanto o '#' é utilizado para comentários *curtos*\n",
        "'''"
      ],
      "metadata": {
        "id": "32h6sihajpqV"
      }
    },
    {
      "cell_type": "code",
      "execution_count": 2,
      "metadata": {
        "id": "6q64kAMCEkR-",
        "colab": {
          "base_uri": "https://localhost:8080/"
        },
        "outputId": "cd82c7a2-65ec-4838-db01-f304013c724b"
      },
      "outputs": [
        {
          "output_type": "stream",
          "name": "stdout",
          "text": [
            "Hello World\n"
          ]
        }
      ],
      "source": [
        "print('Hello World')"
      ]
    },
    {
      "cell_type": "code",
      "source": [],
      "metadata": {
        "id": "6OvQdgYjlYav"
      },
      "execution_count": null,
      "outputs": []
    }
  ]
}