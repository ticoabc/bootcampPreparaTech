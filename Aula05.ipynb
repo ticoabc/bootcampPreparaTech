{
  "nbformat": 4,
  "nbformat_minor": 0,
  "metadata": {
    "colab": {
      "provenance": [],
      "toc_visible": true,
      "include_colab_link": true
    },
    "kernelspec": {
      "name": "python3",
      "display_name": "Python 3"
    },
    "language_info": {
      "name": "python"
    }
  },
  "cells": [
    {
      "cell_type": "markdown",
      "metadata": {
        "id": "view-in-github",
        "colab_type": "text"
      },
      "source": [
        "<a href=\"https://colab.research.google.com/github/ticoabc/bootcampPreparaTech/blob/main/Aula05.ipynb\" target=\"_parent\"><img src=\"https://colab.research.google.com/assets/colab-badge.svg\" alt=\"Open In Colab\"/></a>"
      ]
    },
    {
      "cell_type": "markdown",
      "source": [
        "#Aula05: Douglas Ribeiro\n",
        "##Estrutura de Dados - Strings"
      ],
      "metadata": {
        "id": "zD0ZcUH9VlKO"
      }
    },
    {
      "cell_type": "markdown",
      "source": [
        "## 1 - Introdução"
      ],
      "metadata": {
        "id": "djB-kYaoVzKB"
      }
    },
    {
      "cell_type": "code",
      "execution_count": null,
      "metadata": {
        "colab": {
          "base_uri": "https://localhost:8080/"
        },
        "id": "F-qYaq9rTuZ9",
        "outputId": "a2c256fc-5ae9-4e2c-a018-d02ebb3ced02"
      },
      "outputs": [
        {
          "name": "stdout",
          "output_type": "stream",
          "text": [
            "Informe o seu nome Douglas\n",
            "Informe sua altura em metros 1.85\n",
            "Informe se peso em Kg 80\n"
          ]
        }
      ],
      "source": [
        "cliente = input('Informe o seu nome ')\n",
        "altura = float(input('Informe sua altura em metros '))\n",
        "peso = float(input('Informe se peso em Kg '))"
      ]
    },
    {
      "cell_type": "code",
      "source": [
        "print(cliente)\n",
        "print(altura)\n",
        "print(peso)\n",
        "print(type(cliente))\n",
        "print(type(altura))\n",
        "print(type(peso))"
      ],
      "metadata": {
        "colab": {
          "base_uri": "https://localhost:8080/"
        },
        "id": "wC7W0KLAXlMq",
        "outputId": "3473bc80-678d-4c02-f78c-4e55585e1241"
      },
      "execution_count": null,
      "outputs": [
        {
          "output_type": "stream",
          "name": "stdout",
          "text": [
            "Douglas\n",
            "1.85\n",
            "80.0\n",
            "<class 'str'>\n",
            "<class 'float'>\n",
            "<class 'float'>\n"
          ]
        }
      ]
    },
    {
      "cell_type": "code",
      "source": [
        "imc = peso / altura ** 2\n",
        "print(f'O cliente {cliente} tem {altura} m de altura, {peso} kg e seu imc é {imc:.2f}')"
      ],
      "metadata": {
        "colab": {
          "base_uri": "https://localhost:8080/"
        },
        "id": "LUqy1jREZF7t",
        "outputId": "707363ce-aa8f-4308-f9b4-364426b20ee9"
      },
      "execution_count": null,
      "outputs": [
        {
          "output_type": "stream",
          "name": "stdout",
          "text": [
            "O cliente Douglas tem 1.85 m de altura, 80.0 kg e seu imc é 23.37\n"
          ]
        }
      ]
    },
    {
      "cell_type": "code",
      "source": [
        "'''\n",
        "Elabore um programa que receba do usuário nome, altura e peso,\n",
        "calcule e armazena o imc, e exiba as informações do nome, altura, peso, imc e\n",
        "caso p imc seja menor ou igual a 25 exiba o texto imc ok, caso contrário\n",
        "exiba verifique a possibilidade de consultar exames médicos\n",
        "'''"
      ],
      "metadata": {
        "id": "V8skkQTzgy_4"
      },
      "execution_count": null,
      "outputs": []
    },
    {
      "cell_type": "code",
      "source": [
        "cliente = input('Informe o seu nome ')\n",
        "altura = float(input('Informe sua altura em metros '))\n",
        "peso = float(input('Informe se peso em Kg '))\n",
        "imc = peso / altura ** 2\n",
        "if imc <= 25:\n",
        "  print(f'O cliente {cliente} tem {altura} m de altura, {peso} kg e seu imc é {imc:.2f} e imc ok')\n",
        "else:\n",
        "  print(f'O cliente {cliente} tem {altura} m de altura, {peso} kg e seu imc é {imc:.2f} verifique a possibilide de realizar exames médicos')"
      ],
      "metadata": {
        "colab": {
          "base_uri": "https://localhost:8080/"
        },
        "id": "znqCE5f4pmrN",
        "outputId": "5af9fe07-6408-41b6-fa2f-a4cd248303fa"
      },
      "execution_count": null,
      "outputs": [
        {
          "output_type": "stream",
          "name": "stdout",
          "text": [
            "Informe o seu nome Douglas\n",
            "Informe sua altura em metros 1.85\n",
            "Informe se peso em Kg 80\n",
            "O cliente Douglas tem 1.85 m de altura, 80.0 kg e seu imc é 23.37 e imc ok\n"
          ]
        }
      ]
    },
    {
      "cell_type": "markdown",
      "source": [
        "### 1.1 - Métodos de strings"
      ],
      "metadata": {
        "id": "sSu15_8KqiSf"
      }
    },
    {
      "cell_type": "code",
      "source": [
        "# 0    1   2   3   4   5  6  7  8  9 10 11 12 13 (índice)\n",
        "# -14 -13 -12 -11 -10 -9 -8 -7 -6 -5 -4 -3 -2 -1 (índice reverso)\n",
        "# 1º 2º 3º 4º 5º 6º 7º 8º 9º 10º 11º 12º 13º 14º (ordinal)\n",
        "# d  o  u  g  @  g  m  a  i   l   .   c   o   m\n",
        "email = 'doug@gmail.com'\n",
        "# encontrando um caracter pelo índice\n",
        "# Exemplo: qual é o quinto caracter dessa string?\n",
        "print(f'O quinto caracter dessa string é: {email[4]}')\n",
        "# Exemplo: qual é o último caracter dessa string?\n",
        "print(f'O último caracter dessa string é: {email[13]}')\n",
        "# Exemplo: Quais são os caracteres que vem depois do 2º caracter (excluindo o 2º)\n",
        "print(f'A sequência caracteres dessa string após o segundo é: {email[2:]}')\n",
        "# Exemplo: Quais são todos os caracteres dessa string?\n",
        "print(f'A sequência todos os caracteres dessa string é: {email[:]}')\n",
        "# Exemplo: buscar e imprimir todos os caracteres até o caracter de índice 4 (todos os caracteres antes do @ até o @ incluindo o @)\n",
        "print(f'A sequência caracteres dessa string até o índice 4 é: {email[:5]}')\n",
        "# Exemplo como acessar o último caracter da lista sem contar o tamaho dela (sem usar a função len())?\n",
        "print(f'O último caracter dessa string é: {email[-1]}')"
      ],
      "metadata": {
        "colab": {
          "base_uri": "https://localhost:8080/"
        },
        "id": "O4-KazZLqge6",
        "outputId": "83caddb5-3e80-46f2-b6cf-6927a2e34db1"
      },
      "execution_count": null,
      "outputs": [
        {
          "output_type": "stream",
          "name": "stdout",
          "text": [
            "O quinto caracter dessa string é: @\n",
            "O último caracter dessa string é: m\n",
            "A sequência caracteres dessa string após o segundo é: ug@gmail.com\n",
            "A sequência todos os caracteres dessa string é: doug@gmail.com\n",
            "A sequência caracteres dessa string até o índice 4 é: doug@\n",
            "O último caracter dessa string é: m\n"
          ]
        }
      ]
    },
    {
      "cell_type": "code",
      "source": [
        "# Convertendo outros tipos em tipo str\n",
        "cpf = 12345678910\n",
        "print(type(cpf))\n",
        "cpf = str(cpf)\n",
        "print(type(cpf))"
      ],
      "metadata": {
        "colab": {
          "base_uri": "https://localhost:8080/"
        },
        "id": "uiiDp7flzU5W",
        "outputId": "64da7191-03ce-4453-e32a-63f100b587bf"
      },
      "execution_count": null,
      "outputs": [
        {
          "output_type": "stream",
          "name": "stdout",
          "text": [
            "<class 'int'>\n",
            "<class 'str'>\n"
          ]
        }
      ]
    },
    {
      "cell_type": "code",
      "source": [
        "# Operador IN\n",
        "'''\n",
        "O operador IN verifica se um caracter está em um string e retorna\n",
        "verdadeiro (TRUE) ou falso (FALSE)\n",
        "'''\n",
        "nome = 'Douglas'\n",
        "'uo' in nome"
      ],
      "metadata": {
        "colab": {
          "base_uri": "https://localhost:8080/"
        },
        "id": "wVS-g-pT1H1b",
        "outputId": "dd0962e2-1b21-4df7-c1ae-c7651681db6a"
      },
      "execution_count": null,
      "outputs": [
        {
          "output_type": "execute_result",
          "data": {
            "text/plain": [
              "False"
            ]
          },
          "metadata": {},
          "execution_count": 41
        }
      ]
    },
    {
      "cell_type": "code",
      "source": [
        "# Operador NOT IN\n",
        "'''\n",
        "O operador NOT IN verifica se um caracter não está em um string e retorna\n",
        "verdadeiro (TRUE) ou falso (FALSE), ele é o contrário do operador IN\n",
        "'''\n",
        "nome = 'Douglas'\n",
        "'uo' in nome\n",
        "nome = 'Douglas'\n",
        "'uo' not in nome"
      ],
      "metadata": {
        "colab": {
          "base_uri": "https://localhost:8080/"
        },
        "id": "4NbbdlLJ2BW9",
        "outputId": "e1d4ae4f-80ea-4729-a347-fbcda204fc51"
      },
      "execution_count": null,
      "outputs": [
        {
          "output_type": "execute_result",
          "data": {
            "text/plain": [
              "True"
            ]
          },
          "metadata": {},
          "execution_count": 42
        }
      ]
    },
    {
      "cell_type": "code",
      "source": [
        "# Função len\n",
        "'''\n",
        "Esta é uma função que retorna a quantidade de caracteres presentes em uma\n",
        "string\n",
        "'''\n",
        "endereco = 'Brasil'\n",
        "print(len(endereco))"
      ],
      "metadata": {
        "colab": {
          "base_uri": "https://localhost:8080/"
        },
        "id": "7Fs92OyR3Enl",
        "outputId": "91cb095e-7656-42bb-d85e-9d04ef38dc02"
      },
      "execution_count": null,
      "outputs": [
        {
          "output_type": "stream",
          "name": "stdout",
          "text": [
            "6\n"
          ]
        }
      ]
    },
    {
      "cell_type": "code",
      "source": [
        "# método capitalize\n",
        "'''\n",
        "Este método é aplicado quando queremos deixar o primeiro caracter\n",
        "de uma string como maiúsculo\n",
        "'''\n",
        "nome = 'douglas'\n",
        "print(nome)\n",
        "nome = nome.capitalize() # este método funciona em tempo de execução, se eu quiser deixar permanente a mudança é necessário sobreescrever a variável\n",
        "print(nome)"
      ],
      "metadata": {
        "colab": {
          "base_uri": "https://localhost:8080/"
        },
        "id": "A32IkmJj3mRg",
        "outputId": "455af6ca-1e9e-4b1e-8c6a-31a4937a6fa9"
      },
      "execution_count": null,
      "outputs": [
        {
          "output_type": "stream",
          "name": "stdout",
          "text": [
            "douglas\n",
            "Douglas\n"
          ]
        }
      ]
    },
    {
      "cell_type": "code",
      "source": [
        "'''\n",
        "Imagine que sua string é um nome completo e você deseja\n",
        "deixar a primeira letra de cada nome como maiúscula\n",
        "'''\n",
        "nome = 'douglas almeida ribeiro'\n",
        "print(nome)\n",
        "nome = nome.capitalize()\n",
        "print(nome)\n",
        "nome = nome.title()\n",
        "print(nome)"
      ],
      "metadata": {
        "colab": {
          "base_uri": "https://localhost:8080/"
        },
        "id": "CrY1n01V4uqu",
        "outputId": "33fc7b62-66ce-4433-a48e-edb51bbaf57b"
      },
      "execution_count": null,
      "outputs": [
        {
          "output_type": "stream",
          "name": "stdout",
          "text": [
            "douglas almeida ribeiro\n",
            "Douglas almeida ribeiro\n",
            "Douglas Almeida Ribeiro\n"
          ]
        }
      ]
    },
    {
      "cell_type": "code",
      "source": [
        "'''\n",
        "Imagine que você deseja deixar todos os caracteres de uma string\n",
        "como maiúsculos\n",
        "'''\n",
        "nome = 'douglas almeida ribeiro'\n",
        "print(nome)\n",
        "nome = nome.upper()\n",
        "print(nome)"
      ],
      "metadata": {
        "colab": {
          "base_uri": "https://localhost:8080/"
        },
        "id": "TGk2-pdc57Vz",
        "outputId": "8c07082b-4422-4a84-f03f-fa25d6eaefb1"
      },
      "execution_count": null,
      "outputs": [
        {
          "output_type": "stream",
          "name": "stdout",
          "text": [
            "douglas almeida ribeiro\n",
            "DOUGLAS ALMEIDA RIBEIRO\n"
          ]
        }
      ]
    },
    {
      "cell_type": "code",
      "source": [
        "'''\n",
        "Imagine que você deseja contar quantas vezes um determnado caracter aparece\n",
        "em uma string\n",
        "'''\n",
        "email = 'doug@gmail.com'\n",
        "email.count('o')"
      ],
      "metadata": {
        "colab": {
          "base_uri": "https://localhost:8080/"
        },
        "id": "ko7L3jdR67fj",
        "outputId": "76ab438b-bd2a-4dd5-c139-7feb3ac96b97"
      },
      "execution_count": null,
      "outputs": [
        {
          "output_type": "execute_result",
          "data": {
            "text/plain": [
              "2"
            ]
          },
          "metadata": {},
          "execution_count": 54
        }
      ]
    },
    {
      "cell_type": "code",
      "source": [
        "'''\n",
        "Imagine que você deseja saber se uma string termina com um carater ou sequencia\n",
        "de caracteres específicos e retorna com resposta verdadeiro ou falso\n",
        "'''\n",
        "email = 'doug@gmail.com'\n",
        "email.endswith('gmail.com')"
      ],
      "metadata": {
        "colab": {
          "base_uri": "https://localhost:8080/"
        },
        "id": "2E2Dchl87mMz",
        "outputId": "98e20622-4982-46f2-c643-296737d4116f"
      },
      "execution_count": null,
      "outputs": [
        {
          "output_type": "execute_result",
          "data": {
            "text/plain": [
              "True"
            ]
          },
          "metadata": {},
          "execution_count": 58
        }
      ]
    },
    {
      "cell_type": "code",
      "source": [
        "'''\n",
        "Imagine que você deseja saber se uma string começa com um ou uma sequência\n",
        "específica de caracateres\n",
        "'''\n",
        "email = 'doug@gmail.com'\n",
        "email.startswith('doug')"
      ],
      "metadata": {
        "colab": {
          "base_uri": "https://localhost:8080/"
        },
        "id": "HirGd_048bHN",
        "outputId": "f4b6d54d-dd81-4578-9ff9-dbd7432cfa3a"
      },
      "execution_count": null,
      "outputs": [
        {
          "output_type": "execute_result",
          "data": {
            "text/plain": [
              "True"
            ]
          },
          "metadata": {},
          "execution_count": 60
        }
      ]
    },
    {
      "cell_type": "code",
      "source": [
        "'''\n",
        "Imagine que você deseja vericar se o conteúdo de uma variável\n",
        "é ou não numérico. Este comando retornará verdadeiro ou falso\n",
        "conforme o caso\n",
        "'''\n",
        "cpf = '12345678910'\n",
        "cpf.isnumeric()\n",
        "cpf2 = 'umdoistresquatro'\n",
        "cpf2.isnumeric()"
      ],
      "metadata": {
        "colab": {
          "base_uri": "https://localhost:8080/"
        },
        "id": "5W7NUppF9P88",
        "outputId": "82890086-d9e1-451e-ee09-fbc289c48df0"
      },
      "execution_count": null,
      "outputs": [
        {
          "output_type": "execute_result",
          "data": {
            "text/plain": [
              "False"
            ]
          },
          "metadata": {},
          "execution_count": 63
        }
      ]
    },
    {
      "cell_type": "code",
      "source": [
        "'''\n",
        "Imagine que você deseja vericar se o conteúdo de uma variável\n",
        "é não numérico. Este comando retornará verdadeiro ou falso\n",
        "conforme o caso\n",
        "'''\n",
        "cpf = '12345678910'\n",
        "cpf.isalpha()\n",
        "cpf2 = 'umdoistresquatro'\n",
        "cpf2.isalpha()"
      ],
      "metadata": {
        "colab": {
          "base_uri": "https://localhost:8080/"
        },
        "id": "Gz3Y_GqG-E2p",
        "outputId": "beaef2a7-f583-4d8f-d0ab-6bf68cb53f65"
      },
      "execution_count": null,
      "outputs": [
        {
          "output_type": "execute_result",
          "data": {
            "text/plain": [
              "True"
            ]
          },
          "metadata": {},
          "execution_count": 65
        }
      ]
    },
    {
      "cell_type": "code",
      "source": [
        "'''\n",
        "Imagine que você deseja vericar se o conteúdo de uma variável\n",
        "é composto por letras e números. Este comando retornará verdadeiro ou falso\n",
        "conforme o caso\n",
        "'''\n",
        "cpf3 = '1dois3quatro'\n",
        "cpf.isalnum()"
      ],
      "metadata": {
        "colab": {
          "base_uri": "https://localhost:8080/"
        },
        "id": "gu0pGSjd-bbT",
        "outputId": "c1015c40-c30c-466b-b2ad-ecd6a1f7b35b"
      },
      "execution_count": null,
      "outputs": [
        {
          "output_type": "execute_result",
          "data": {
            "text/plain": [
              "True"
            ]
          },
          "metadata": {},
          "execution_count": 66
        }
      ]
    },
    {
      "cell_type": "markdown",
      "source": [
        "Método \"Strip\""
      ],
      "metadata": {
        "id": "5nR2jtImPpJ8"
      }
    },
    {
      "cell_type": "code",
      "source": [
        "funcionario = \" Douglas\"\n",
        "print(funcionario)\n",
        "print(len(funcionario)) #Antes do \"strip\"\n",
        "funcionario = funcionario.strip()\n",
        "print(funcionario)\n",
        "print(len(funcionario))#Depois do \"strip#"
      ],
      "metadata": {
        "colab": {
          "base_uri": "https://localhost:8080/"
        },
        "id": "kf4psXpSPu08",
        "outputId": "9b234a51-4ed8-472e-9740-34d90d2ed892"
      },
      "execution_count": 4,
      "outputs": [
        {
          "output_type": "stream",
          "name": "stdout",
          "text": [
            " Douglas\n",
            "8\n",
            "Douglas\n",
            "7\n"
          ]
        }
      ]
    },
    {
      "cell_type": "markdown",
      "source": [
        "Substituir um determinado caractere por outro"
      ],
      "metadata": {
        "id": "hyHMBTy-Ryu_"
      }
    },
    {
      "cell_type": "code",
      "source": [
        "preco = 'R$ 10.50'\n",
        "print(preco)\n",
        "preco = preco.replace('.', ',')\n",
        "print(preco)"
      ],
      "metadata": {
        "colab": {
          "base_uri": "https://localhost:8080/"
        },
        "id": "MlQY9kmnQOMu",
        "outputId": "d308528f-e36f-4f25-c1bd-d2a3f5cabba3"
      },
      "execution_count": 5,
      "outputs": [
        {
          "output_type": "stream",
          "name": "stdout",
          "text": [
            "R$ 10.50\n",
            "R$ 10,50\n"
          ]
        }
      ]
    },
    {
      "cell_type": "markdown",
      "source": [
        "Dividindo uma 'String' em duas ou mais 'Substrings'. Quando uma string é submetida ao método 'split', se torna uma lista (list)"
      ],
      "metadata": {
        "id": "rCBfLWOQSoCO"
      }
    },
    {
      "cell_type": "code",
      "source": [
        "nome_completo = 'Fade to Black'\n",
        "print(nome_completo)\n",
        "novo_nome = nome_completo.split()\n",
        "print(novo_nome)\n",
        "print(type(nome_completo))\n",
        "print(type(novo_nome))"
      ],
      "metadata": {
        "colab": {
          "base_uri": "https://localhost:8080/"
        },
        "id": "YP2nxGaNSmEP",
        "outputId": "4e727702-e7da-4c5b-a8ee-d942168a5887"
      },
      "execution_count": 7,
      "outputs": [
        {
          "output_type": "stream",
          "name": "stdout",
          "text": [
            "Fade to Black\n",
            "['Fade', 'to', 'Black']\n",
            "<class 'str'>\n",
            "<class 'list'>\n"
          ]
        }
      ]
    },
    {
      "cell_type": "markdown",
      "source": [
        "Crie um programa que receba do usuário dois ou mais nomes separados\n",
        "por espaços e no mesmo input e os armazene em uma variável chamada nomes"
      ],
      "metadata": {
        "id": "lbjMBB3VXHb2"
      }
    },
    {
      "cell_type": "code",
      "source": [
        "nome_usuario = input('Informe o seu nome completo: ')\n",
        "nomes = nome_usuario.split()\n",
        "print(nomes)"
      ],
      "metadata": {
        "colab": {
          "base_uri": "https://localhost:8080/"
        },
        "id": "Gah7AAEVUh3w",
        "outputId": "02395c98-4a26-49c1-aaa8-952ce2d96c7a"
      },
      "execution_count": 8,
      "outputs": [
        {
          "output_type": "stream",
          "name": "stdout",
          "text": [
            "Informe o seu nome completo: Lourinaldo Alves Gomes dos Anjos (Naldo)\n",
            "['Lourinaldo', 'Alves', 'Gomes', 'dos', 'Anjos', '(Naldo)']\n"
          ]
        }
      ]
    },
    {
      "cell_type": "markdown",
      "source": [
        "Ememplo Adicional"
      ],
      "metadata": {
        "id": "hCzblD0MZc58"
      }
    },
    {
      "cell_type": "code",
      "source": [
        "email = 'tiagoabc@gmail.com'\n",
        "lista = email.split('@')\n",
        "print(lista)"
      ],
      "metadata": {
        "colab": {
          "base_uri": "https://localhost:8080/"
        },
        "id": "DNrl4JZ5X_iK",
        "outputId": "cf3736f5-1445-472b-ef51-414a1f9dc2c5"
      },
      "execution_count": 9,
      "outputs": [
        {
          "output_type": "stream",
          "name": "stdout",
          "text": [
            "['tiagoabc', 'gmail.com']\n"
          ]
        }
      ]
    },
    {
      "cell_type": "code",
      "source": [],
      "metadata": {
        "id": "Qj4npd-mZzbR"
      },
      "execution_count": null,
      "outputs": []
    },
    {
      "cell_type": "markdown",
      "source": [
        "## 2 - Estruturas de dados"
      ],
      "metadata": {
        "id": "gT57FOtvdyn0"
      }
    },
    {
      "cell_type": "markdown",
      "source": [
        "###2.1 - Listas"
      ],
      "metadata": {
        "id": "H6vpIv6jd7rR"
      }
    },
    {
      "cell_type": "code",
      "source": [
        "dados = input(\"Informe os nomes separados que deseja cadastrar: \")\n",
        "nomes = dados.split()\n",
        "print(nomes)"
      ],
      "metadata": {
        "colab": {
          "base_uri": "https://localhost:8080/"
        },
        "id": "M4CiJ0Gjd6bU",
        "outputId": "c9e8358e-09b6-4ef4-a06c-175ed9855bb4"
      },
      "execution_count": 10,
      "outputs": [
        {
          "output_type": "stream",
          "name": "stdout",
          "text": [
            "Informe os nomes separados que deseja cadastrar: Lourinaldo Alves Gomes dos Anjos (Naldo)\n",
            "['Lourinaldo', 'Alves', 'Gomes', 'dos', 'Anjos', '(Naldo)']\n"
          ]
        }
      ]
    },
    {
      "cell_type": "markdown",
      "source": [
        "Função 'len' (Contagem do número de dados de lista)"
      ],
      "metadata": {
        "id": "iWLQWb57f2dq"
      }
    },
    {
      "cell_type": "code",
      "source": [
        "produtos = ['monitor', 'celular', 'notebook', 'desktop', 'impressora', 'teclado']\n",
        "precos = [800, 2000, 5000, 3000, 1500, ]\n",
        "vendas = [300, 500, 100, 700, 500, 100]\n",
        "estoque_ini = [5000] * 6\n",
        "print(produtos)\n",
        "print(precos)\n",
        "print(vendas)\n",
        "print(estoque_ini)"
      ],
      "metadata": {
        "colab": {
          "base_uri": "https://localhost:8080/"
        },
        "id": "o19lViRagTvN",
        "outputId": "fcd96b07-1494-43e8-8ead-c10d6f6b7240"
      },
      "execution_count": 11,
      "outputs": [
        {
          "output_type": "stream",
          "name": "stdout",
          "text": [
            "['monitor', 'celular', 'notebook', 'desktop', 'impressora', 'teclado']\n",
            "[800, 2000, 5000, 3000, 1500]\n",
            "[300, 500, 100, 700, 500, 100]\n",
            "[5000, 5000, 5000, 5000, 5000, 5000]\n"
          ]
        }
      ]
    },
    {
      "cell_type": "code",
      "source": [
        "produtos = ['monitor', 'celular', 'notebook', 'desktop', 'impressora', 'teclado']\n",
        "descarte = []\n",
        "print(produtos)\n",
        "print(descarte)\n",
        "print(len(produtos))\n",
        "print(len(descarte))"
      ],
      "metadata": {
        "colab": {
          "base_uri": "https://localhost:8080/"
        },
        "id": "7H_2rxZ-h0SM",
        "outputId": "93dfb853-1c29-4fdc-b1eb-f2a4771cba0a"
      },
      "execution_count": 12,
      "outputs": [
        {
          "output_type": "stream",
          "name": "stdout",
          "text": [
            "['monitor', 'celular', 'notebook', 'desktop', 'impressora', 'teclado']\n",
            "[]\n",
            "6\n",
            "0\n"
          ]
        }
      ]
    },
    {
      "cell_type": "markdown",
      "source": [
        "Inserindo valores em uma lista pelo método 'append'"
      ],
      "metadata": {
        "id": "F74bVZ0PirZz"
      }
    },
    {
      "cell_type": "code",
      "source": [
        "descarte = []\n",
        "print(descarte)\n",
        "descarte.append('bateria')# por padrão o método insere o elemento na última posição\n",
        "print(descarte)\n",
        "descarte.append('mouse')\n",
        "print(descarte)\n",
        "descarte.append('pizza')\n",
        "print(descarte)\n",
        "descarte.append('adaptador')\n",
        "print(descarte)"
      ],
      "metadata": {
        "colab": {
          "base_uri": "https://localhost:8080/"
        },
        "id": "aOagS89zin0b",
        "outputId": "4019583c-017d-4d96-c57f-b730d3bdf65a"
      },
      "execution_count": 14,
      "outputs": [
        {
          "output_type": "stream",
          "name": "stdout",
          "text": [
            "[]\n",
            "['bateria']\n",
            "['bateria', 'mouse']\n",
            "['bateria', 'mouse', 'pizza']\n",
            "['bateria', 'mouse', 'pizza', 'adaptador']\n"
          ]
        }
      ]
    },
    {
      "cell_type": "markdown",
      "source": [
        "O método 'append' não permite que escolhemos a posição (indice) de onde desejamos inserir, vamos usar uma 'função' que permita isso."
      ],
      "metadata": {
        "id": "pmk0LF_JkawO"
      }
    },
    {
      "cell_type": "code",
      "source": [
        "descarte = ['bateria', 'mouse', 'pizza', 'adaptador']\n",
        "descarte.insert(0, 'webcam')\n",
        "print(descarte)"
      ],
      "metadata": {
        "colab": {
          "base_uri": "https://localhost:8080/"
        },
        "id": "7mpAsipkjhUp",
        "outputId": "d567e44f-da66-492f-d3e5-ff83f0a89b5d"
      },
      "execution_count": 15,
      "outputs": [
        {
          "output_type": "stream",
          "name": "stdout",
          "text": [
            "['webcam', 'bateria', 'mouse', 'pizza', 'adaptador']\n"
          ]
        }
      ]
    },
    {
      "cell_type": "markdown",
      "source": [
        "Vamos usar uma 'função' para 'substituir' um da lista"
      ],
      "metadata": {
        "id": "T6lStP5Sl5Or"
      }
    },
    {
      "cell_type": "code",
      "source": [
        "descarte = ['bateria', 'mouse', 'pizza', 'adaptador']\n",
        "print(descarte)\n",
        "descarte[0] = 'webcam'\n",
        "print(descarte)"
      ],
      "metadata": {
        "colab": {
          "base_uri": "https://localhost:8080/"
        },
        "id": "CZQwMxE8lr3b",
        "outputId": "9fb073a3-8ac8-4a36-f5b2-4ee6c162e5f8"
      },
      "execution_count": 17,
      "outputs": [
        {
          "output_type": "stream",
          "name": "stdout",
          "text": [
            "['bateria', 'mouse', 'pizza', 'adaptador']\n",
            "['webcam', 'mouse', 'pizza', 'adaptador']\n"
          ]
        }
      ]
    },
    {
      "cell_type": "markdown",
      "source": [
        "Vamos usar uma 'função' para 'apagar' um elemento da lista pelo 'índice'"
      ],
      "metadata": {
        "id": "gJy7F9fDqn-7"
      }
    },
    {
      "cell_type": "code",
      "source": [
        "descarte = ['bateria', 'mouse', 'pizza', 'adaptador']\n",
        "print(descarte)\n",
        "descarte.pop(1)\n",
        "print(descarte)\n",
        "\n"
      ],
      "metadata": {
        "colab": {
          "base_uri": "https://localhost:8080/"
        },
        "id": "pgjsHyh3mq7o",
        "outputId": "c7a9ea9a-5a5a-4719-b577-7b62fd1ba7ae"
      },
      "execution_count": 19,
      "outputs": [
        {
          "output_type": "stream",
          "name": "stdout",
          "text": [
            "['bateria', 'mouse', 'pizza', 'adaptador']\n",
            "['bateria', 'pizza', 'adaptador']\n"
          ]
        }
      ]
    },
    {
      "cell_type": "markdown",
      "source": [
        "Vamos usar uma 'função' para 'apagar' um elemento da lista pelo 'nome'"
      ],
      "metadata": {
        "id": "_NiZyvgbrqXW"
      }
    },
    {
      "cell_type": "code",
      "source": [
        "descarte = ['bateria', 'mouse', 'pizza', 'adaptador']\n",
        "print(descarte)\n",
        "descarte.remove('mouse')\n",
        "print(descarte)"
      ],
      "metadata": {
        "colab": {
          "base_uri": "https://localhost:8080/"
        },
        "id": "dDNudcSdrA77",
        "outputId": "6a094164-8061-4a53-8db4-0858eadc58d7"
      },
      "execution_count": 20,
      "outputs": [
        {
          "output_type": "stream",
          "name": "stdout",
          "text": [
            "['bateria', 'mouse', 'pizza', 'adaptador']\n",
            "['bateria', 'pizza', 'adaptador']\n"
          ]
        }
      ]
    },
    {
      "cell_type": "markdown",
      "source": [
        "Vamos usar uma 'função' para 'procurar' um elemento da lista"
      ],
      "metadata": {
        "id": "9aHhnElDr4gu"
      }
    },
    {
      "cell_type": "code",
      "source": [
        "produtos = ['monitor', 'celular', 'notebook', 'desktop', 'impressora', 'teclado']\n",
        "i = produtos.index('notebook')\n",
        "print(i)"
      ],
      "metadata": {
        "colab": {
          "base_uri": "https://localhost:8080/"
        },
        "id": "g8unD7bEr-qO",
        "outputId": "1b44e02d-cd96-4b73-acf7-c3039c6b1757"
      },
      "execution_count": 22,
      "outputs": [
        {
          "output_type": "stream",
          "name": "stdout",
          "text": [
            "2\n"
          ]
        }
      ]
    },
    {
      "cell_type": "markdown",
      "source": [
        "Crie um programa para fazer uma consulta de estoque.\n",
        "O usuário do programa deve inserir o nome do produto e,\n",
        "caso ele não exista na lista, ele deve ser avisado.\n",
        "Caso exista, o programa deve dizer a quantidade de unidades\n",
        "em estoque do produto"
      ],
      "metadata": {
        "id": "yio85XAtty2E"
      }
    },
    {
      "cell_type": "code",
      "source": [
        "produtos = ['monitor', 'celular', 'notebook', 'desktop', 'impressora', 'teclado']\n",
        "precos = [800, 2000, 5000, 3000, 1500, ]\n",
        "vendas = [300, 500, 100, 700, 500, 100]\n",
        "estoque_ini = [5000] * 6\n",
        "produto = input(\"Informe o nome do produto que deseja consultar: \")\n",
        "if produto not in produtos:\n",
        "  print(f'O produto {produto} não existe')\n",
        "else:\n",
        "  i = produtos.index(produto)\n",
        "  print(f'O produto {produto} tem {estoque_ini[i]} unidades')"
      ],
      "metadata": {
        "colab": {
          "base_uri": "https://localhost:8080/"
        },
        "id": "1jc-wFKKsnMu",
        "outputId": "d13354ac-0984-4b21-ae4f-9ff51265f213"
      },
      "execution_count": 29,
      "outputs": [
        {
          "output_type": "stream",
          "name": "stdout",
          "text": [
            "Informe o nome do produto que deseja consultar: mouse\n",
            "O produto mouse não existe\n"
          ]
        }
      ]
    },
    {
      "cell_type": "markdown",
      "source": [
        "Crie um programa para fazer uma consulta de estoque.\n",
        "O usuário do programa deve inserir o nome do produto e,\n",
        "caso ele não exista na lista, ele deve ser avisado.\n",
        "Caso exista, o programa deve dizer a quantidade de unidades\n",
        "em estoque do produto, seu preço e a sua quantidade vendida no último período"
      ],
      "metadata": {
        "id": "DZBHcGLdw5uR"
      }
    },
    {
      "cell_type": "code",
      "source": [
        "produtos = ['monitor', 'celular', 'notebook', 'desktop', 'impressora', 'teclado']\n",
        "precos = [600, 800, 2000, 5000, 3000, 1500]\n",
        "vendas = [300, 500, 100, 700, 500, 100]\n",
        "estoque_ini = [5000] * 6\n",
        "produto = input(\"Informe o nome do produto que deseja consultar: \")\n",
        "if produto in produtos:\n",
        "  i = produtos.index(produto)\n",
        "  print(f'O produto {produto} tem {estoque_ini[i]} unidades')\n",
        "  print(f'O preço do produto {produto} {precos[i]}')\n",
        "  print(f'Foram vendidas {vendas[i]} unidades, do produto {produto}')\n",
        "else:\n",
        "  print(f'O produto {produto} não existe')"
      ],
      "metadata": {
        "colab": {
          "base_uri": "https://localhost:8080/"
        },
        "id": "PYW_5aedxGKH",
        "outputId": "e3176df9-14a3-4829-8438-a0cb3849df24"
      },
      "execution_count": 39,
      "outputs": [
        {
          "output_type": "stream",
          "name": "stdout",
          "text": [
            "Informe o nome do produto que deseja consultar: desktop\n",
            "O produto desktop tem 5000 unidades\n",
            "O preço do produto desktop 5000\n",
            "Foram vendidas 700 unidades, do produto desktop\n"
          ]
        }
      ]
    },
    {
      "cell_type": "code",
      "source": [],
      "metadata": {
        "id": "EIMh9G9w0QG-"
      },
      "execution_count": 35,
      "outputs": []
    }
  ]
}