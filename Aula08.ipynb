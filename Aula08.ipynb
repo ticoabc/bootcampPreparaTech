{
  "nbformat": 4,
  "nbformat_minor": 0,
  "metadata": {
    "colab": {
      "provenance": [],
      "authorship_tag": "ABX9TyMHNmvSChwW9OK/er7B8j7Z",
      "include_colab_link": true
    },
    "kernelspec": {
      "name": "python3",
      "display_name": "Python 3"
    },
    "language_info": {
      "name": "python"
    }
  },
  "cells": [
    {
      "cell_type": "markdown",
      "metadata": {
        "id": "view-in-github",
        "colab_type": "text"
      },
      "source": [
        "<a href=\"https://colab.research.google.com/github/ticoabc/bootcampPreparaTech/blob/main/Aula08.ipynb\" target=\"_parent\"><img src=\"https://colab.research.google.com/assets/colab-badge.svg\" alt=\"Open In Colab\"/></a>"
      ]
    },
    {
      "cell_type": "markdown",
      "source": [
        "#**Aula 08 - Douglas Ribeiro**\n",
        "*Em Python, o laço while é uma estrutura de repetição que executa um bloco de código enquanto uma condição de teste for verdadeira. A sintaxe básica do while é:*\n",
        "```\n",
        "# while condição:\n",
        "    bloco de código\n",
        "```\n",
        "*Em resumo, o laço while é uma estrutura de repetição que executa um bloco de código enquanto uma condição for verdadeira. A instrução (**break**) pode ser utilizada para interromper a execução do laço antes que a condição seja avaliada como falsa.*"
      ],
      "metadata": {
        "id": "6aYC6gr9Z529"
      }
    },
    {
      "cell_type": "markdown",
      "source": [
        "## *Usando while*"
      ],
      "metadata": {
        "id": "fRbymzMdjgYy"
      }
    },
    {
      "cell_type": "markdown",
      "source": [
        "*Exemplo 1. Crie um programa que receba do usuário cinco valores de notas (0 - 10)\n",
        "calcule a média e informe o usuário a média aritmética dos valores informados*"
      ],
      "metadata": {
        "id": "L7wCj78faPYR"
      }
    },
    {
      "cell_type": "code",
      "source": [
        "#Exemplo 1\n",
        "n1 = float(input('Informe a nota 1 de 0 a 10: '))\n",
        "n2 = float(input('Informe a nota 2 de 0 a 10: '))\n",
        "n3 = float(input('Informe a nota 3 de 0 a 10: '))\n",
        "n4 = float(input('Informe a nota 4 de 0 a 10: '))\n",
        "n5 = float(input('Informe a nota 5 de 0 a 10: '))\n",
        "media = (n1 + n2 + n3 + n4 + n5) / 5\n",
        "print('A média das cindo notas é: ', media)"
      ],
      "metadata": {
        "id": "0DkHwRP7aCY9"
      },
      "execution_count": null,
      "outputs": []
    },
    {
      "cell_type": "markdown",
      "source": [
        "*Exemplo 2. Crie um programa que receba do usuário n valores de notas (0 - 10)\n",
        "calcule a média e informe o usuário a média aritmética dos valores informados\n",
        "Método de resolução com while*"
      ],
      "metadata": {
        "id": "WuuPkNuVdu2l"
      }
    },
    {
      "cell_type": "code",
      "source": [
        "#Exemplo 2\n",
        "notas = []\n",
        "c = 0\n",
        "n =  int(input('Informe a quantidade de notas a inserir no sistema: '))\n",
        "while c < n:\n",
        "  notas.append(float(input('Informe a nota ª de 0 a 10: ')))\n",
        "  c +=1\n",
        "media = sum(notas) / len(notas)\n",
        "print('A média das cindo notas é: ', media)"
      ],
      "metadata": {
        "id": "leQP2LoaddGT"
      },
      "execution_count": null,
      "outputs": []
    },
    {
      "cell_type": "markdown",
      "source": [
        "*Exemplo 3. Crie um programa que receba do usuário n valores de notas (0 - 10)\n",
        "calcule a média e informe o usuário a média aritmética dos valores informados\n",
        "Método de resolução sem while*"
      ],
      "metadata": {
        "id": "h3JCMMRYk5dP"
      }
    },
    {
      "cell_type": "code",
      "source": [
        "#Exemplo 3 - in Range\n",
        "dados = input('Informe as notas de 0 a 10 separados por espaços: ')\n",
        "notas = dados.split()# A saída até aqui sai como uma lista de \"String\"\n",
        "for i in range(len(notas)):\n",
        "  notas[i] = float(notas[i])\n",
        "print(notas)# A saída a partir daqui é convertida em \"float\"\n",
        "sum(notas)# A saída a partir daqui é a soma dos valores em \"float\""
      ],
      "metadata": {
        "id": "g_rsKWYuqyN-"
      },
      "execution_count": null,
      "outputs": []
    },
    {
      "cell_type": "code",
      "source": [
        "#Exemplo 4 - Utilizando for com Enumerate\n",
        "dados = input('Informe as notas de 0 a 10 separados por espaços: ')\n",
        "notas = dados.split()# A saída até aqui sai como uma lista de \"String\"\n",
        "for i, v in enumerate(notas):# A saída até aqui enumera cada volta do laço na...\n",
        "                              #variável \"v\"\n",
        "  print(i, v)\n",
        "  v = float(v)\n",
        "  print(notas)# A saída a partir daqui é convertida em \"float\""
      ],
      "metadata": {
        "id": "6KGAySTWt50f"
      },
      "execution_count": null,
      "outputs": []
    },
    {
      "cell_type": "code",
      "source": [
        "#Exemplo 5 - Utilizando for nota i notas\n",
        "dados = input('Informe a notas de 0 a 10 separadas por espaços: ')\n",
        "notas = dados.split()\n",
        "for nota in notas:\n",
        "  nota = float(nota)\n",
        "print(notas)# A saída a partir daqui é convertida em \"float\""
      ],
      "metadata": {
        "id": "egHXCh1QvnW4"
      },
      "execution_count": null,
      "outputs": []
    },
    {
      "cell_type": "code",
      "source": [
        "#Exemplo 6 - in Range\n",
        "dados = input('Informe a notas de 0 a 10 separadas por espaços: ')\n",
        "notas = dados.split()\n",
        "for i in range(len(notas)):\n",
        "  notas[i] = float(notas[i])\n",
        "media = sum(notas) / len(notas)\n",
        "print('A média das',len(notas), 'notas é: ',media)"
      ],
      "metadata": {
        "id": "8xKoJoSMxKRw"
      },
      "execution_count": null,
      "outputs": []
    },
    {
      "cell_type": "code",
      "source": [
        "#Exemplo 7 - in Range e aplicando o \"Desvio Padrão\"\n",
        "notas = []\n",
        "i = 0\n",
        "print('Informe 5 notas, digite cada uma e pressione enter:')\n",
        "while i < 5:\n",
        "  nota = float(input(f'Digite a nota {i+1}: '))\n",
        "  notas.append(nota)\n",
        "  i+=1\n",
        "\n",
        "media = sum(notas) / len(notas)\n",
        "print(f'A média das notas é {media:.1f}.')\n",
        "quadrado = []\n",
        "for nota in notas:\n",
        "  q = (nota-media)**2\n",
        "  quadrado.append(q)\n",
        "\n",
        "desvio = sum(quadrado)**0.5\n",
        "\n",
        "print(f'O desvio padrão é {desvio:.2f}')"
      ],
      "metadata": {
        "id": "SrFVkIHq894D"
      },
      "execution_count": null,
      "outputs": []
    },
    {
      "cell_type": "markdown",
      "source": [
        "*Exemplo 4. Crie um programa que receba do usuário n valores de notas (0 - 10)\n",
        "calcule a média e informe o usuário a média aritmética dos valores informados\n",
        "Método de resolução sem while*"
      ],
      "metadata": {
        "id": "0gs2uuDiZ2Qq"
      }
    },
    {
      "cell_type": "code",
      "source": [
        "# Resolução Professor\n",
        "# utilizando for com range\n",
        "dados = input('Informe a notas de 0 a 10 separadas por espaços: ')\n",
        "notas = dados.split()\n",
        "for i in range(len(notas)):\n",
        "  notas[i] = float(notas[i])\n",
        "media = sum(notas)/len(notas)\n",
        "print(f'A média das {len(notas)} notas é {media}')\n",
        "quadrado = []\n",
        "for i in range(len(notas)):\n",
        "  quadrado.append((notas[i]-media)**2)\n",
        "desvio = (sum(quadrado)/(len(notas)-1))**0.5\n",
        "print(f'O desvio padrão é {desvio:.2f}')"
      ],
      "metadata": {
        "id": "Rviqxry0ZLDM"
      },
      "execution_count": null,
      "outputs": []
    },
    {
      "cell_type": "code",
      "source": [
        "# Resolução baseada no professor e colegas\n",
        "# Cálculo da média\n",
        "notas = []\n",
        "i = 0\n",
        "print('Você irá digitar 5 notas. Digite cada uma e pressione enter.')\n",
        "while i < 5:#O certo seria sem o \"while\"\n",
        "  nota = float(input(f'Digite a nota {i+1}: '))\n",
        "  notas.append(nota)\n",
        "  i+=1\n",
        "media = sum(notas) / len(notas)\n",
        "print(f'A média das notas é {media:.1f}.')\n",
        "\n",
        "# Cálculo do Desvio Padrão\n",
        "quadrado = []\n",
        "for nota in notas:\n",
        "  quadrado.append((nota-media)**2)\n",
        "soma = sum(quadrado)\n",
        "desvio = (sum(quadrado)/(len(notas)-1))**0.5\n",
        "print(f'O quadrado da média das notas é {quadrado}.')\n",
        "print(f'O soma do quadrado da média das notas é {soma}.')\n",
        "print(f'O desvio padrão é {desvio:.2f}')"
      ],
      "metadata": {
        "id": "-qf-VU2GBW8f"
      },
      "execution_count": null,
      "outputs": []
    },
    {
      "cell_type": "code",
      "source": [
        "#Fabio Jacinto\n",
        "dados = input ('Informe as notas de 0 a 10 separadas por espaços: ')\n",
        "notas=dados.split()\n",
        "notasf=[]\n",
        "for i, v in enumerate(notas):\n",
        "  notasf.append(float(v))\n",
        "\n",
        "media = sum(notasf)/len(notasf)\n",
        "print(f'Médias as Notas:',(media))\n",
        "\n",
        "basedesvp=[]\n",
        "for i, v in enumerate(notasf):\n",
        "  basedesvp.append((v -(media))**2)\n",
        "\n",
        "desvp= (sum(basedesvp)/(len(notasf)-1))**0.5\n",
        "\n",
        "print(f'Desvio padrão : {desvp:.2f}')"
      ],
      "metadata": {
        "id": "HiLI9Oxga4TC"
      },
      "execution_count": null,
      "outputs": []
    },
    {
      "cell_type": "markdown",
      "source": [
        "## *Usando while True*\n",
        "*Em resumo, o laço while é uma estrutura de repetição que executa um bloco de código enquanto uma condição for verdadeira. A instrução (**break**) pode ser utilizada para interromper a execução do laço antes que a condição seja avaliada como falsa.*"
      ],
      "metadata": {
        "id": "mIjGxGF3bAfQ"
      }
    },
    {
      "cell_type": "markdown",
      "source": [
        "*Exemplo 1. Elabore um programa que que receba um número inteiro do usuário e verifique se o número informado é par ou ímpar, se for par imprima uma mensagem dizendo que o número é par e encerre o loop, caso seja ímpar exiba uma mensagem\n",
        "informando que o número não é par e peça para o usuário digitar outro número,\n",
        "até que o número digitado pelo usuário seja par.*"
      ],
      "metadata": {
        "id": "wWWgeQDJjI_2"
      }
    },
    {
      "cell_type": "code",
      "source": [
        "while True:\n",
        "  n =  int(input('Digite um número: '))\n",
        "  if n%2 == 0:\n",
        "    print(n, ' é PAR, valeu! Tchau!')\n",
        "    break\n",
        "  else:\n",
        "    print(n, 'não é PAR, tente novamente')"
      ],
      "metadata": {
        "id": "UygK64wabF84"
      },
      "execution_count": null,
      "outputs": []
    },
    {
      "cell_type": "markdown",
      "source": [
        "*Exemplo 2. Neste exemplo, o laço while é executado indefinidamente, já que a condição é sempre verdadeira (True). Dentro do laço, o programa solicita que o usuário digite a palavra “sair”. Se o usuário digitar “sair”, o laço é interrompido utilizando a instrução break. Caso contrário, o programa exibe uma mensagem de erro.*"
      ],
      "metadata": {
        "id": "X4xXTRnXilf6"
      }
    },
    {
      "cell_type": "code",
      "source": [
        "while True:\n",
        "    resposta = input(\"Digite 'sair' para encerrar o programa: \")\n",
        "    if resposta == 'sair':\n",
        "        break\n",
        "    else:\n",
        "        print(\"Resposta inválida.\")"
      ],
      "metadata": {
        "id": "k0TkMy-PcKvc"
      },
      "execution_count": null,
      "outputs": []
    },
    {
      "cell_type": "markdown",
      "source": [
        "## *Usando while True com try / excpet*"
      ],
      "metadata": {
        "id": "EvfjJzd-mvJp"
      }
    },
    {
      "cell_type": "code",
      "source": [
        "# Exemplo 1\n",
        "try:\n",
        "  n =  float(input('Digite um número: '))\n",
        "  print(n, ' é um número válido, valeu!')\n",
        "except:\n",
        "  print(\"Resposta inválida!\")"
      ],
      "metadata": {
        "id": "DLbgIg3Zm286"
      },
      "execution_count": null,
      "outputs": []
    },
    {
      "cell_type": "code",
      "source": [
        "# Exemplo 2\n",
        "while True:\n",
        "  try:\n",
        "    n =  int(input('Digite um número: '))\n",
        "    if n%2 == 0:\n",
        "      print(n, ' é PAR, valeu! Tchau!')\n",
        "      break\n",
        "    else:\n",
        "      print(n, 'não é PAR, tente novamente')\n",
        "  except:\n",
        "    print(\"Entrada inválida!\")"
      ],
      "metadata": {
        "id": "JO1nOMpGnnJN"
      },
      "execution_count": null,
      "outputs": []
    },
    {
      "cell_type": "code",
      "source": [
        "# Exemplo 2\n",
        "while True:\n",
        "  try:\n",
        "    n1 =  int(input('Digite o numerador: '))\n",
        "    n2 =  int(input('Digite o denominador '))\n",
        "    if n2 != 0:\n",
        "      divisao = n1 / n2\n",
        "      print(f'O resultado é {divisao:.2f}')\n",
        "      break\n",
        "    else:\n",
        "      print('Não se divide por 0')\n",
        "  except:\n",
        "    print(\"Entrada inválida!\")"
      ],
      "metadata": {
        "id": "vt9k5QexouAG"
      },
      "execution_count": null,
      "outputs": []
    },
    {
      "cell_type": "markdown",
      "source": [
        "##**Funções**\n",
        "*Funções são blocos de código que executam funcionalidades específicas. Normalmente são utilizados para evitar que determinada parte do seu código sejá escrito varias vezes. Em Python sua sintaxe é definida usando (**def**) e atribuindo um nome a ela, veja um exemplo:*\n",
        "---\n",
        "    def funcao():\n",
        "      print(\"Bloco de código\")"
      ],
      "metadata": {
        "id": "dAOqGIMsvCeN"
      }
    },
    {
      "cell_type": "code",
      "source": [
        "#Exemplo 1 - IMC *Criando funções definidas pelo usuário*\n",
        "#Função para calcular o imc\n",
        "def imc(peso, altura):\n",
        "  imc = peso / (altura**2)\n",
        "  return imc"
      ],
      "metadata": {
        "id": "hg5zPIeevIWi"
      },
      "execution_count": 11,
      "outputs": []
    },
    {
      "cell_type": "code",
      "source": [
        "#Exemplo 2 - IMC\n",
        "#Função para calcular o imc com entrada de dados do usuário\n",
        "def imc():\n",
        "  peso = float(input('Informe seu peso em KG: '))\n",
        "  altura = float(input('Informe sua altura em metros: '))\n",
        "  imc = peso/altura**2\n",
        "  return imc"
      ],
      "metadata": {
        "id": "oY9kmmMbxG_I"
      },
      "execution_count": 17,
      "outputs": []
    },
    {
      "cell_type": "code",
      "source": [
        "#Exemplo 3 - IMC (Baseado no exercíco do Naldo)\n",
        "#Função para calcular o imc com entrada de dados do usuário e formatando a saída\n",
        "def imc2():\n",
        "  nome = input('Digite seu nome: ')\n",
        "  peso = float(input('Informe seu peso em KG: '))\n",
        "  altura = float(input('Informe sua altura em metros: '))\n",
        "  imc2 = peso/altura**2\n",
        "  #return print(nome, 'tem o IMC de:', {imc2}, '!!!')\n",
        "  return print(f'O resultado é {imc2:.2f}')"
      ],
      "metadata": {
        "id": "idV_xiQV1LQW"
      },
      "execution_count": 25,
      "outputs": []
    },
    {
      "cell_type": "code",
      "source": [
        "imc2()"
      ],
      "metadata": {
        "id": "J8iq8kWf1MQ5"
      },
      "execution_count": null,
      "outputs": []
    }
  ]
}