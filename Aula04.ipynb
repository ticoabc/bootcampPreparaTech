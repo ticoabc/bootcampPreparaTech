{
  "nbformat": 4,
  "nbformat_minor": 0,
  "metadata": {
    "colab": {
      "provenance": [],
      "authorship_tag": "ABX9TyMfWAaMLZX2tsa0nNoaCwMO",
      "include_colab_link": true
    },
    "kernelspec": {
      "name": "python3",
      "display_name": "Python 3"
    },
    "language_info": {
      "name": "python"
    }
  },
  "cells": [
    {
      "cell_type": "markdown",
      "metadata": {
        "id": "view-in-github",
        "colab_type": "text"
      },
      "source": [
        "<a href=\"https://colab.research.google.com/github/ticoabc/bootcampPreparaTech/blob/main/Aula04.ipynb\" target=\"_parent\"><img src=\"https://colab.research.google.com/assets/colab-badge.svg\" alt=\"Open In Colab\"/></a>"
      ]
    },
    {
      "cell_type": "markdown",
      "source": [
        "Aula04: José Magalhães\n",
        "## IF, ELSE, ELIF"
      ],
      "metadata": {
        "id": "sxKvbIayYtPH"
      }
    },
    {
      "cell_type": "code",
      "execution_count": null,
      "metadata": {
        "colab": {
          "base_uri": "https://localhost:8080/"
        },
        "id": "iFPxOhOnYoMy",
        "outputId": "ae1fe1cf-ef0e-4347-afef-3743ebd35396"
      },
      "outputs": [
        {
          "output_type": "stream",
          "name": "stdout",
          "text": [
            "Digite sua nota:80\n",
            "A\n"
          ]
        }
      ],
      "source": [
        "#ELIF é o mesmo que else if\n",
        "#IF faz a primeira verificação\n",
        "#ELIF faz as outras verificações, se houverem.\n",
        "#ELSE faz a última verificação\n",
        "\n",
        "nota = float(input(\"Digite sua nota:\"))\n",
        "if nota >= 80:\n",
        "    print(\"A\")\n",
        "elif 80 <= nota < 90:\n",
        "    print(\"B\")\n",
        "elif 70 <= nota < 80:\n",
        "    print(\"C\")\n",
        "elif 60 <= nota < 70:\n",
        "    print(\"D\")\n",
        "else:\n",
        "    print(\"F\")"
      ]
    },
    {
      "cell_type": "markdown",
      "source": [
        "##Verificação de Strings"
      ],
      "metadata": {
        "id": "MsZD2uuck3fY"
      }
    },
    {
      "cell_type": "code",
      "source": [
        "#Verificação de Credenciais\n",
        "usuario = input(\"Digite seu nome:\")\n",
        "senha = input(\"Digite sua senha:\")\n",
        "\n",
        "#Verificação de Credenciais\n",
        "if usuario == \"admin\" and  senha == \"admin123\":\n",
        "  print(\"Login bem sucedido, Bem vindo Administrador\")\n",
        "elif usuario == \"convidado\" and  senha == \"convidado\":\n",
        "  print(\"Login bem sucedido, Bem vindo convidado\")\n",
        "else:\n",
        "  print(\"Credenciais inálidas! Tente novamente\")"
      ],
      "metadata": {
        "colab": {
          "base_uri": "https://localhost:8080/"
        },
        "id": "bP9_zjvidF90",
        "outputId": "b96e1b11-1c6d-4a5a-91c7-683c2851bbc0"
      },
      "execution_count": null,
      "outputs": [
        {
          "output_type": "stream",
          "name": "stdout",
          "text": [
            "Digite seu nome:admin\n",
            "Digite sua senha:admin123\n",
            "Login bem sucedido, Bem vindo Administrador\n"
          ]
        }
      ]
    },
    {
      "cell_type": "markdown",
      "source": [
        "# Exercícios"
      ],
      "metadata": {
        "id": "ZNhB_dXW0pKY"
      }
    },
    {
      "cell_type": "markdown",
      "source": [
        "### Exercício 1\n",
        "Q1: Crie um programa em Python que solicite ao usuário inserir um número. O programa deve imprimir se o número é positivo, negativo ou zero."
      ],
      "metadata": {
        "id": "JFKV6dh7jAPW"
      }
    },
    {
      "cell_type": "markdown",
      "source": [],
      "metadata": {
        "id": "MdE2uo4R0jeh"
      }
    },
    {
      "cell_type": "code",
      "source": [
        "num = float(input(\"Digite um número: \"))\n",
        "if num >= 0:\n",
        "  print(\"Este número é positivo\")\n",
        "elif num < 0:\n",
        "  print(\"Este número é negativo\")\n",
        "else:\n",
        "  print(\"Este número é 0\")"
      ],
      "metadata": {
        "colab": {
          "base_uri": "https://localhost:8080/"
        },
        "id": "icJA1Qh1jDtN",
        "outputId": "d309e122-9732-4afc-801c-10774ec10885"
      },
      "execution_count": null,
      "outputs": [
        {
          "output_type": "stream",
          "name": "stdout",
          "text": [
            "Digite um número: -1\n",
            "Este número é negativo\n"
          ]
        }
      ]
    },
    {
      "cell_type": "markdown",
      "source": [
        "### Exercício 2\n",
        "Q2: Escreva um programa em Python que solicite ao usuário inserir um número inteiro. O programa deve verificar se o número é par e imprimir uma mensagem indicando se é par ou ímpar."
      ],
      "metadata": {
        "id": "TqZOl2qKxfFS"
      }
    },
    {
      "cell_type": "code",
      "source": [
        "num = float(input(\"Digite um número: \"))\n",
        "restoDivisao = num % 2 # resto de divisão é muito usado para calcular números pares e ímpares\n",
        "if restoDivisao == 0:\n",
        "  print(\"Este número é par\")\n",
        "else:\n",
        "  print(\"Este número é ímpar\")"
      ],
      "metadata": {
        "colab": {
          "base_uri": "https://localhost:8080/"
        },
        "id": "C0_AS_1gxjVS",
        "outputId": "074b7ca7-4ae0-42b0-ef72-21434633e321"
      },
      "execution_count": null,
      "outputs": [
        {
          "output_type": "stream",
          "name": "stdout",
          "text": [
            "Digite um número: 2\n",
            "Este número é par\n"
          ]
        }
      ]
    },
    {
      "cell_type": "markdown",
      "source": [
        "#IF ELIF ELSE Aninhados"
      ],
      "metadata": {
        "id": "sisdY0vNFsiK"
      }
    },
    {
      "cell_type": "code",
      "source": [
        "#IF ELSE Aninhado\n",
        "nota = float(input(\"Digite sua nota: \"))\n",
        "frequencia = float(input(\"Digite sua frequência: \"))\n",
        "\n",
        "if frequencia >= 75:\n",
        "  if nota >= 60:\n",
        "    print(\"Aprovado!!!\")\n",
        "  else:\n",
        "    print(\"Reprovado por nota\")\n",
        "else:\n",
        "  print(\"Reprovado por frequência!!\")"
      ],
      "metadata": {
        "colab": {
          "base_uri": "https://localhost:8080/",
          "height": 0
        },
        "id": "i-A3CBivFjlk",
        "outputId": "ff64c7fc-80e2-4e5c-b182-d79c97e90a1b"
      },
      "execution_count": 16,
      "outputs": [
        {
          "output_type": "stream",
          "name": "stdout",
          "text": [
            "Digite sua nota: 61\n",
            "Digite sua frequência: 75\n",
            "Aprovado!!!\n"
          ]
        }
      ]
    },
    {
      "cell_type": "markdown",
      "source": [
        "###Identação: Uma tecla TAB ou duas teclas 'SPACE'"
      ],
      "metadata": {
        "id": "FLZF5zfHQxPt"
      }
    },
    {
      "cell_type": "code",
      "source": [
        "#Identação: Uma tecla TAB ou duas teclas 'SPACE'\n",
        "saldo = 1250\n",
        "limite = 1000\n",
        "\n",
        "if saldo > 0:\n",
        "  if saldo >= limite:\n",
        "    print(\"Saldo suficiente para compra.\")\n",
        "  else:\n",
        "    print(\"Saldo insuficiente!\")\n",
        "else:\n",
        "  print(\"Conta sem saldo!\")"
      ],
      "metadata": {
        "id": "Afx6mj6jQrfX"
      },
      "execution_count": null,
      "outputs": []
    },
    {
      "cell_type": "markdown",
      "source": [
        "# Exercícios"
      ],
      "metadata": {
        "id": "2KyNKpaUQ3wn"
      }
    },
    {
      "cell_type": "markdown",
      "source": [
        "Q3: Desenvolva um script que peça ao usuário para inserir uma palavra. O programa deve verificar se a palavra é \"Python\" e imprimir uma mensagem correspondente."
      ],
      "metadata": {
        "id": "lKpBwXfsRHWf"
      }
    },
    {
      "cell_type": "code",
      "source": [
        "palavra = input(\"Digite a palavrab 'Python':\")\n",
        "if palavra == \"Python\":\n",
        "  print(\"Parabéns, Bem vindo ao Python\")\n",
        "else:\n",
        "  print(\"Errou Mizeravi! Tente novamente\")"
      ],
      "metadata": {
        "colab": {
          "base_uri": "https://localhost:8080/",
          "height": 0
        },
        "id": "6Vsb6wSPQ9qG",
        "outputId": "1f77724d-f77e-4ab4-a182-e4a90984d857"
      },
      "execution_count": 44,
      "outputs": [
        {
          "output_type": "stream",
          "name": "stdout",
          "text": [
            "Digite a palavrab 'Python':Python\n",
            "Parabéns, Bem vindo ao Python\n"
          ]
        }
      ]
    },
    {
      "cell_type": "markdown",
      "source": [
        "Q4: Elabore um programa que peça ao usuário para inserir um número inteiro. O programa deve verificar se o número é ímpar e imprimir uma mensagem correspondente."
      ],
      "metadata": {
        "id": "OGeH9CZtShI6"
      }
    },
    {
      "cell_type": "code",
      "source": [
        "# resto de divisão é muito usado para calcular números pares e ímpares\n",
        "num = int(input(\"Digite um número: \"))\n",
        "if num % 2 != 0:\n",
        "  print(\"Este número é ímpar\")\n",
        "else:\n",
        "  print(\"Este número é par\")"
      ],
      "metadata": {
        "colab": {
          "base_uri": "https://localhost:8080/",
          "height": 0
        },
        "id": "_C6TjC9lSa1k",
        "outputId": "2f6cef05-2e1b-4832-ae5d-3512d526605f"
      },
      "execution_count": 31,
      "outputs": [
        {
          "output_type": "stream",
          "name": "stdout",
          "text": [
            "Digite um número: 3\n",
            "Este número é ímpar\n"
          ]
        }
      ]
    },
    {
      "cell_type": "markdown",
      "source": [
        "Q5: Desenvolva um programa que analise se um ano é bissexto. Se for bissexto, verifique se é um número ímpar.\n",
        "\n",
        "Anos bissextos são aqueles que são múltiplos de 4, como 1996, 2000, 2004 etc (que podem ser divididos por 4 deixando resto 0).\n",
        "Porém, há uma exceção: múltiplos de 100 que não sejam múltiplos de 400.\n",
        "\n",
        "Uma das duas condições a seguir deve ser verdadeira:\n",
        "Condição 1: Ser múltiplo de 4 e não ser múltiplo de 100\n",
        "Condição 2: Ser múltiplo de 400 (se for múltiplo de 400 automaticamente é de 4)"
      ],
      "metadata": {
        "id": "bqUupJfAViBJ"
      }
    },
    {
      "cell_type": "code",
      "source": [
        "ano = int(input(\"Digite O ANO: \"))\n",
        "if ano % 4 == 0:\n",
        "  print(\"Ano Bissexto, 366 dias\")\n",
        "  if ano % 2 != 0:\n",
        "    print(\"Este ano é um número é ímpar\")\n",
        "  else:\n",
        "    print(ano,\" é um número é Par\")\n",
        "else:\n",
        "  print(\"Ano Regular, 365 dias\")"
      ],
      "metadata": {
        "colab": {
          "base_uri": "https://localhost:8080/"
        },
        "id": "TWN4NQCuTOq5",
        "outputId": "254f10a0-a842-4412-f78f-622e3ebb4083"
      },
      "execution_count": 52,
      "outputs": [
        {
          "output_type": "stream",
          "name": "stdout",
          "text": [
            "Digite O ANO: 1900\n",
            "Ano Bissexto, 366 dias\n",
            "1900  é um número é Par\n"
          ]
        }
      ]
    },
    {
      "cell_type": "markdown",
      "source": [
        "Q6: Crie um programa em python para verificar se um triângulo é equilátero, isósceles e escaleno. Peça para o usuário digitar o valor dos três lados.\n",
        "> Um triângulo equilátero tem como principalcaracterística que todos os seus lados são iguais.\n",
        "> Um triângulo isósceles é um triângulo que tem dois lados iguais.\n",
        "> Um triângulo escaleno é caracterizado por ter três lados de comprimentos diferentes."
      ],
      "metadata": {
        "id": "GwFFarDfh9ur"
      }
    },
    {
      "cell_type": "code",
      "source": [
        "a = int(input('Primeiro lado: '))\n",
        "b = int(input('Segundo  lado: '))\n",
        "c = int(input('Terceiro lado: '))\n",
        "\n",
        "# Testando se é triângulo\n",
        "if (a + b < c) or (a + c < b) or (b + c < a):\n",
        "  print('Nao é um triangulo')\n",
        "elif (a == b) and (a == c) :\n",
        "  print('Equilatero')\n",
        "elif (a==b) or (a==c) or (b==c):\n",
        "  print('Isósceles')\n",
        "else:\n",
        "  print('Escaleno')"
      ],
      "metadata": {
        "colab": {
          "base_uri": "https://localhost:8080/"
        },
        "id": "Xt5RjfeSiClm",
        "outputId": "9a44a9c6-4789-4dda-97c5-9a873b4a9f0e"
      },
      "execution_count": 53,
      "outputs": [
        {
          "output_type": "stream",
          "name": "stdout",
          "text": [
            "Primeiro lado: 1\n",
            "Segundo  lado: 2\n",
            "Terceiro lado: 3\n",
            "Escaleno\n"
          ]
        }
      ]
    },
    {
      "cell_type": "markdown",
      "source": [
        "Q7: Crie um programa que verifica se um número é múltiplo de 3. Se for, avalie se é também divisível por 6."
      ],
      "metadata": {
        "id": "WpvXDKBjlJ_R"
      }
    },
    {
      "cell_type": "code",
      "source": [
        "number = int(input(\"Digite um número: \"))\n",
        "if number % 3 == 0:\n",
        "  if number % 6 == 0:\n",
        "    print( f\"{number} Parabéns!! é divisível por 3 e 6.\")\n",
        "  else:\n",
        "      print( f\"{number} é divisível por 3, mas não por 6.\")\n",
        "else:\n",
        "    print( f\"{number} não é divisível por 3.\")"
      ],
      "metadata": {
        "colab": {
          "base_uri": "https://localhost:8080/"
        },
        "id": "Dxh1pOOylOGg",
        "outputId": "e9ea6c74-ae68-41d4-d0a9-5bf7ed5635f7"
      },
      "execution_count": 56,
      "outputs": [
        {
          "output_type": "stream",
          "name": "stdout",
          "text": [
            "Digite um número: 24\n",
            "24 Parabéns!! é divisível por 3 e 6.\n"
          ]
        }
      ]
    },
    {
      "cell_type": "code",
      "source": [],
      "metadata": {
        "id": "iPQ2fc7snH2L"
      },
      "execution_count": null,
      "outputs": []
    }
  ]
}