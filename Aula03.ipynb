{
  "nbformat": 4,
  "nbformat_minor": 0,
  "metadata": {
    "colab": {
      "provenance": [],
      "authorship_tag": "ABX9TyOTJ2SHB8X3Mz3J6oUGO6Kw",
      "include_colab_link": true
    },
    "kernelspec": {
      "name": "python3",
      "display_name": "Python 3"
    },
    "language_info": {
      "name": "python"
    }
  },
  "cells": [
    {
      "cell_type": "markdown",
      "metadata": {
        "id": "view-in-github",
        "colab_type": "text"
      },
      "source": [
        "<a href=\"https://colab.research.google.com/github/ticoabc/bootcampPreparaTech/blob/main/Aula03.ipynb\" target=\"_parent\"><img src=\"https://colab.research.google.com/assets/colab-badge.svg\" alt=\"Open In Colab\"/></a>"
      ]
    },
    {
      "cell_type": "markdown",
      "source": [
        "Aula03: Franciane Rodrigues\n",
        "### **Operadores de Comparação '=='**\n",
        "\n"
      ],
      "metadata": {
        "id": "b29xzE1OF70p"
      }
    },
    {
      "cell_type": "code",
      "execution_count": 9,
      "metadata": {
        "id": "gCl4mWYCFt_L",
        "colab": {
          "base_uri": "https://localhost:8080/"
        },
        "outputId": "ac47f15b-44bc-4517-d4e3-442feb757572"
      },
      "outputs": [
        {
          "output_type": "stream",
          "name": "stdout",
          "text": [
            "False\n",
            "False\n",
            "True\n",
            "True\n",
            "True\n",
            "False\n",
            "True\n"
          ]
        }
      ],
      "source": [
        "#Testes de comparações '=='\n",
        "# Int\n",
        "a = 3\n",
        "b = 4\n",
        "teste1 = a == b\n",
        "print(teste1)\n",
        "\n",
        "# String\n",
        "a = 'Fran'\n",
        "b = 'fran'\n",
        "teste2 = a == b\n",
        "print(teste2)\n",
        "\n",
        "#Testes de comparações '=='\n",
        "a = 9\n",
        "b = 9.0\n",
        "teste3 = a == b\n",
        "print(teste3)\n",
        "\n",
        "#Testes de comparações '!='\n",
        "a = 4\n",
        "b = 2\n",
        "teste4 = a != b\n",
        "print(teste4)\n",
        "\n",
        "#Testes de comparações '!=' com caixa alta e baixa\n",
        "c = 'alunos'\n",
        "d = 'ALUNOS'\n",
        "teste5 = c != d\n",
        "print(teste5)\n",
        "\n",
        "#Testes de comparações '!=' só com caixa alta\n",
        "d = 'ALUNOS'\n",
        "e = 'ALUNOS'\n",
        "teste6 = d != e\n",
        "print(teste6)\n",
        "\n",
        "#Testes de comparações '!=' com espaço\n",
        "#EspÇOS São 'contados' dentro do Python\n",
        "f = 'ALUNOS '\n",
        "g = 'ALUNOS'\n",
        "teste7 = f != g\n",
        "print(teste7)\n",
        "\n"
      ]
    },
    {
      "cell_type": "markdown",
      "source": [
        "### **Operadores de Comparação ' > '**"
      ],
      "metadata": {
        "id": "9CXDye_-Efbs"
      }
    },
    {
      "cell_type": "code",
      "source": [
        "# Sinal de comparação > (maior que)\n",
        "h = 3\n",
        "i = 2\n",
        "teste8 = h > i\n",
        "print(teste8)\n",
        "\n",
        "# Sinal de comparação > (maior que) com Strings\n",
        "j = 'Franc'\n",
        "k = 'Fran'\n",
        "teste9 = j > k\n",
        "print(teste9)\n",
        "\n",
        "# Sinal de comparação > (maior que) com Strings\n",
        "l = 'fran'\n",
        "m = 'Fran'\n",
        "teste10 = l > m\n",
        "print(teste10)\n",
        "\n",
        "# Sinal de comparação >+ (maior ou igual a)\n",
        "n = 'Franciane'\n",
        "o = 'FRAN'\n",
        "teste11 = n > o\n",
        "print(teste11)\n",
        "\n",
        "# Sinal de comparação >+ (maior ou igual a)\n",
        "p = 3\n",
        "q = 3\n",
        "teste12 = p >= q\n",
        "print(teste12)\n",
        "\n",
        "# Sinal de comparação >+ (maior ou igual a)\n",
        "r = 5\n",
        "s = 7\n",
        "teste13 = r >= s\n",
        "print(teste13)\n",
        "\n",
        "# Sinal de comparação >+ (maior ou igual a)\n",
        "t =\n",
        "u =\n",
        "teste14 = t >= u\n",
        "print(teste14)\n"
      ],
      "metadata": {
        "colab": {
          "base_uri": "https://localhost:8080/"
        },
        "id": "5CMk138xEi9u",
        "outputId": "2172125b-b142-424c-e286-82b2c94f7163"
      },
      "execution_count": 22,
      "outputs": [
        {
          "output_type": "stream",
          "name": "stdout",
          "text": [
            "True\n",
            "True\n",
            "True\n",
            "True\n",
            "True\n",
            "False\n"
          ]
        }
      ]
    },
    {
      "cell_type": "markdown",
      "source": [
        "### Operadores de Comparação ' < '"
      ],
      "metadata": {
        "id": "m8m0aoVHN-a3"
      }
    },
    {
      "cell_type": "code",
      "source": [
        "# Sinal de comparação < (menor que)\n",
        "t = 2\n",
        "u = 2\n",
        "teste15 = t < u\n",
        "print(teste15)\n",
        "\n",
        "# Sinal de comparação < (menor que)\n",
        "v = 1\n",
        "w = 2\n",
        "teste16 = v < w\n",
        "print(teste16)\n",
        "\n",
        "# Vamos usar o <= (menor ou igua a...)\n",
        "x = 2\n",
        "y = 2\n",
        "teste17 = x <= y\n",
        "print(teste17)\n",
        "\n",
        "# Exibir no console de forma direta sem uso do 'print'\n",
        "print(teste17)\n",
        "print('O resultado do teste 17 é: ', teste17)\n",
        "(teste17, 'Exibir no console de forma direta sem uso do \"print\"')\n"
      ],
      "metadata": {
        "colab": {
          "base_uri": "https://localhost:8080/"
        },
        "id": "LxLX_BsROApM",
        "outputId": "c602ccb6-a4e7-4595-dd85-fa40184df5c4"
      },
      "execution_count": 33,
      "outputs": [
        {
          "output_type": "stream",
          "name": "stdout",
          "text": [
            "False\n",
            "True\n",
            "True\n",
            "True\n",
            "O resultado do teste 17 é:  True\n"
          ]
        },
        {
          "output_type": "execute_result",
          "data": {
            "text/plain": [
              "(True, 'Exibir no console de forma direta sem uso do \"print\"')"
            ]
          },
          "metadata": {},
          "execution_count": 33
        }
      ]
    },
    {
      "cell_type": "markdown",
      "source": [
        "### **Operadores de Atribuição**"
      ],
      "metadata": {
        "id": "rXQfxB5dW_-6"
      }
    },
    {
      "cell_type": "code",
      "source": [
        "# Atribuição direta (-)\n",
        "nome = 'Fran'\n",
        "peso = 51\n",
        "altura = 1.65\n",
        "\n",
        "# Atribuição de soma (+-)\n",
        "# Exemplo: crie uma variável que receba o número 3 e depois some 1\n",
        "# para essa variável\n",
        "\n",
        "x = 3 # Entrada do dado\n",
        "x = x + 1 # fazendo uma 'atribuição' a vaiável\n",
        "print('O resultado de x + 1 é: ', x)\n",
        "\n",
        "# Usando o operador de atribuição de 'soma (+=)'\n",
        "# Escrevendo de forma chic e bonita\n",
        "x = 3\n",
        "x += 1\n",
        "print('O resultado de x + 1 é: ', x)\n",
        "\n",
        "# Atribuição de forma extensa)\n",
        "numero1 = 5\n",
        "numero1 = numero1 + 5\n",
        "print('O resultado da soma da variável número1 é: ', numero1)\n",
        "\n",
        "# Atribuição de 'soma (+=)'\n",
        "numero1 = 5\n",
        "numero1 += 5\n",
        "print('O resultado da soma da variável número1 é: ', numero1)\n",
        "\n",
        "# Atribuição de 'subtração (+=)'\n",
        "# Exemplo: crie uma variável que receba o número 5 e depois diminua 2\n",
        "# para essa variável\n",
        "\n",
        "# Atribuição de forma extensa)\n",
        "y = 5 # Entrada do dado\n",
        "y = y - 2 # fazendo uma 'atribuição' a vaiável\n",
        "print(f'O resultado da subtração é: {y}')\n",
        "print('O resultado da subtração é:', y)\n",
        "\n",
        "# Atribuição de forma abreviada)\n",
        "y = 5 # Entrada do dado\n",
        "y -= 2 # fazendo uma 'atribuição' a vaiável\n",
        "print(f'O resultado da subtração é: {y}')\n",
        "print('O resultado da subtração é:', y)"
      ],
      "metadata": {
        "colab": {
          "base_uri": "https://localhost:8080/"
        },
        "id": "m0ed96WPXE3c",
        "outputId": "b195d313-f860-4350-cbc8-c4e785a81163"
      },
      "execution_count": 40,
      "outputs": [
        {
          "output_type": "stream",
          "name": "stdout",
          "text": [
            "O resultado de x + 1 é:  4\n",
            "O resultado de x + 1 é:  4\n",
            "O resultado da soma da variável número1 é:  10\n",
            "O resultado da soma da variável número1 é:  10\n",
            "O resultado da subtração é: 3\n",
            "O resultado da subtração é: 3\n",
            "O resultado da subtração é: 3\n",
            "O resultado da subtração é: 3\n"
          ]
        }
      ]
    },
    {
      "cell_type": "code",
      "source": [],
      "metadata": {
        "id": "u4zBWayrhs4s"
      },
      "execution_count": null,
      "outputs": []
    }
  ]
}