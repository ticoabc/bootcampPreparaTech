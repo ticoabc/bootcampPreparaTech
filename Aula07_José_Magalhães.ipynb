{
  "nbformat": 4,
  "nbformat_minor": 0,
  "metadata": {
    "colab": {
      "provenance": [],
      "authorship_tag": "ABX9TyPIj89k8hvLJgj06PAF2Cz7",
      "include_colab_link": true
    },
    "kernelspec": {
      "name": "python3",
      "display_name": "Python 3"
    },
    "language_info": {
      "name": "python"
    }
  },
  "cells": [
    {
      "cell_type": "markdown",
      "metadata": {
        "id": "view-in-github",
        "colab_type": "text"
      },
      "source": [
        "<a href=\"https://colab.research.google.com/github/ticoabc/bootcampPreparaTech/blob/main/Aula07_Jos%C3%A9_Magalh%C3%A3es.ipynb\" target=\"_parent\"><img src=\"https://colab.research.google.com/assets/colab-badge.svg\" alt=\"Open In Colab\"/></a>"
      ]
    },
    {
      "cell_type": "markdown",
      "source": [
        "#Aula07 - José Magalhães\n",
        "\n",
        "##Estruturas de Repetição"
      ],
      "metadata": {
        "id": "GWw83NDXkWD7"
      }
    },
    {
      "cell_type": "markdown",
      "source": [
        "## *For*"
      ],
      "metadata": {
        "id": "aX3OJkp-j-nW"
      }
    },
    {
      "cell_type": "code",
      "execution_count": null,
      "metadata": {
        "id": "rUnYmeZEjPGF"
      },
      "outputs": [],
      "source": [
        "# Primeiro Exemplo\n",
        "# Primeira função da repetição é percorrer estruturas.\n",
        "# Segunda função criar uma estrutura que precise de múltipla repetição.\n",
        "\n",
        "frutas = [\"maçã\", \"banana\", \"laranja\", \"uva\", \"coco\", \"abacaxi\", \"goiaba\"]\n",
        "print(frutas)\n",
        "for fruta in frutas:\n",
        "  print(fruta)"
      ]
    },
    {
      "cell_type": "code",
      "source": [
        "#Segundo Exemplo\n",
        "#'p' + 'y' + 't' + 'h' + 'o' + 'n'\n",
        "palavra = \"Python\"\n",
        "for letra in palavra:\n",
        "  print(letra)"
      ],
      "metadata": {
        "id": "bEh_g9gQf2FY"
      },
      "execution_count": null,
      "outputs": []
    },
    {
      "cell_type": "code",
      "source": [
        "#Terceiro Exemplo\n",
        "notas = [85,90,78,92,88, 50, 87, 96, 50]\n",
        "soma = 0\n",
        "\n",
        "for nota in notas:\n",
        "# 0 = 0 + 85\n",
        "# 85 = 85 + 90\n",
        "# 175 = 175 + 78\n",
        "# ...\n",
        "#  soma = soma + nota\n",
        "  soma+= nota\n",
        "\n",
        "media = soma / len(notas)\n",
        "print(media)"
      ],
      "metadata": {
        "id": "EieaFo9OgDjm"
      },
      "execution_count": null,
      "outputs": []
    },
    {
      "cell_type": "code",
      "source": [
        "#Quarto Exemplo\n",
        "#O range não considera o último elemento.\n",
        "for i in range(8):\n",
        "  print(i, \"---------------------\")"
      ],
      "metadata": {
        "id": "nLnyu6uurrPf"
      },
      "execution_count": null,
      "outputs": []
    },
    {
      "cell_type": "code",
      "source": [
        "#Quinto Exemplo\n",
        "#Em intervá-los, considera-se o primeiro elemento, mas não se...\n",
        "#...considera o último.\n",
        "for i in range(2,9):\n",
        "  print(i)"
      ],
      "metadata": {
        "id": "Z9Mb6Qyar9pt"
      },
      "execution_count": null,
      "outputs": []
    },
    {
      "cell_type": "code",
      "source": [
        "#Sexto Exemplo\n",
        "#range = [0,1,2,3,4]\n",
        "for i in range(5):\n",
        "  quadrado = i**2\n",
        "  print(f\"O quadrado de {i} é {quadrado}\")"
      ],
      "metadata": {
        "id": "K4VH8DCitsG6"
      },
      "execution_count": null,
      "outputs": []
    },
    {
      "cell_type": "code",
      "source": [
        "#Sétimo Exemplo\n",
        "# Multiplicador = [7, 7, 7, 7]\n",
        "# Multiplicando = [1, 2, 3, 4]\n",
        "# 7 x 1\n",
        "# 7 x 2\n",
        "# ...\n",
        "for multiplicador in range(7,8):\n",
        "  for multiplicando in range(1,11):\n",
        "    resultado = multiplicador * multiplicando\n",
        "    print(f\"{multiplicador} x {multiplicando} = {resultado}\")"
      ],
      "metadata": {
        "id": "kVRzUjICt8Vz"
      },
      "execution_count": null,
      "outputs": []
    },
    {
      "cell_type": "markdown",
      "source": [
        "Q1: Dada a string \"otorrinolaringologista\", crie um loop for para imprimir cada caractere separadamente em linhas diferentes."
      ],
      "metadata": {
        "id": "VdlLS_JNlLG6"
      }
    },
    {
      "cell_type": "code",
      "source": [
        "nome = \"otorrinolaringologista\"\n",
        "for letras in nome:\n",
        "  print(letras)"
      ],
      "metadata": {
        "id": "qHuih3mKktXp"
      },
      "execution_count": null,
      "outputs": []
    },
    {
      "cell_type": "markdown",
      "source": [
        "Q2: Dada a lista de números [2, 4, 6, 8, 10], crie um loop for para imprimir cada número multiplicado por 3."
      ],
      "metadata": {
        "id": "TBrKiv0zmPeL"
      }
    },
    {
      "cell_type": "code",
      "source": [
        "# 1ª Maneira\n",
        "for i in range(5):\n",
        "  quadrado = i*3\n",
        "  print(f\"O número {i} multiplicado por 3 é: {quadrado}\")"
      ],
      "metadata": {
        "id": "U824entAlleR"
      },
      "execution_count": null,
      "outputs": []
    },
    {
      "cell_type": "code",
      "source": [
        "# 2ª Maneira\n",
        "numeros = [2, 4, 6, 8, 10]\n",
        "for numero in numeros:\n",
        "  resultado = numero * 3\n",
        "  print(resultado)"
      ],
      "metadata": {
        "id": "zoq-YnWXu3ku"
      },
      "execution_count": null,
      "outputs": []
    },
    {
      "cell_type": "markdown",
      "source": [
        "Q3: Dada a lista de frutas [\"maçã\", \"banana\", \"uva\", \"melancia\", \"abacaxi\"], crie um loop for para imprimir apenas as frutas que contêm mais de 5 letras."
      ],
      "metadata": {
        "id": "LZ3YOpbTm0EK"
      }
    },
    {
      "cell_type": "code",
      "source": [
        "frutas = [\"maçã\", \"banana\", \"uva\", \"melancia\", \"abacaxi\"]\n",
        "for fruta in frutas:\n",
        "  if len(fruta) >5:\n",
        "    print(fruta)"
      ],
      "metadata": {
        "id": "6XcdlDQwm2_s"
      },
      "execution_count": null,
      "outputs": []
    },
    {
      "cell_type": "markdown",
      "source": [
        "## *While*"
      ],
      "metadata": {
        "id": "yx44R71kInAe"
      }
    },
    {
      "cell_type": "code",
      "source": [
        "# Primeiro Exemplo\n",
        "# O while necessita do contador\n",
        "# O while precisa ser incrementado ou decrementado\n",
        "contagem = 5 #Contador\n",
        "\n",
        "while contagem > 0: #Condição\n",
        "  print(contagem)\n",
        "  contagem -=1\n",
        "  #contagem = contagem - 1"
      ],
      "metadata": {
        "id": "gnJGpbUnK6nH"
      },
      "execution_count": null,
      "outputs": []
    },
    {
      "cell_type": "code",
      "source": [
        "# Segundo Exemplo\n",
        "numero_atual = 2\n",
        "while numero_atual <= 10:\n",
        "  print(numero_atual)\n",
        "  numero_atual +=2"
      ],
      "metadata": {
        "id": "Oh_PzSpO7F62"
      },
      "execution_count": null,
      "outputs": []
    },
    {
      "cell_type": "code",
      "source": [
        "# Terceiro Exemplo\n",
        "limite = 10\n",
        "soma = 0\n",
        "numero_atual = 1\n",
        "\n",
        "while numero_atual <= limite: #condição\n",
        "  soma += numero_atual\n",
        "  # 0 = 0 + 1\n",
        "  # 1 = 1 + 2\n",
        "  # 3 = 3 + 3\n",
        "  numero_atual +=1\n",
        "  print(numero_atual)\n",
        "print(soma)"
      ],
      "metadata": {
        "id": "CTHjRMniLLHT"
      },
      "execution_count": null,
      "outputs": []
    },
    {
      "cell_type": "code",
      "source": [
        "# Quarto Exemplo\n",
        "while True:\n",
        "  nota = float(input(\"Digite sua nota: \"))\n",
        "  if nota >= 90:\n",
        "    print(\"A\")\n",
        "  elif 80 <= nota < 90:\n",
        "    print(\"B\")\n",
        "  elif 70 <= nota < 80:\n",
        "    print(\"C\")\n",
        "  elif 60 <= nota < 70:\n",
        "    print(\"D\")\n",
        "  else:\n",
        "    print(\"F\")"
      ],
      "metadata": {
        "id": "VEBDAwJnLUs8"
      },
      "execution_count": null,
      "outputs": []
    },
    {
      "cell_type": "code",
      "source": [
        "# Quinto Exemplo\n",
        "numero_secreto = 42\n",
        "tentativas = 0\n",
        "palpite = 0\n",
        "\n",
        "while palpite != numero_secreto:\n",
        "  palpite = int(input(\"Adivinhe o número: \"))\n",
        "  tentativas += 1\n",
        "\n",
        "print(f\"Parabéns! Você acertou em {tentativas} tentativas.\")"
      ],
      "metadata": {
        "id": "7tcSgu3KLjFS"
      },
      "execution_count": null,
      "outputs": []
    },
    {
      "cell_type": "code",
      "source": [
        "# Sexto Exemplo\n",
        "senha_correta = \"senha123\"\n",
        "tentativas = 3\n",
        "\n",
        "while tentativas > 0:\n",
        "  senha = input(\"Digite sua senha: \")\n",
        "  if senha == senha_correta:\n",
        "    print(\"Acesso permitido!\")\n",
        "    break\n",
        "  else:\n",
        "    print(f\"Senha incorreta. Tentativas restantes: {tentativas}\")\n",
        "    tentativas -=1\n",
        "else:\n",
        "  print(\"Tentativas esgotadas! Conta bloqueada!\")"
      ],
      "metadata": {
        "id": "OeN94_o5Iqmh"
      },
      "execution_count": null,
      "outputs": []
    },
    {
      "cell_type": "markdown",
      "source": [
        "Q1. Peça ao usuário para inserir um número e, em seguida, use um loop while para contar de volta até 1."
      ],
      "metadata": {
        "id": "1pThGzzAL9JB"
      }
    },
    {
      "cell_type": "code",
      "source": [
        "contagem = int(input(\"Digite um número MAIOR que 1: \")) #Contador\n",
        "while contagem > 0: #Condição\n",
        "  print(contagem)\n",
        "  contagem -=1\n",
        "  #contagem = contagem - 1"
      ],
      "metadata": {
        "id": "n6eqoqDGMAmj"
      },
      "execution_count": null,
      "outputs": []
    },
    {
      "cell_type": "markdown",
      "source": [
        "Q2.Utilize um loop while para imprimir os múltiplos de 3 de 3 a 30."
      ],
      "metadata": {
        "id": "l51wuFSMNinE"
      }
    },
    {
      "cell_type": "code",
      "source": [
        "numero = 3\n",
        "while numero <=30:\n",
        "  print(numero)\n",
        "  numero +=3"
      ],
      "metadata": {
        "id": "pilyjT1tNkR8"
      },
      "execution_count": null,
      "outputs": []
    },
    {
      "cell_type": "markdown",
      "source": [
        "Q3.Peça ao usuário para inserir as notas de um aluno. Continue solicitando notas até que o usuário insira um valor negativo. Calcule a média das notas inseridas e imprima o resultado."
      ],
      "metadata": {
        "id": "ISyR-aeDWMz3"
      }
    },
    {
      "cell_type": "code",
      "source": [
        "#1ª Maneira: Sem lista\n",
        "soma_notas = 0\n",
        "quantidade_notas = 0\n",
        "nota = 0\n",
        "\n",
        "while nota >=0:\n",
        "  nota = float(input(\"Digite a nota do aluno. (Insira um valor negativo, para encerrar.)\"))\n",
        "  if nota >=0:\n",
        "    soma_notas += nota\n",
        "    quantidade_notas += 1\n",
        "\n",
        "if quantidade_notas > 0:\n",
        "  media = soma_notas / quantidade_notas\n",
        "  print(f\"A média das notas é: {media}\")\n",
        "else:\n",
        "  print(\"Nenhuma nota foi inserida.\")"
      ],
      "metadata": {
        "id": "W2QqMCMH79P5"
      },
      "execution_count": null,
      "outputs": []
    },
    {
      "cell_type": "code",
      "source": [
        "#2ª Maneira: Com lista\n",
        "notas = []\n",
        "nota = 0\n",
        "\n",
        "while nota >= 0:\n",
        "  nota = float(input(\"Digite a nota do aluno: (Se desejar sair, digite um núemro negativo.)\"))\n",
        "  if nota >=0:\n",
        "    notas.append(nota)\n",
        "\n",
        "if len(notas) >0:\n",
        "  media = sum(notas) / len(notas)\n",
        "  print(f\"A média das notas é: {media:.2f}\")\n",
        "else:\n",
        "  print(\"Nenhuma nota foi inserida.\")"
      ],
      "metadata": {
        "id": "G8wGVeUPU_Zt"
      },
      "execution_count": null,
      "outputs": []
    },
    {
      "cell_type": "markdown",
      "source": [
        "*Biblioteca Random*"
      ],
      "metadata": {
        "id": "TS2Mapk-Yxuj"
      }
    },
    {
      "cell_type": "code",
      "source": [
        "import random\n",
        "numero_secreto = random.randint(1,20)\n",
        "tentativas = 0\n",
        "limite_tentativas = 5\n",
        "\n",
        "while tentativas < limite_tentativas:\n",
        "  palpite = int(input(\"Advinhe o número: \"))\n",
        "  tentativas +=1\n",
        "\n",
        "  if palpite == numero_secreto:\n",
        "    print(f\"Parabéns! Você acertou em {tentativas} tentativas.\")\n",
        "    break\n",
        "  elif palpite < numero_secreto:\n",
        "    print(\"Tente um número maior.\")\n",
        "  else:\n",
        "    print(\"Tente um número menor.\")\n",
        "\n",
        "if tentativas == limite_tentativas:\n",
        "  print(f\"Limite de tentativas atingido. O número era {numero_secreto}\")"
      ],
      "metadata": {
        "id": "Kn5xg7qLY6A5"
      },
      "execution_count": null,
      "outputs": []
    },
    {
      "cell_type": "markdown",
      "source": [
        "**Crie um programa em Python com as seguintes especificações:\n",
        "Use While + if, elif, else ou For + if, else, elif.\n",
        "Crie um contexto real de uso dessas estruturas.**\n",
        "\n",
        "**Plus (Opcional):\n",
        "Use inputs\n",
        "Use listas\n",
        "**"
      ],
      "metadata": {
        "id": "LO-pFQktgkTe"
      }
    },
    {
      "cell_type": "code",
      "source": [
        "import random\n",
        "opcao = 0\n",
        "while opcao != 9:\n",
        "  print(\"Exercícios Aula 7\")\n",
        "  opcao = int(input(\"Digite a opção [1,2, ...] ou 9 para sair: \"))\n",
        "######################################################################\n",
        "  if opcao == 1:\n",
        "    print(\"Exemplo 1\")\n",
        "    senha_correta = \"senha123\"\n",
        "    tentativas = 3\n",
        "    while tentativas > 0:\n",
        "      senha = input(\"Digite sua senha: \")\n",
        "      if senha == senha_correta:\n",
        "        print(\"Acesso permitido!\")\n",
        "        break\n",
        "      else:\n",
        "        print(f\"Senha incorreta. Tentativas restantes: {tentativas}\")\n",
        "        tentativas -=1\n",
        "    else:\n",
        "      print(\"Tentativas esgotadas! Conta bloqueada!\")\n",
        "######################################################################\n",
        "  if opcao == 2:\n",
        "      print(\"Exemplo 2\")\n",
        "      numero_atual = 2\n",
        "      while numero_atual <= 10:\n",
        "        print(numero_atual)\n",
        "        numero_atual +=2\n",
        "######################################################################\n",
        "  if opcao == 3:\n",
        "    print(\"Exemplo 3\")\n",
        "    contagem = 5 #Contador\n",
        "  while contagem > 0 : #Condição\n",
        "    print(contagem)\n",
        "    contagem -=1\n",
        "    break\n",
        "######################################################################\n",
        "  if opcao == 4:\n",
        "    print(\"Exemplo 4\")\n",
        "    numero_atual = 2\n",
        "  while numero_atual <= 10:\n",
        "    print(numero_atual)\n",
        "    numero_atual +=2\n",
        "    break\n",
        "######################################################################\n",
        "  if opcao == 5:\n",
        "    print(\"Exemplo 5\")\n",
        "  numero_secreto = 42\n",
        "  tentativas = 0\n",
        "  palpite = 0\n",
        "\n",
        "  while palpite != numero_secreto:\n",
        "    palpite = int(input(\"Adivinhe o número: \"))\n",
        "    tentativas += 1\n",
        "  print(f\"Parabéns! Você acertou em {tentativas} tentativa(s).\")\n",
        "  break\n",
        "######################################################################\n",
        "  if opcao == 6:\n",
        "    print(\"Exemplo 6\")\n",
        "  num_secreto = random.randint(1,20)\n",
        "  tentativas = 0\n",
        "  limite_tentativas = 5\n",
        "\n",
        "  while tentativas < limite_tentativas:\n",
        "    palpite = int(input(\"Advinhe o número: \"))\n",
        "    tentativas +=1\n",
        "\n",
        "    if palpite == num_secreto:\n",
        "      print(f\"Parabéns! Você acertou em {tentativas} tentativas.\")\n",
        "      break\n",
        "    elif palpite < num_secreto:\n",
        "      print(\"Tente um número maior.\")\n",
        "    else:\n",
        "      print(\"Tente um número menor.\")\n",
        "\n",
        "  if tentativas == limite_tentativas:\n",
        "    print(f\"Limite de tentativas atingido. O número era {num_secreto}\")\n",
        "    break\n",
        "######################################################################\n",
        "  if opcao == 9:\n",
        "    print(\"Tchau\")\n",
        "else:\n",
        "  resultado = \"opção não encontrada.\""
      ],
      "metadata": {
        "id": "xQ_BrY7TkHi-"
      },
      "execution_count": null,
      "outputs": []
    }
  ]
}