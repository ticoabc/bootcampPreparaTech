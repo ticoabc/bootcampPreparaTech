{
  "nbformat": 4,
  "nbformat_minor": 0,
  "metadata": {
    "colab": {
      "provenance": [],
      "authorship_tag": "ABX9TyOJ2PP+wbSBKDGRYo/Pd8Vc",
      "include_colab_link": true
    },
    "kernelspec": {
      "name": "python3",
      "display_name": "Python 3"
    },
    "language_info": {
      "name": "python"
    }
  },
  "cells": [
    {
      "cell_type": "markdown",
      "metadata": {
        "id": "view-in-github",
        "colab_type": "text"
      },
      "source": [
        "<a href=\"https://colab.research.google.com/github/ticoabc/bootcampPreparaTech/blob/main/Aula06.ipynb\" target=\"_parent\"><img src=\"https://colab.research.google.com/assets/colab-badge.svg\" alt=\"Open In Colab\"/></a>"
      ]
    },
    {
      "cell_type": "markdown",
      "source": [
        "#Aula 06 - Franciane Rodrigues\n",
        "## **Estrutura de dados**\n",
        "\n",
        "1.   Revisão Aula05\n",
        "2.   Tuplas\n",
        "3.   Dicionários\n",
        "4.   O que vimos até agora?\n",
        "\n"
      ],
      "metadata": {
        "id": "rD0FvURxIyjA"
      }
    },
    {
      "cell_type": "markdown",
      "source": [
        "## **Tuplas**\n",
        "*  São imutáveis: uma vez criadas, não podemos alterar.\n",
        "*  São ordenáveis: elas mantem uma ordem especifica, acesso pelo índice\n",
        "*  Heterogeneidade: podem conter elementos de diferentes tipos\n",
        "*  Sintaxe simples: para criar uma tupla utilize parênteses"
      ],
      "metadata": {
        "id": "Hg4pUyn5JFCu"
      }
    },
    {
      "cell_type": "code",
      "execution_count": 8,
      "metadata": {
        "colab": {
          "base_uri": "https://localhost:8080/"
        },
        "id": "_ijLvkNHIdTE",
        "outputId": "76c3b202-5e25-4509-b4f2-b54bb5e694d3"
      },
      "outputs": [
        {
          "output_type": "stream",
          "name": "stdout",
          "text": [
            "Fren, tem 51 kg e 1.53 m\n",
            "Tiago, tem 90 kg e 1.81 m\n",
            "<class 'list'>\n",
            "<class 'tuple'>\n"
          ]
        }
      ],
      "source": [
        "#Criando uma Tupla\n",
        "nomes = ['Fren', 'Tiago']\n",
        "pesos = [51, 90]\n",
        "alturas = [1.53, 1.81]\n",
        "\n",
        "#Acessando dados da Tupla\n",
        "print(f'{nomes[0]}, tem {pesos[0]} kg e {alturas[0]} m')\n",
        "print(f'{nomes[1]}, tem {pesos[1]} kg e {alturas[1]} m')\n",
        "\n",
        "#Transformando listas em tuplas\n",
        "produtos = ['monitor', 'celular', 'notebook', 'desktop', 'impressora', 'teclado']\n",
        "\n",
        "#Tipo lista\n",
        "print(type(produtos))\n",
        "\n",
        "#Tipo tuplas\n",
        "produtos = tuple(produtos)\n",
        "print(type(produtos))"
      ]
    },
    {
      "cell_type": "markdown",
      "source": [
        "## **Dicionários**\n",
        "\n",
        "*  Estrutura Chave-valor: Cada elemento no dicionário consiste em uma chave associada a um valor\n",
        "*  Mutabilidade: Diferentemente das tuplas, os dicionários são **MUTÁVEIS**. Isso significa que você pode adicionar, remover ou modificar elementos em um dicionário após sua criação.\n",
        "*  Chaves únicas: As chaves em um dicionários são únicas, garantindo que não existam chaves duplicadas."
      ],
      "metadata": {
        "id": "KE7MIWo9BKmG"
      }
    },
    {
      "cell_type": "code",
      "source": [
        "# Crie e armazene em um dicionario as informações:\n",
        "# nome, idade, altura e peso\n",
        "funcionario = {'nome':'Franciane',\n",
        "               'idade':33,\n",
        "               'altura':1.65,\n",
        "               'peso':51}\n",
        "print(funcionario)"
      ],
      "metadata": {
        "colab": {
          "base_uri": "https://localhost:8080/"
        },
        "id": "pGk3GbLHBY5A",
        "outputId": "8e5e6004-6cb7-489f-8521-6628cbac7836"
      },
      "execution_count": 9,
      "outputs": [
        {
          "output_type": "stream",
          "name": "stdout",
          "text": [
            "{'nome': 'Franciane', 'idade': 33, 'altura': 1.65, 'peso': 51}\n"
          ]
        }
      ]
    },
    {
      "cell_type": "code",
      "source": [
        "# acessando valor da chave\n",
        "print(funcionario['nome'])\n",
        "print(funcionario['idade'])\n",
        "print(funcionario['altura'])\n",
        "print(funcionario['peso'])"
      ],
      "metadata": {
        "colab": {
          "base_uri": "https://localhost:8080/"
        },
        "id": "0rUQaqSYMG5A",
        "outputId": "d2897f4b-2c1e-4b15-ef6f-29584cdc57d0"
      },
      "execution_count": 10,
      "outputs": [
        {
          "output_type": "stream",
          "name": "stdout",
          "text": [
            "Franciane\n",
            "33\n",
            "1.65\n",
            "51\n"
          ]
        }
      ]
    },
    {
      "cell_type": "code",
      "source": [
        "# Outra forma de acessar valor no meu dicionário\n",
        "print(funcionario.get('nome'))\n",
        "print(funcionario.get('idade'))\n",
        "print(funcionario.get('altura'))\n",
        "print(funcionario.get('peso'))"
      ],
      "metadata": {
        "colab": {
          "base_uri": "https://localhost:8080/"
        },
        "id": "RzwP04FfMJ3E",
        "outputId": "2eb3e8d3-dc71-4d81-edd7-f29074b6dee2"
      },
      "execution_count": 11,
      "outputs": [
        {
          "output_type": "stream",
          "name": "stdout",
          "text": [
            "Franciane\n",
            "33\n",
            "1.65\n",
            "51\n"
          ]
        }
      ]
    },
    {
      "cell_type": "code",
      "source": [
        "# Vamos fazer uma lista dentro de um dicionário\n",
        "dicionario_lista = {'nome':'Franciane',\n",
        "                    'idade': 33,\n",
        "                    'animais':['Bel', 'Kika', 'Bia', 'Bela'],\n",
        "                    'idades':[13, 7, 9, 4]}\n",
        "\n",
        "print(dicionario_lista)"
      ],
      "metadata": {
        "colab": {
          "base_uri": "https://localhost:8080/"
        },
        "id": "LcZG5zKYMPdT",
        "outputId": "fd589e5f-a4e1-426c-c10e-c78098def4d2"
      },
      "execution_count": 12,
      "outputs": [
        {
          "output_type": "stream",
          "name": "stdout",
          "text": [
            "{'nome': 'Franciane', 'idade': 33, 'animais': ['Bel', 'Kika', 'Bia', 'Bela'], 'idades': [13, 7, 9, 4]}\n"
          ]
        }
      ]
    },
    {
      "cell_type": "code",
      "source": [
        "# Métodos importantes\n",
        "# Utilize os métodos keys() e values()\n",
        "# Serve para obter todas as chaves ou valores do dicionário\n",
        "chaves = dicionario_lista.keys()\n",
        "print(chaves)\n",
        "\n",
        "valores = dicionario_lista.values()\n",
        "print(valores)"
      ],
      "metadata": {
        "colab": {
          "base_uri": "https://localhost:8080/"
        },
        "id": "Ps_PrwAYMTJr",
        "outputId": "02a6a96b-6421-4cc2-ea53-374d88a5016e"
      },
      "execution_count": 13,
      "outputs": [
        {
          "output_type": "stream",
          "name": "stdout",
          "text": [
            "dict_keys(['nome', 'idade', 'animais', 'idades'])\n",
            "dict_values(['Franciane', 33, ['Bel', 'Kika', 'Bia', 'Bela'], [13, 7, 9, 4]])\n"
          ]
        }
      ]
    },
    {
      "cell_type": "markdown",
      "source": [
        "## **Operadores Lógicos**"
      ],
      "metadata": {
        "id": "0bZLCcOsl4rG"
      }
    },
    {
      "cell_type": "markdown",
      "source": [
        "## *AND*"
      ],
      "metadata": {
        "id": "7H3i-VFeoEo1"
      }
    },
    {
      "cell_type": "markdown",
      "source": [
        "O que significa?\n",
        "\n",
        "*  (and) Retorna verdadeiro (True) somente se TODAS as condições de uma comparação forem satisfeitas.\n",
        "\n",
        "Combinações:\n",
        "*  V and V = V\n",
        "*  V and F = F\n",
        "*  F and V = F\n",
        "*  F and F = F"
      ],
      "metadata": {
        "id": "JHrAhm7RmP6h"
      }
    },
    {
      "cell_type": "code",
      "source": [
        "teste1 = 3 > 2 and 2 == 3 # V and F\n",
        "print(teste1) # Saída: False"
      ],
      "metadata": {
        "colab": {
          "base_uri": "https://localhost:8080/"
        },
        "id": "rWz-WjJ5mV75",
        "outputId": "d0d04c20-790c-4c61-f87a-b164815a8212"
      },
      "execution_count": 15,
      "outputs": [
        {
          "output_type": "stream",
          "name": "stdout",
          "text": [
            "False\n"
          ]
        }
      ]
    },
    {
      "cell_type": "code",
      "source": [
        "teste2 = 3 > 2 and 3 == 3 # V and V\n",
        "print(teste2) # Saída: True"
      ],
      "metadata": {
        "colab": {
          "base_uri": "https://localhost:8080/"
        },
        "id": "dD2AMzrKmmR9",
        "outputId": "bb517073-2175-4ec4-9085-f058554ed524"
      },
      "execution_count": 16,
      "outputs": [
        {
          "output_type": "stream",
          "name": "stdout",
          "text": [
            "True\n"
          ]
        }
      ]
    },
    {
      "cell_type": "code",
      "source": [
        "# Exercicio: Compare se 3 é menor do que 2 e 3 é igual a 3\n",
        "teste3 = 3 < 2 and 3 == 3 # F and V\n",
        "print(teste3) # Sáida: False"
      ],
      "metadata": {
        "colab": {
          "base_uri": "https://localhost:8080/"
        },
        "id": "GBqdRJWImqp8",
        "outputId": "67a9f50d-d5a6-423e-89e5-6fa2ce20da3c"
      },
      "execution_count": 17,
      "outputs": [
        {
          "output_type": "stream",
          "name": "stdout",
          "text": [
            "False\n"
          ]
        }
      ]
    },
    {
      "cell_type": "code",
      "source": [
        "# Exercicio: Compare se 3 é menor que 2 e 3 se é diferente de 3\n",
        "teste4 = 3 < 2 and 3 != 3 # F and F\n",
        "print(teste4) # Sáida: False"
      ],
      "metadata": {
        "colab": {
          "base_uri": "https://localhost:8080/"
        },
        "id": "stu52ALimvma",
        "outputId": "f9b1a5c2-a8d1-4414-849f-082a4d78d377"
      },
      "execution_count": 18,
      "outputs": [
        {
          "output_type": "stream",
          "name": "stdout",
          "text": [
            "False\n"
          ]
        }
      ]
    },
    {
      "cell_type": "code",
      "source": [
        "# Desafio: Compare se 3 é maior ou igual a 2, se 3 é diferente de 2 e 3 é menor do 4\n",
        "teste5 = 3 >= 2 and 3 != 2 and 3 < 4 # V and V and V\n",
        "\n",
        "print(teste5)\n",
        "print(f'3 >= 2 and 3 != 2 and 3 < 4 é: {teste5}')"
      ],
      "metadata": {
        "colab": {
          "base_uri": "https://localhost:8080/"
        },
        "id": "xjFRte9wmzk7",
        "outputId": "0de24d7a-ee17-4600-d50f-c5519cae08d8"
      },
      "execution_count": 19,
      "outputs": [
        {
          "output_type": "stream",
          "name": "stdout",
          "text": [
            "True\n",
            "3 >= 2 and 3 != 2 and 3 < 4 é: True\n"
          ]
        }
      ]
    },
    {
      "cell_type": "code",
      "source": [
        "idade = 19\n",
        "preco = 40\n",
        "carteira = 60\n",
        "\n",
        "ex1 = idade >= 18 and carteira >= preco # V and V\n",
        "\n",
        "print(ex1)"
      ],
      "metadata": {
        "colab": {
          "base_uri": "https://localhost:8080/"
        },
        "id": "3kxOnlKOm4i6",
        "outputId": "581aee68-7934-4eab-e393-91fc7f63fece"
      },
      "execution_count": 20,
      "outputs": [
        {
          "output_type": "stream",
          "name": "stdout",
          "text": [
            "True\n"
          ]
        }
      ]
    },
    {
      "cell_type": "code",
      "source": [
        "# Sabendo que idade do individuo é de 17 anos e ele possui 60 reais na carteira\n",
        "# Verifique se esse jovem pode comprar uma bebida alcoolica no valor de 40 reais.\n",
        "\n",
        "idade = 17\n",
        "preco = 40\n",
        "carteira = 60\n",
        "\n",
        "ex2 = idade >= 18 and carteira >= preco # F and V\n",
        "print(ex2)"
      ],
      "metadata": {
        "colab": {
          "base_uri": "https://localhost:8080/"
        },
        "id": "f_5OqOYim-R8",
        "outputId": "c720f148-59a3-4b05-af4e-d93e701feb96"
      },
      "execution_count": 21,
      "outputs": [
        {
          "output_type": "stream",
          "name": "stdout",
          "text": [
            "False\n"
          ]
        }
      ]
    },
    {
      "cell_type": "code",
      "source": [
        "# Sabendo que idade do individuo é de 20 anos e ele possui 39.90 reais na carteira\n",
        "# Verifique se esse jovem pode comprar uma bebida alcoolica no valor de 40 reais.\n",
        "\n",
        "idade = 20\n",
        "preco = 40\n",
        "carteira = 39.90\n",
        "\n",
        "ex3 = idade >= 18 and carteira >= preco # V and F\n",
        "print(ex3)"
      ],
      "metadata": {
        "colab": {
          "base_uri": "https://localhost:8080/"
        },
        "id": "aWI-VMHonCNb",
        "outputId": "9f5b50c0-c825-4707-ecea-e19b84eaec2c"
      },
      "execution_count": 22,
      "outputs": [
        {
          "output_type": "stream",
          "name": "stdout",
          "text": [
            "False\n"
          ]
        }
      ]
    },
    {
      "cell_type": "code",
      "source": [
        "# Solução do Vitor\n",
        "jovem = 20\n",
        "maioridade = 18\n",
        "carteira = 39.90\n",
        "bebida = 40\n",
        "\n",
        "ex3 = jovem <= maioridade and carteira > bebida\n",
        "print(ex3)\n",
        "\n",
        "if jovem <= maioridade:\n",
        "  print('Não é permitido a compra')\n",
        "else:\n",
        "  print('Pode comprar')\n",
        "  if carteira >= bebida:\n",
        "    print('Tem dinheiro suficiente para comprar')\n",
        "  else:\n",
        "    print('não tem dinheiro para comprar')"
      ],
      "metadata": {
        "colab": {
          "base_uri": "https://localhost:8080/"
        },
        "id": "kNu8mv0MnGuD",
        "outputId": "6529f7fb-3de3-43b5-a20d-4cf8d43843d0"
      },
      "execution_count": 23,
      "outputs": [
        {
          "output_type": "stream",
          "name": "stdout",
          "text": [
            "False\n",
            "Pode comprar\n",
            "não tem dinheiro para comprar\n"
          ]
        }
      ]
    },
    {
      "cell_type": "markdown",
      "source": [
        "## *OR*"
      ],
      "metadata": {
        "id": "C6rxO8-InbOA"
      }
    },
    {
      "cell_type": "markdown",
      "source": [
        "O que significa?\n",
        "\n",
        "*  (or) Retorna verdadeiro se PELO MENO UM dos elementos for verdadeiro.\n",
        "\n",
        "Combinações (or - ou)\n",
        "\n",
        "*  V or V = V\n",
        "*  V or F = V\n",
        "*  F or V = V\n",
        "*  F or F = F\n",
        "\n",
        "Combinações (and - e):\n",
        "*  V and V = V\n",
        "*  V and F = F\n",
        "*  F and V = F\n",
        "*  F and F = F"
      ],
      "metadata": {
        "id": "NjJPwkTknMeX"
      }
    },
    {
      "cell_type": "code",
      "source": [
        "teste6 = 12 > 10 or 12 == 12 # V or V\n",
        "print(teste6)"
      ],
      "metadata": {
        "colab": {
          "base_uri": "https://localhost:8080/"
        },
        "id": "m5dTbC-bnfKA",
        "outputId": "ca33b826-6009-4651-9404-a3ea443756a8"
      },
      "execution_count": 24,
      "outputs": [
        {
          "output_type": "stream",
          "name": "stdout",
          "text": [
            "True\n"
          ]
        }
      ]
    },
    {
      "cell_type": "code",
      "source": [
        "# Compare se 12 é maior que 10 ou se 12 é diferente de 10\n",
        "# aplique no teste 7\n",
        "teste7 = 12 > 10 or 12 != 10\n",
        "print(teste7)"
      ],
      "metadata": {
        "colab": {
          "base_uri": "https://localhost:8080/"
        },
        "id": "dLzWAG_jnlHB",
        "outputId": "4e8f488b-f461-49ec-9e65-339cc66c8dfc"
      },
      "execution_count": 25,
      "outputs": [
        {
          "output_type": "stream",
          "name": "stdout",
          "text": [
            "True\n"
          ]
        }
      ]
    },
    {
      "cell_type": "code",
      "source": [
        "# Compare se 12 é menor que 10 ou se 12 é diferente de 10\n",
        "# aplique no teste 8\n",
        "teste8 = 12 < 10 or 12 != 10\n",
        "print(teste8)"
      ],
      "metadata": {
        "colab": {
          "base_uri": "https://localhost:8080/"
        },
        "id": "Qsn5Z1Uynoo4",
        "outputId": "f2c274de-dc39-416c-d62d-05ba3e34f844"
      },
      "execution_count": 26,
      "outputs": [
        {
          "output_type": "stream",
          "name": "stdout",
          "text": [
            "True\n"
          ]
        }
      ]
    },
    {
      "cell_type": "code",
      "source": [
        "# Compare se 9 maior que 10 ou se 5 é maior ou igual a 10\n",
        "# aplique no teste 9\n",
        "teste9 = 9 > 10  or 5 >= 10\n",
        "print(teste9)"
      ],
      "metadata": {
        "colab": {
          "base_uri": "https://localhost:8080/"
        },
        "id": "w_Ht_rgInsOo",
        "outputId": "5ceeaece-81d0-4063-bd97-6711e1251f2a"
      },
      "execution_count": 27,
      "outputs": [
        {
          "output_type": "stream",
          "name": "stdout",
          "text": [
            "False\n"
          ]
        }
      ]
    },
    {
      "cell_type": "code",
      "source": [
        "# Sabendo que o preço de um determinado produto seja 40 reais e que\n",
        "# no meu cartão eu tenho disponivel no crédito o valor de 19 reais e\n",
        "# tenho no meu bolso 60 reais\n",
        "# faça a comparação do valor do produto com meu cartão e meu dinheiro\n",
        "# sabendo que eu posso comprar com qualquer um dos dois métodos.\n",
        "\n",
        "preço = 40\n",
        "cartao = 19\n",
        "dinheiro = 60\n",
        "\n",
        "ex6 = cartao >= preco or dinheiro >= preco # F or V\n",
        "print(ex6)"
      ],
      "metadata": {
        "colab": {
          "base_uri": "https://localhost:8080/"
        },
        "id": "Fk1pcnu_ntzI",
        "outputId": "57a12e78-6496-4047-c9ac-a7176baa0cf3"
      },
      "execution_count": 28,
      "outputs": [
        {
          "output_type": "stream",
          "name": "stdout",
          "text": [
            "True\n"
          ]
        }
      ]
    },
    {
      "cell_type": "code",
      "source": [
        "# Sabendo que o preço de um determinado produto seja 40 reais e que\n",
        "# no meu cartão eu tenho disponivel no crédito o valor de 65 reais e\n",
        "# tenho no meu bolso 60 reais\n",
        "# faça a comparação do valor do produto com meu cartão e meu dinheiro\n",
        "# sabendo que eu posso comprar com qualquer um dos dois métodos.\n",
        "\n",
        "preço = 40\n",
        "cartao = 65\n",
        "dinheiro = 60\n",
        "\n",
        "ex7 = cartao >= preco or dinheiro >= preco # V or V\n",
        "print(ex7)"
      ],
      "metadata": {
        "colab": {
          "base_uri": "https://localhost:8080/"
        },
        "id": "F-Gs7VHKn0T3",
        "outputId": "219d5367-e53a-47bb-ade5-9535b6888431"
      },
      "execution_count": 29,
      "outputs": [
        {
          "output_type": "stream",
          "name": "stdout",
          "text": [
            "True\n"
          ]
        }
      ]
    },
    {
      "cell_type": "code",
      "source": [
        "# Sabendo que o preço de um determinado produto seja 41 reais e que\n",
        "# no meu cartão eu tenho disponivel no crédito o valor de 60 reais e\n",
        "# tenho no meu bolso 19 reais\n",
        "# faça a comparação do valor do produto com meu cartão e meu dinheiro\n",
        "# sabendo que eu posso comprar com qualquer um dos dois métodos.\n",
        "\n",
        "preço = 41\n",
        "cartao = 60\n",
        "dinheiro = 19\n",
        "\n",
        "ex8 = cartao >= preco or dinheiro >= preco # V or F\n",
        "print(ex8)"
      ],
      "metadata": {
        "colab": {
          "base_uri": "https://localhost:8080/"
        },
        "id": "UQ6r2r6Yn2Zo",
        "outputId": "164154f6-bcc8-4d50-ad57-3d25297d4741"
      },
      "execution_count": 30,
      "outputs": [
        {
          "output_type": "stream",
          "name": "stdout",
          "text": [
            "True\n"
          ]
        }
      ]
    },
    {
      "cell_type": "code",
      "source": [
        "# Sabendo que o preço de um determinado produto seja 40 reais e que\n",
        "# no meu cartão eu tenho disponivel no crédito o valor de 20 reais e\n",
        "# tenho no meu bolso 15 reais\n",
        "# faça a comparação do valor do produto com meu cartão e meu dinheiro\n",
        "# sabendo que eu posso comprar com qualquer um dos dois métodos.\n",
        "\n",
        "preço = 40\n",
        "cartao = 20\n",
        "dinheiro = 15\n",
        "\n",
        "ex9 = cartao >= preco or dinheiro >= preco # F or F\n",
        "print(ex9)"
      ],
      "metadata": {
        "colab": {
          "base_uri": "https://localhost:8080/"
        },
        "id": "RG91kM8Qn8oi",
        "outputId": "e5221e7f-b0a6-47b5-8451-be1e26be78b6"
      },
      "execution_count": 31,
      "outputs": [
        {
          "output_type": "stream",
          "name": "stdout",
          "text": [
            "False\n"
          ]
        }
      ]
    },
    {
      "cell_type": "markdown",
      "source": [
        "## **O que vimos até agora?**"
      ],
      "metadata": {
        "id": "wwXab5fPjotP"
      }
    },
    {
      "cell_type": "markdown",
      "source": [
        "*  Como utilizar comentários nos códigos ( # ou '''  ''')\n",
        "*  Criar variáveis (=)\n",
        "*  Tipos de variáveis (str, int, float)\n",
        "*  Entrada de Dados (input())\n",
        "*  Operadores matemáticos (+ , - , * , //, %, **)\n",
        "*  Operadores de Comparação ( ==, !=, >, <, <=, >=)\n",
        "*  Operadores de Atribuição (=, +=, -=)\n",
        "*  Estrutura Condicional (if, elif, else)\n",
        "*  Strings e Métodos de Strings\n",
        "*  Operadores de Associação (in, not in)\n",
        "*  Estrutura de Dados (Listas)"
      ],
      "metadata": {
        "id": "hX4uzQrxmiyx"
      }
    },
    {
      "cell_type": "code",
      "source": [],
      "metadata": {
        "id": "L2AeZ7LBmiCX"
      },
      "execution_count": null,
      "outputs": []
    }
  ]
}