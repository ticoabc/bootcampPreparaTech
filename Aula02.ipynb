{
  "nbformat": 4,
  "nbformat_minor": 0,
  "metadata": {
    "colab": {
      "provenance": [],
      "authorship_tag": "ABX9TyNtZ6GIl90n0ltyCMO91ji2",
      "include_colab_link": true
    },
    "kernelspec": {
      "name": "python3",
      "display_name": "Python 3"
    },
    "language_info": {
      "name": "python"
    }
  },
  "cells": [
    {
      "cell_type": "markdown",
      "metadata": {
        "id": "view-in-github",
        "colab_type": "text"
      },
      "source": [
        "<a href=\"https://colab.research.google.com/github/ticoabc/bootcampPreparaTech/blob/main/Aula02.ipynb\" target=\"_parent\"><img src=\"https://colab.research.google.com/assets/colab-badge.svg\" alt=\"Open In Colab\"/></a>"
      ]
    },
    {
      "cell_type": "code",
      "execution_count": 36,
      "metadata": {
        "id": "Jmu1LA51oeF7",
        "colab": {
          "base_uri": "https://localhost:8080/"
        },
        "outputId": "12903400-2ef4-4d25-bdec-84c09be59e0d"
      },
      "outputs": [
        {
          "output_type": "execute_result",
          "data": {
            "text/plain": [
              "float"
            ]
          },
          "metadata": {},
          "execution_count": 36
        }
      ],
      "source": [
        "nome = 'Tiago'\n",
        "idade = 41\n",
        "altura = 1.81\n",
        "type(idade)\n",
        "type(nome)\n",
        "type(altura)"
      ]
    },
    {
      "cell_type": "markdown",
      "source": [
        "Aula02: José Magalhães - Variáveis e Inputs"
      ],
      "metadata": {
        "id": "S1FmdMle-W6h"
      }
    },
    {
      "cell_type": "code",
      "source": [
        "#Input, comando para entrada de dados.\n",
        "#Cast na variável idade para que o valor insserido seja do tipo \"inteiro\"\n",
        "#Erro de sintaxe: código escrito errado\n",
        "#Erro de semântica: erro de contexto, sentido, erro na lógica\n",
        "nome = input('Digite seu nome: ')\n",
        "print('Bom dia', nome)\n",
        "idade = int( input('Digite sua idade: '))\n",
        "print('sua idade é: ', idade)\n",
        "altura = float( input('Digite sua altura: '))\n",
        "print('sua altura é: ', altura)"
      ],
      "metadata": {
        "colab": {
          "base_uri": "https://localhost:8080/",
          "height": 391
        },
        "id": "C91F4vdOrpdD",
        "outputId": "9fb48007-24ca-4bb4-a65e-c4a2b82327eb"
      },
      "execution_count": 37,
      "outputs": [
        {
          "output_type": "error",
          "ename": "KeyboardInterrupt",
          "evalue": "Interrupted by user",
          "traceback": [
            "\u001b[0;31m---------------------------------------------------------------------------\u001b[0m",
            "\u001b[0;31mKeyboardInterrupt\u001b[0m                         Traceback (most recent call last)",
            "\u001b[0;32m<ipython-input-37-3a139b9ffdac>\u001b[0m in \u001b[0;36m<cell line: 5>\u001b[0;34m()\u001b[0m\n\u001b[1;32m      3\u001b[0m \u001b[0;31m#Erro de sintaxe: código escrito errado\u001b[0m\u001b[0;34m\u001b[0m\u001b[0;34m\u001b[0m\u001b[0m\n\u001b[1;32m      4\u001b[0m \u001b[0;31m#Erro de semântica: erro de contexto, sentido, erro na lógica\u001b[0m\u001b[0;34m\u001b[0m\u001b[0;34m\u001b[0m\u001b[0m\n\u001b[0;32m----> 5\u001b[0;31m \u001b[0mnome\u001b[0m \u001b[0;34m=\u001b[0m \u001b[0minput\u001b[0m\u001b[0;34m(\u001b[0m\u001b[0;34m'Digite seu nome: '\u001b[0m\u001b[0;34m)\u001b[0m\u001b[0;34m\u001b[0m\u001b[0;34m\u001b[0m\u001b[0m\n\u001b[0m\u001b[1;32m      6\u001b[0m \u001b[0mprint\u001b[0m\u001b[0;34m(\u001b[0m\u001b[0;34m'Bom dia'\u001b[0m\u001b[0;34m,\u001b[0m \u001b[0mnome\u001b[0m\u001b[0;34m)\u001b[0m\u001b[0;34m\u001b[0m\u001b[0;34m\u001b[0m\u001b[0m\n\u001b[1;32m      7\u001b[0m \u001b[0midade\u001b[0m \u001b[0;34m=\u001b[0m \u001b[0mint\u001b[0m\u001b[0;34m(\u001b[0m \u001b[0minput\u001b[0m\u001b[0;34m(\u001b[0m\u001b[0;34m'Digite sua idade: '\u001b[0m\u001b[0;34m)\u001b[0m\u001b[0;34m)\u001b[0m\u001b[0;34m\u001b[0m\u001b[0;34m\u001b[0m\u001b[0m\n",
            "\u001b[0;32m/usr/local/lib/python3.10/dist-packages/ipykernel/kernelbase.py\u001b[0m in \u001b[0;36mraw_input\u001b[0;34m(self, prompt)\u001b[0m\n\u001b[1;32m    849\u001b[0m                 \u001b[0;34m\"raw_input was called, but this frontend does not support input requests.\"\u001b[0m\u001b[0;34m\u001b[0m\u001b[0;34m\u001b[0m\u001b[0m\n\u001b[1;32m    850\u001b[0m             )\n\u001b[0;32m--> 851\u001b[0;31m         return self._input_request(str(prompt),\n\u001b[0m\u001b[1;32m    852\u001b[0m             \u001b[0mself\u001b[0m\u001b[0;34m.\u001b[0m\u001b[0m_parent_ident\u001b[0m\u001b[0;34m,\u001b[0m\u001b[0;34m\u001b[0m\u001b[0;34m\u001b[0m\u001b[0m\n\u001b[1;32m    853\u001b[0m             \u001b[0mself\u001b[0m\u001b[0;34m.\u001b[0m\u001b[0m_parent_header\u001b[0m\u001b[0;34m,\u001b[0m\u001b[0;34m\u001b[0m\u001b[0;34m\u001b[0m\u001b[0m\n",
            "\u001b[0;32m/usr/local/lib/python3.10/dist-packages/ipykernel/kernelbase.py\u001b[0m in \u001b[0;36m_input_request\u001b[0;34m(self, prompt, ident, parent, password)\u001b[0m\n\u001b[1;32m    893\u001b[0m             \u001b[0;32mexcept\u001b[0m \u001b[0mKeyboardInterrupt\u001b[0m\u001b[0;34m:\u001b[0m\u001b[0;34m\u001b[0m\u001b[0;34m\u001b[0m\u001b[0m\n\u001b[1;32m    894\u001b[0m                 \u001b[0;31m# re-raise KeyboardInterrupt, to truncate traceback\u001b[0m\u001b[0;34m\u001b[0m\u001b[0;34m\u001b[0m\u001b[0m\n\u001b[0;32m--> 895\u001b[0;31m                 \u001b[0;32mraise\u001b[0m \u001b[0mKeyboardInterrupt\u001b[0m\u001b[0;34m(\u001b[0m\u001b[0;34m\"Interrupted by user\"\u001b[0m\u001b[0;34m)\u001b[0m \u001b[0;32mfrom\u001b[0m \u001b[0;32mNone\u001b[0m\u001b[0;34m\u001b[0m\u001b[0;34m\u001b[0m\u001b[0m\n\u001b[0m\u001b[1;32m    896\u001b[0m             \u001b[0;32mexcept\u001b[0m \u001b[0mException\u001b[0m \u001b[0;32mas\u001b[0m \u001b[0me\u001b[0m\u001b[0;34m:\u001b[0m\u001b[0;34m\u001b[0m\u001b[0;34m\u001b[0m\u001b[0m\n\u001b[1;32m    897\u001b[0m                 \u001b[0mself\u001b[0m\u001b[0;34m.\u001b[0m\u001b[0mlog\u001b[0m\u001b[0;34m.\u001b[0m\u001b[0mwarning\u001b[0m\u001b[0;34m(\u001b[0m\u001b[0;34m\"Invalid Message:\"\u001b[0m\u001b[0;34m,\u001b[0m \u001b[0mexc_info\u001b[0m\u001b[0;34m=\u001b[0m\u001b[0;32mTrue\u001b[0m\u001b[0;34m)\u001b[0m\u001b[0;34m\u001b[0m\u001b[0;34m\u001b[0m\u001b[0m\n",
            "\u001b[0;31mKeyboardInterrupt\u001b[0m: Interrupted by user"
          ]
        }
      ]
    },
    {
      "cell_type": "markdown",
      "source": [
        "Aula02: José Magalhães - Operações Matemáticas"
      ],
      "metadata": {
        "id": "MLsiKafkDRLw"
      }
    },
    {
      "cell_type": "markdown",
      "source": [],
      "metadata": {
        "id": "zQvA2oHnDcjn"
      }
    },
    {
      "cell_type": "code",
      "source": [
        "# soma +\n",
        "# subtração\n",
        "# multiplicação\n",
        "# divisão\n",
        "# divisão por inteiro //\n",
        "# resto de divisão %\n",
        "# potenciação **\n",
        "soma = 3 + 3\n",
        "print('Resultado da soma: ',soma)\n",
        "subtracao = 8 - 4\n",
        "print('Resultado da subtração: ',subtracao)\n",
        "multiplicacao = 2 * 3\n",
        "print('Resultado da multiplicação: ',multiplicacao)\n",
        "divisao = 7 / 2\n",
        "print('Resultado da divisão: ',divisao)\n",
        "divInt = 7 // 3\n",
        "print('Resultado da divisão por inteiro: ',divInt)\n",
        "restDiv = 9 % 4\n",
        "print('Resultado do resto de divisão %: ',restDiv)\n",
        "potencia = 2**3\n",
        "print('Resultado da potenciação **: ',potencia)"
      ],
      "metadata": {
        "id": "n77wHBRE4Al8"
      },
      "execution_count": null,
      "outputs": []
    },
    {
      "cell_type": "markdown",
      "source": [
        "Aula02: José Magalhães - Operações Matemáticas"
      ],
      "metadata": {
        "id": "Bz-scba6i4ye"
      }
    },
    {
      "cell_type": "code",
      "source": [
        "num1 = 10\n",
        "num2 = 15\n",
        "num3 = 20\n",
        "resultado = num1 + num2 + num3\n",
        "resultado2 = num1 + (num2 + num3)\n",
        "print('Resultado da 1ª soma: ',resultado)\n",
        "print('Resultado da 2ª soma: ',resultado2)"
      ],
      "metadata": {
        "id": "Y_hmDUB4i8eI"
      },
      "execution_count": null,
      "outputs": []
    },
    {
      "cell_type": "markdown",
      "source": [
        "Entrada de dados pelo usuário"
      ],
      "metadata": {
        "id": "AUXzK20VkFkC"
      }
    },
    {
      "cell_type": "code",
      "source": [
        "n1 = int(input('Digite um número: '))\n",
        "n2 = int(input('Digite outro número: '))\n",
        "novo_resultado = n1 + n2\n",
        "print(novo_resultado)"
      ],
      "metadata": {
        "id": "8RJAgHlgkNCk"
      },
      "execution_count": null,
      "outputs": []
    },
    {
      "cell_type": "markdown",
      "source": [
        "Q1: Declare duas variáveis e realize as quatro operações básicas (soma, subtração, divisão e multiplicação). Ao final, exiba todos os resultados em um print"
      ],
      "metadata": {
        "id": "89_dtr7lrQxV"
      }
    },
    {
      "cell_type": "code",
      "source": [
        "num1 = 10\n",
        "num2 = 20\n",
        "soma = num1 + num2\n",
        "print('Resultado da soma: ',soma)\n",
        "subtracao = num2 - num1\n",
        "print('Resultado da subtração: ',subtracao)\n",
        "multiplicacao = num1 * num2\n",
        "print('Resultado da multiplicação: ',multiplicacao)\n",
        "divisao = int (num2 / num1)\n",
        "print('Resultado da divisão: ',divisao)"
      ],
      "metadata": {
        "id": "RhjRmD-OrSIM"
      },
      "execution_count": null,
      "outputs": []
    },
    {
      "cell_type": "markdown",
      "source": [
        "**Q2: Crie uma variável do tipo float chamada comprimento e outra do tipo float chamada largura. Peça para o usuário inserir esses dados, e realize dois cálculos: area e perímetro, ao final, use print para mostrar os resultados.** área = comprimento * largura e perímetro é igual a soma dos lados.(P = 4 x √A).\n",
        "\n",
        "Para isso é preciso ter o valor da área do quadrado. Assim sendo, é necessário primeiro encontrar a raiz quadrada do valor da área (que vai corresponder ao valor do lado do quadrado) para, em seguida, multiplicar este número por quatro, localizando o perímetro do quadrado. Neste caso a fórmula é P = 4 x √A."
      ],
      "metadata": {
        "id": "-QVtWjVYsWQr"
      }
    },
    {
      "cell_type": "markdown",
      "source": [],
      "metadata": {
        "id": "H6rKb9PzwJ5P"
      }
    },
    {
      "cell_type": "code",
      "source": [
        "comprimento = float(input('Digite o comprimento: '))\n",
        "largura = float(input('Digite a largura: '))\n",
        "area = comprimento * largura\n",
        "#Opção 1\n",
        "perimetro = (4 * (area**0.5))\n",
        "#Opção 2\n",
        "perimetro2 = 2 * (comprimento + largura)\n",
        "print('Área: ',area)\n",
        "print('Perímetro 1: ',perimetro)\n",
        "print('Perímetro 2: ',perimetro2)"
      ],
      "metadata": {
        "colab": {
          "base_uri": "https://localhost:8080/"
        },
        "id": "ayWl-Q1osXVr",
        "outputId": "aa3da24a-55c3-4021-e66a-cb1cdd95ab5d"
      },
      "execution_count": 38,
      "outputs": [
        {
          "output_type": "stream",
          "name": "stdout",
          "text": [
            "Digite o comprimento: 32.5\n",
            "Digite a largura: 22.5\n",
            "Área:  731.25\n",
            "Perímetro 1:  108.16653826391968\n",
            "Perímetro 2:  110.0\n"
          ]
        }
      ]
    },
    {
      "cell_type": "markdown",
      "source": [
        "**Escreva um programa em Python que solicite ao usuário o raio da base e a altura de um cilindro. Calcule e imprima o volume do cilindro usando a fórmula: Volume = π * raio^2 * altura. PI = 3,14**"
      ],
      "metadata": {
        "id": "ZSPIgtch_1zG"
      }
    },
    {
      "cell_type": "code",
      "source": [
        "PI = 3.14\n",
        "raio = float(input('Digite o raio da base: '))\n",
        "#base = float(input('Digite a base: '))\n",
        "altura = float(input('Digite a altura: '))\n",
        "volume = (pi * (raio**2) * altura)\n",
        "print('Volume: ',volume)"
      ],
      "metadata": {
        "colab": {
          "base_uri": "https://localhost:8080/"
        },
        "id": "zcKzZ76u_2ye",
        "outputId": "6ccf8bf4-2fff-4655-fb31-8302cfa57294"
      },
      "execution_count": 43,
      "outputs": [
        {
          "output_type": "stream",
          "name": "stdout",
          "text": [
            "Digite o raio da base: 10.2\n",
            "Digite a altura: 15.4\n",
            "Volume:  5030.95824\n"
          ]
        }
      ]
    },
    {
      "cell_type": "code",
      "source": [],
      "metadata": {
        "id": "9S5Ak6fwA41F"
      },
      "execution_count": null,
      "outputs": []
    }
  ]
}